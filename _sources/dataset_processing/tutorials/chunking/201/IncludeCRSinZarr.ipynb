{
 "cells": [
  {
   "cell_type": "markdown",
   "id": "338bbd68-eb43-4687-a4dc-f3d5f5d46142",
   "metadata": {
    "editable": true,
    "slideshow": {
     "slide_type": ""
    },
    "tags": []
   },
   "source": [
    "# Adding Coordinate Reference Systems (CRS) to Zarr Datasets"
   ]
  },
  {
   "cell_type": "markdown",
   "id": "0d8b8c41-f241-4b6b-9e9c-de7c0d98f236",
   "metadata": {},
   "source": [
    "::::{margin}\n",
    ":::{note}\n",
    "This notebook is a pared down version of the material in [this notebook by Kieran Bartels and Sarah Jordan](https://code.usgs.gov/wma/nhgf/geo-data-portal/gdp_data_processing/-/blob/main/workflows/opendap/CIDA/crs_notebooks/tutorial.ipynb).\n",
    ":::\n",
    "::::"
   ]
  },
  {
   "cell_type": "markdown",
   "id": "6aefa4fe-f265-4803-be6c-11f56f0eefd9",
   "metadata": {},
   "source": [
    "The goal of this notebook is to learn how to add and verify the addition of coordinate reference systems (CRS) to Zarr datasets.\n",
    "We will be utilizing [the Climate and Forecast (CF) Metadata Conventions](https://cfconventions.org/) for our CRS format and to determine where we include the CRS in the Zarr store.\n",
    "While these conventions were [originally designed for NetCDF files](https://cfconventions.org/cf-conventions/cf-conventions.html), Zarr has become the cloud optimized alternative to NetCDF, and it retains the same general metadata and data representation standards.\n",
    "Therefore, we can easily apply the CF conventions to promote the standardization and interoperability of climate data even within Zarr stores."
   ]
  },
  {
   "cell_type": "markdown",
   "id": "f14c6b29-9a49-406b-8c28-5d88ebe82af1",
   "metadata": {},
   "source": [
    "::::{margin}\n",
    ":::{note}\n",
    "See the [blog post by Thomas Martin and Ward Fisher](https://www.unidata.ucar.edu/blogs/news/entry/netcdf-vs-zarr-an-incomplete) for some details on the differences between Zarr and NetCDF.\n",
    ":::\n",
    "::::"
   ]
  },
  {
   "cell_type": "code",
   "execution_count": null,
   "id": "1855bd3c-33d8-4a37-81cf-0d14084c5985",
   "metadata": {},
   "outputs": [],
   "source": [
    "import fsspec\n",
    "import ujson\n",
    "import xarray as xr"
   ]
  },
  {
   "cell_type": "markdown",
   "id": "d0a0f6f0-09c5-4371-8fda-2d4eda6db2d1",
   "metadata": {},
   "source": [
    "## Example Dataset\n",
    "\n",
    "In this notebook, we will use the virtual Zarr store of the daily gridMET dataset that we created in [the notebook on Generating a Virtual Zarr Store](CreateVirtualZarr.ipynb).\n",
    "Note that this means you will need to run that notebook to run this one.\n",
    "However, the contents of this example can easily be used for any Zarr store, virtual or not.\n",
    "The only difference will be how the data is read in.\n",
    "\n",
    "On that note, let's read in the data using [`xarray.open_dataset`](https://docs.xarray.dev/en/stable/generated/xarray.open_dataset.html) and Kerchunk as the engine (i.e., `engine='kerchunk'`)."
   ]
  },
  {
   "cell_type": "code",
   "execution_count": null,
   "id": "c2c18828-52d0-4147-84f6-c45689e3cdb0",
   "metadata": {},
   "outputs": [],
   "source": [
    "ds = xr.open_dataset(\n",
    "    'virtual_zarr/kerchunk/gridmet.json',\n",
    "    engine='kerchunk',\n",
    "    chunks={},\n",
    "    backend_kwargs={\n",
    "        'storage_options': {\n",
    "            'remote_protocol': 's3',\n",
    "            'remote_options': {\n",
    "                'anon': True,\n",
    "                'endpoint_url': 'https://usgs.osn.mghpcc.org/'}\n",
    "        },\n",
    "    }\n",
    ")\n",
    "ds"
   ]
  },
  {
   "cell_type": "markdown",
   "id": "c8f57316-5459-496c-819f-c6cff25f0857",
   "metadata": {},
   "source": [
    "## Identify the CRS\n",
    "\n",
    "A \"[**coordinate reference system**](../back/Glossary.md#term-Coordinate-Reference-System)\" (CRS) is a framework used to precisely measure locations on the surface of Earth as coordinates ([wikipedia.org, 2024](https://en.wikipedia.org/wiki/Spatial_reference_system)).\n",
    "To be CF-Compliant, a dataset must contain a \"grid mapping\" variable that is used to explicitly declare the CRS for any variables with spatial dimensions.\n",
    "Specifically, the grid mapping variable provides the description of the CRS via a collection of attached attributes.\n",
    "Common grid mapping variable names include:\n",
    "- `crs`,\n",
    "- `polar_stereographic`,\n",
    "- `albers_conical_equal_area`,\n",
    "- `rcm_map`.\n",
    " \n",
    "Spatial variables that need the CRS to define their positions are then linked to the grid mapping variable by having a `grid_mapping` attribute, which is set to the name of the grid mapping variable.\n",
    "\n",
    "To locate the grid mapping variable, the first thing is to check for a variable (or coordinate) with one of the common grid mapping variable names.\n",
    "If one exists, it can be confirmed to be the grid mapping by checking a spatial variable for the `grid_mapping` attribute and making sure it points to the grid mapping variable name.\n",
    "If so, you are good to go.\n",
    "If no obvious grid mapping variable is present, you can still check a spatial variable for its `grid_mapping` attribute to see what grid mapping variable it points to.\n",
    "If there is a `grid_mapping` attribute, but no variable present with the name it points to, or if there is no `grid_mapping` attribute at all, you will need to create the CRS given what you know about the data.\n",
    "However, creating a CRS is beyond this notebook and we refer readers to [this notebook by Kieran Bartels and Sarah Jordan](https://code.usgs.gov/wma/nhgf/geo-data-portal/gdp_data_processing/-/blob/main/workflows/opendap/CIDA/crs_notebooks/tutorial.ipynb) on how to add a missing CRS.\n",
    "\n",
    "Okay, now that we know how to identify the CRS, let's look at our data again and check for it."
   ]
  },
  {
   "cell_type": "code",
   "execution_count": null,
   "id": "e279c411-0a1e-400c-bc6f-28b00dd1d203",
   "metadata": {},
   "outputs": [],
   "source": [
    "ds"
   ]
  },
  {
   "cell_type": "markdown",
   "id": "574eb891-4ae9-4963-b98b-476e2f8e4835",
   "metadata": {},
   "source": [
    "Right away, we can see that the dataset has a `crs` coordinate, and a check if a spatial variable, say `precipitation_amount`, shows a `grid_mapping` attribute of `crs`.\n",
    "So, this dataset already has the CRS info, and it is stored in the `crs` coordinate with a dimension of `crs`.\n",
    "\n",
    "## Making the CRS CF compliant\n",
    "\n",
    "While we have the CRS info, to be CF compliant, the CRS needs to be a dimensionless **data variable**.\n",
    "Since it is currently a coordinate with a dimension, we can convert it to a variable by squeezing ([`squeeze`](https://docs.xarray.dev/en/stable/generated/xarray.Dataset.squeeze.html#xarray.Dataset.squeeze)) out the `crs` dimension and reseting the `crs` coordinate ([`reset_coords`](https://docs.xarray.dev/en/stable/generated/xarray.Dataset.reset_coords.html))."
   ]
  },
  {
   "cell_type": "code",
   "execution_count": null,
   "id": "8c7c4cde-abc7-4f75-bf5e-e9cc7adfacbb",
   "metadata": {},
   "outputs": [],
   "source": [
    "ds.squeeze().reset_coords('crs')"
   ]
  },
  {
   "cell_type": "markdown",
   "id": "9643d347-3152-4d06-a6df-16e0edc0343a",
   "metadata": {},
   "source": [
    "Nice, that did it!\n",
    "However, this actually gets us a CF compliant CRS for the **in-memory** dataset, and it does not actually adjust the Zarr store to be CF compliant.\n",
    "As we don't want to rewrite the whole Zarr store, we can fix this by directly adjusting some of the keywords in the json serialized Zarr store.\n",
    "\n",
    "Note: The following code is for our virtual Zarr store, which is a single json file with nested keys that make the Zarr store.\n",
    "See [below](#Adding-CRS-to-a-Regular-Zarr-Store) for how to adjust the CRS in a regular, non-virtual Zarr store."
   ]
  },
  {
   "cell_type": "code",
   "execution_count": null,
   "id": "e36dedcc-bd1f-4905-b199-d317fd095cf9",
   "metadata": {},
   "outputs": [],
   "source": [
    "fs_local = fsspec.filesystem('')\n",
    "\n",
    "virtual_zarr_store = ujson.load(fs_local.open('virtual_zarr/kerchunk/gridmet.json'))\n",
    "\n",
    "zattrs = ujson.loads(virtual_zarr_store['refs']['crs/.zattrs'])\n",
    "zattrs['_ARRAY_DIMENSIONS'] = []\n",
    "virtual_zarr_store['refs']['crs/.zattrs'] = ujson.dumps(zattrs)\n",
    "\n",
    "zarray = ujson.loads(virtual_zarr_store['refs']['crs/.zarray'])\n",
    "zarray['chunks'] = []\n",
    "zarray['shape'] = []\n",
    "virtual_zarr_store['refs']['crs/.zarray'] = ujson.dumps(zarray)\n",
    "\n",
    "with fs_local.open('virtual_zarr/kerchunk/gridmet_cf_crs.json', 'wb') as f:\n",
    "    f.write(ujson.dumps(virtual_zarr_store).encode())"
   ]
  },
  {
   "cell_type": "markdown",
   "id": "825c7d3d-f914-438b-9a12-799420e2c210",
   "metadata": {},
   "source": [
    "Now that we have updated our virtual Zarr store, let's read it in to make sure everything looks right."
   ]
  },
  {
   "cell_type": "code",
   "execution_count": null,
   "id": "af842f45-f1cc-4dd9-b52a-329230c66512",
   "metadata": {},
   "outputs": [],
   "source": [
    "ds = xr.open_dataset(\n",
    "    'virtual_zarr/kerchunk/gridmet_cf_crs.json',\n",
    "    engine='kerchunk',\n",
    "    chunks={},\n",
    "    backend_kwargs={\n",
    "        'storage_options': {\n",
    "            'remote_protocol': 's3',\n",
    "            'remote_options': {\n",
    "                'anon': True,\n",
    "                'endpoint_url': 'https://usgs.osn.mghpcc.org/'}\n",
    "        },\n",
    "    }\n",
    ")\n",
    "ds"
   ]
  },
  {
   "cell_type": "markdown",
   "id": "4e3481c1-f819-4b5f-ab96-aa3acd2b513a",
   "metadata": {
    "editable": true,
    "slideshow": {
     "slide_type": ""
    },
    "tags": []
   },
   "source": [
    "Look at that, easy as can be, and we now have a CF compliant virtual Zarr store!\n",
    "\n",
    "## Adding CRS to a Regular Zarr Store\n",
    "\n",
    "As you may want to apply this process to a regular Zarr store, we have included some code that does the same adjustments as above, but for a regular Zarr store.\n",
    "\n",
    "```python\n",
    "zarr_store_path = 'gridment.zarr'\n",
    "\n",
    "with fs_local.open(f'{zarr_store_path}/crs/.zattrs', 'wb') as f:\n",
    "    orig_metadata = ujson.load(f)        \n",
    "    orig_metadata['_ARRAY_DIMENSIONS'] = []\n",
    "    f.write(ujson.dumps(orig_metadata).encode())\n",
    "\n",
    "with fs_local.open(f'{zarr_store_path}/crs/.zarray', 'wb') as f:\n",
    "    orig_metadata = ujson.load(f)        \n",
    "    orig_metadata['shape'] = []\n",
    "    orig_metadata['chunks'] = []\n",
    "    f.write(ujson.dumps(orig_metadata).encode())\n",
    "```"
   ]
  }
 ],
 "metadata": {
  "language_info": {
   "name": "python"
  }
 },
 "nbformat": 4,
 "nbformat_minor": 5
}
