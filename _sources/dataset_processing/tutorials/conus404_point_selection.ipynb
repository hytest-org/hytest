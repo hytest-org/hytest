{
 "cells": [
  {
   "cell_type": "markdown",
   "id": "3a3edc9f-3c66-4e03-8c75-b147f15b2e50",
   "metadata": {},
   "source": [
    "# CONUS404 Site Data Selection\n",
    "Pull CONUS404 data at a set of lat/lon point locations.\n"
   ]
  },
  {
   "cell_type": "code",
   "execution_count": null,
   "id": "547b851f-3dd9-4b9f-988b-54c743a43bbe",
   "metadata": {},
   "outputs": [],
   "source": [
    "import fsspec\n",
    "import xarray as xr\n",
    "import hvplot.xarray\n",
    "import intake\n",
    "import os\n",
    "import cartopy.crs as ccrs\n",
    "import metpy\n",
    "import warnings\n",
    "import pandas as pd\n",
    "import s3fs\n",
    "import xoak\n",
    "import dask\n",
    "import hvplot.pandas # to add .hvplot to DataFrames\n",
    "from dask.distributed import LocalCluster, Client\n",
    "warnings.filterwarnings('ignore')"
   ]
  },
  {
   "cell_type": "markdown",
   "id": "57354df2-6786-4d1d-859e-1d5099cb85b9",
   "metadata": {},
   "source": [
    "## Open dataset from Intake Catalog\n",
    "* Select `on-prem` dataset from /caldera if running on prem (Denali/Tallgrass)\n",
    "* Select `cloud`/`osn` object store data if running elsewhere"
   ]
  },
  {
   "cell_type": "code",
   "execution_count": null,
   "id": "59cbaa2a-f2a3-4e45-997f-d13cec37d213",
   "metadata": {},
   "outputs": [],
   "source": [
    "# open the hytest data intake catalog\n",
    "hytest_cat = intake.open_catalog(\"https://raw.githubusercontent.com/hytest-org/hytest/main/dataset_catalog/hytest_intake_catalog.yml\")\n",
    "list(hytest_cat)"
   ]
  },
  {
   "cell_type": "code",
   "execution_count": null,
   "id": "2faf85aa",
   "metadata": {},
   "outputs": [],
   "source": [
    "# open the conus404 sub-catalog\n",
    "cat = hytest_cat['conus404-catalog']\n",
    "list(cat)"
   ]
  },
  {
   "cell_type": "code",
   "execution_count": null,
   "id": "bceea39d-78e2-4480-aaf3-0ead09b7e09a",
   "metadata": {},
   "outputs": [],
   "source": [
    "## Select the dataset you want to read into your notebook and preview its metadata\n",
    "dataset = 'conus404-daily-diagnostic-osn' \n",
    "cat[dataset]"
   ]
  },
  {
   "cell_type": "markdown",
   "id": "ecef85f6-01e4-4d84-9cce-0bf409b30637",
   "metadata": {},
   "source": [
    "## Parallelize with Dask \n",
    "Some of the steps we will take are aware of parallel clustered compute environments\n",
    "using `dask`. We're going to start a cluster now so that future steps can take advantage\n",
    "of this ability. \n",
    "\n",
    "This is an optional step, but speed ups data loading significantly, especially \n",
    "when accessing data from the cloud.\n",
    "\n",
    "We have documentation on how to start a Dask Cluster in different computing environments [here](../../environment_set_up/clusters.md)."
   ]
  },
  {
   "cell_type": "code",
   "execution_count": null,
   "id": "7b53296c-839b-4bc2-a5f5-d9b9ad146391",
   "metadata": {},
   "outputs": [],
   "source": [
    "#%run ../../environment_set_up/Start_Dask_Cluster_Nebari.ipynb\n",
    "## If this notebook is not being run on Nebari, replace the above \n",
    "## path name with a helper appropriate to your compute environment.  Examples:\n",
    "# %run ../../environment_set_up/Start_Dask_Cluster_Denali.ipynb\n",
    "# %run ../../environment_set_up/Start_Dask_Cluster_Tallgrass.ipynb\n",
    "# %run ../../environment_set_up/Start_Dask_Cluster_Desktop.ipynb"
   ]
  },
  {
   "cell_type": "markdown",
   "id": "fa71f8a7",
   "metadata": {},
   "source": [
    "## Explore the dataset"
   ]
  },
  {
   "cell_type": "code",
   "execution_count": null,
   "id": "2bd3316b-6e51-4fae-b536-2f5fdbacfd81",
   "metadata": {},
   "outputs": [],
   "source": [
    "ds = cat[dataset].to_dask()"
   ]
  },
  {
   "cell_type": "code",
   "execution_count": null,
   "id": "0cdef426-5db7-4158-87da-8b8b8e739418",
   "metadata": {},
   "outputs": [],
   "source": [
    "ds"
   ]
  },
  {
   "cell_type": "code",
   "execution_count": null,
   "id": "9413d3fe-71b3-4bf0-9ec0-f700c7867cb2",
   "metadata": {},
   "outputs": [],
   "source": [
    "# variables of interest\n",
    "var = ['SKINTEMPMEAN', 'SKINTEMPMAX', 'SKINTEMPMIN', 'SKINTEMPSTD', 'TSKINTEMPMAX', 'TSKINTEMPMIN']"
   ]
  },
  {
   "cell_type": "code",
   "execution_count": null,
   "id": "d3b2ce8a-6499-4413-861c-65d48f7af108",
   "metadata": {},
   "outputs": [],
   "source": [
    "ds_var = ds[var]"
   ]
  },
  {
   "cell_type": "markdown",
   "id": "92fb005e-b473-4a3d-8594-1d815b04c8b7",
   "metadata": {},
   "source": [
    "## Read in point data and clean"
   ]
  },
  {
   "cell_type": "code",
   "execution_count": null,
   "id": "e25503a0-bfbb-4b74-993c-37fa9d518543",
   "metadata": {},
   "outputs": [],
   "source": [
    "points_df = hytest_cat['pointsample-tutorial-sites-osn'].read()\n",
    "print(len(points_df))\n",
    "points_df.head()"
   ]
  },
  {
   "cell_type": "markdown",
   "id": "f342f1fa-b0cc-4208-9a82-2f02c0b10f15",
   "metadata": {},
   "source": [
    "### Drop rows will null lat, lon"
   ]
  },
  {
   "cell_type": "code",
   "execution_count": null,
   "id": "56186e05-95f8-4c36-8a42-e64c3e1b8b0c",
   "metadata": {},
   "outputs": [],
   "source": [
    "points_df[points_df.isnull().any(axis=1)]"
   ]
  },
  {
   "cell_type": "code",
   "execution_count": null,
   "id": "f2cdbaca-1412-4f3e-ae76-15a0f78655d6",
   "metadata": {},
   "outputs": [],
   "source": [
    "# drop rows will null lat, lon\n",
    "points_df.dropna(subset = ['longitude', 'latitude'], inplace=True)\n",
    "print(len(points_df))"
   ]
  },
  {
   "cell_type": "markdown",
   "id": "b2e14d56-2900-4cb8-be40-acf34b09667b",
   "metadata": {},
   "source": [
    "### Set site_id as index"
   ]
  },
  {
   "cell_type": "code",
   "execution_count": null,
   "id": "0c4e9413-2e70-493c-82da-cac01ffd3f2e",
   "metadata": {},
   "outputs": [],
   "source": [
    "#points_df = points_df.set_index(['site_id', 'longitude', 'latitude'])\n",
    "points_df = points_df.set_index(['site_id'])\n",
    "print(len(points_df))"
   ]
  },
  {
   "cell_type": "code",
   "execution_count": null,
   "id": "4e0b3f76-f050-4b8c-bffd-b6e09c8d2573",
   "metadata": {},
   "outputs": [],
   "source": [
    "points_df.head()"
   ]
  },
  {
   "cell_type": "markdown",
   "id": "d93c2062-f41b-4b6b-b934-0cab910185af",
   "metadata": {},
   "source": [
    "### Make sure no site ids are duplicated"
   ]
  },
  {
   "cell_type": "code",
   "execution_count": null,
   "id": "501b59d9-62b5-4710-a94b-79b169c8f13e",
   "metadata": {},
   "outputs": [],
   "source": [
    "points_df[points_df.index.duplicated()]"
   ]
  },
  {
   "cell_type": "markdown",
   "id": "af97625e-c171-4b42-b21c-767a018a4965",
   "metadata": {},
   "source": [
    "### Transform into xarray dataset"
   ]
  },
  {
   "cell_type": "code",
   "execution_count": null,
   "id": "428b6e1a-6cd1-45c9-8b48-ffe4ac638fda",
   "metadata": {},
   "outputs": [],
   "source": [
    "points_ds = xr.Dataset.from_dataframe(points_df)"
   ]
  },
  {
   "cell_type": "code",
   "execution_count": null,
   "id": "ed957bd4-98d1-4c44-b8bc-ce681c6f4b7a",
   "metadata": {},
   "outputs": [],
   "source": [
    "points_ds"
   ]
  },
  {
   "cell_type": "markdown",
   "id": "9abb1b33-ab8e-4c3c-ada8-d9496eb9a9da",
   "metadata": {},
   "source": [
    "## Find data values at point locations\n",
    "First we will use `xoak.set_index` ([docs](https://xoak.readthedocs.io/en/latest/_api_generated/xarray.DataArray.xoak.set_index.html) to set up an index tree that will enable efficient indexing for the lat and lon coordinates in the CONUS404 data subset. We will choose the `sklearn_geo_balltree` method for indexing, which uses the Haversine distance metric and is a good choice for indexing latitude / longitude points."
   ]
  },
  {
   "cell_type": "code",
   "execution_count": null,
   "id": "8f32625f-0857-41ad-aab5-1a79bbaad90d",
   "metadata": {},
   "outputs": [],
   "source": [
    "ds_var.xoak.set_index(['lat', 'lon'], 'sklearn_geo_balltree')"
   ]
  },
  {
   "cell_type": "code",
   "execution_count": null,
   "id": "6f166e1a-2f35-4269-a31d-ab91f55c4356",
   "metadata": {},
   "outputs": [],
   "source": [
    "ds_var.xoak.index"
   ]
  },
  {
   "cell_type": "code",
   "execution_count": null,
   "id": "cfa46882-220c-4178-b98b-dfa1748d307a",
   "metadata": {},
   "outputs": [],
   "source": [
    "#from dask.diagnostics import ProgressBar\n",
    "#with ProgressBar(), dask.config.set(scheduler='processes'):\n",
    "ds_selection = ds_var.xoak.sel(lat=points_ds.latitude, lon=points_ds.longitude)"
   ]
  },
  {
   "cell_type": "code",
   "execution_count": null,
   "id": "6ac73c23-fbb9-4e9b-8b99-46e0dc52ba96",
   "metadata": {},
   "outputs": [],
   "source": [
    "ds_selection"
   ]
  },
  {
   "cell_type": "markdown",
   "id": "b87309a3-dfba-48d8-83e7-c1bf329247c9",
   "metadata": {},
   "source": [
    "## Join selected data back to gage data with site ID, source, lat, lon"
   ]
  },
  {
   "cell_type": "code",
   "execution_count": null,
   "id": "eb640c5a-8ff1-4ef0-a858-e11af98df06f",
   "metadata": {},
   "outputs": [],
   "source": [
    "ds_selection = xr.merge([points_ds, ds_selection])"
   ]
  },
  {
   "cell_type": "markdown",
   "id": "f664d343-8903-44ce-81a0-671e6b0201f7",
   "metadata": {},
   "source": [
    "## Visualize data to verify results"
   ]
  },
  {
   "cell_type": "code",
   "execution_count": null,
   "id": "70fc6394-c78e-4e47-8aa1-0550f616d38b",
   "metadata": {},
   "outputs": [],
   "source": [
    "idx = 300"
   ]
  },
  {
   "cell_type": "code",
   "execution_count": null,
   "id": "f8b24c93-f10d-47f6-9484-e26a11073c04",
   "metadata": {},
   "outputs": [],
   "source": [
    "da = ds_selection.isel(time=idx).load()\n",
    "df = da.to_dataframe()"
   ]
  },
  {
   "cell_type": "code",
   "execution_count": null,
   "id": "16cc77db-2f05-423f-ba82-0f3ce95ce369",
   "metadata": {},
   "outputs": [],
   "source": [
    "df.hvplot.scatter(x='lon', y='lat', c=var[0], colormap='viridis').opts(clim=(260, 300))"
   ]
  },
  {
   "cell_type": "code",
   "execution_count": null,
   "id": "b89a4303-b1c5-4072-b3fe-594f6d99da1f",
   "metadata": {},
   "outputs": [],
   "source": [
    "da_grid = ds_var[var[0]].isel(time=idx).load()\n",
    "da_grid.hvplot.quadmesh(x='lon', y='lat', rasterize=True, geo=True, tiles='OSM', cmap='viridis').opts('Image', clim=(260, 300))"
   ]
  },
  {
   "cell_type": "markdown",
   "id": "ff7d56b1-e32b-46af-8df7-8563350d8d59",
   "metadata": {},
   "source": [
    "## Clean up data for saving"
   ]
  },
  {
   "cell_type": "code",
   "execution_count": null,
   "id": "c2039194-b702-4f17-a4a4-4688cb323f4f",
   "metadata": {},
   "outputs": [],
   "source": [
    "# drop CONUS404 grid cell lat/lon, x/y values that data were pulled from, keeping only site's lat/lon to reduce confusion\n",
    "ds_save = ds_selection.drop_vars([\"lat\", \"lon\", \"x\", \"y\"])"
   ]
  },
  {
   "cell_type": "code",
   "execution_count": null,
   "id": "a4c0eb90-c1d3-449e-ad08-8628dd373dbe",
   "metadata": {},
   "outputs": [],
   "source": [
    "ds_save"
   ]
  },
  {
   "cell_type": "markdown",
   "id": "f1ea40cd-4c7a-462a-ba93-209ace1681f6",
   "metadata": {},
   "source": [
    "## Save netcdf to OSN pod"
   ]
  },
  {
   "cell_type": "code",
   "execution_count": null,
   "id": "73dcf8b2-b1b6-426a-874a-06c3d5f556c8",
   "metadata": {},
   "outputs": [],
   "source": [
    "fs_write = fsspec.filesystem(\n",
    "    's3',\n",
    "    profile='osn-hytest',  ## This is the name of the AWS profile with credentials to write to the output bucket\n",
    "    client_kwargs={'endpoint_url': 'https://usgs.osn.mghpcc.org/'}\n",
    ")"
   ]
  },
  {
   "cell_type": "code",
   "execution_count": null,
   "id": "c91805ba-db57-410b-ab28-bbabd792dfdc",
   "metadata": {},
   "outputs": [],
   "source": [
    "fs_write.ls('hytest')\n",
    "# get intake catalog entry url (intake catalog entry has already been created) to use to write the file\n",
    "outfile = hytest_cat['pointsample-tutorial-output-osn']._entry._yaml()['sources']['pointsample-tutorial-output-osn']['args']['urlpath']\n",
    "local_file = outfile.split('/')[-1]"
   ]
  },
  {
   "cell_type": "markdown",
   "id": "ff2082c0-bc76-4672-9b95-521e9aa3d06b",
   "metadata": {},
   "source": [
    "Uncomment next two cells to save"
   ]
  },
  {
   "cell_type": "code",
   "execution_count": null,
   "id": "daa34019-4d87-4e5a-97ad-1438b35769b2",
   "metadata": {},
   "outputs": [],
   "source": [
    "# %%time\n",
    "# ds_save.to_netcdf(local_file)"
   ]
  },
  {
   "cell_type": "code",
   "execution_count": null,
   "id": "eb93b554-e68a-462d-8755-287150ad9d08",
   "metadata": {},
   "outputs": [],
   "source": [
    "# %%time\n",
    "# fs_write.upload(local_file, outfile)"
   ]
  },
  {
   "cell_type": "code",
   "execution_count": null,
   "id": "66e9a389-19c2-4fbc-81d4-f982d3d1a0f2",
   "metadata": {},
   "outputs": [],
   "source": [
    "# check that file has been written\n",
    "fs_write.ls(outfile.split(local_file)[0])"
   ]
  },
  {
   "cell_type": "code",
   "execution_count": null,
   "id": "e3325f8d-1d2a-4787-ac37-c8d01c98e919",
   "metadata": {},
   "outputs": [],
   "source": [
    "print(f'netcdf file size is {fs_write.size(outfile) / 1048576} MB')"
   ]
  },
  {
   "cell_type": "markdown",
   "id": "66771388-6718-4256-bde8-fdcd7f329e4b",
   "metadata": {},
   "source": [
    "### Read back in the nc data to verify it saved correctly"
   ]
  },
  {
   "cell_type": "code",
   "execution_count": null,
   "id": "17caa87e-34a7-44c3-9dec-6929f4a0cf75",
   "metadata": {},
   "outputs": [],
   "source": [
    "with fs_write.open(outfile) as f:\n",
    "    ds_final = xr.open_dataset(f)"
   ]
  },
  {
   "cell_type": "code",
   "execution_count": null,
   "id": "f9a13bfe-55ab-4072-b4d8-93337202a854",
   "metadata": {},
   "outputs": [],
   "source": [
    "ds_final"
   ]
  }
 ],
 "metadata": {
  "language_info": {
   "name": "python"
  }
 },
 "nbformat": 4,
 "nbformat_minor": 5
}
