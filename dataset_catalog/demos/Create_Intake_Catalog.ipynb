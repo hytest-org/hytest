{
 "cells": [
  {
   "cell_type": "markdown",
   "metadata": {},
   "source": [
    "# Programmatically creating `intake` catalogs\n",
    "\n",
    "Author: Andrew Laws\n",
    "\n",
    "This notebook was used to create a catalog of intermediate datasets used in the CONUS404 tutorial found in `evaluation/tutorials/CONUS404` that are saved to an Open Storage Network (OSN) pod. It is based on the [Project Pythia `intake` Cookbook](https://github.com/ProjectPythia/intake-cookbook).\n",
    "\n",
    "Library imports\n",
    "\n",
    "**Requires intake-xarray and intake-parquet to be installed in envrironment**"
   ]
  },
  {
   "cell_type": "code",
   "execution_count": null,
   "metadata": {},
   "outputs": [],
   "source": [
    "import intake\n",
    "import yaml"
   ]
  },
  {
   "cell_type": "markdown",
   "metadata": {},
   "source": [
    "OSN URIS:\n",
    "<ul>\n",
    "<li>hytest/tutorials/evaluation/conus404/c404_ceres_drb_descriptive_stats.parquet</li>\n",
    " <li>hytest/tutorials/evaluation/conus404/c404_crn_drb_descriptive_stats.parquet</li>\n",
    " <li>hytest/tutorials/evaluation/conus404/c404_crn_drb_point_values.parquet</li>\n",
    " <li>hytest/tutorials/evaluation/conus404/c404_drb.zarr</li>\n",
    " <li>hytest/tutorials/evaluation/conus404/c404_drb_zonal_stats.parquet</li>\n",
    " <li>hytest/tutorials/evaluation/conus404/c404_hcn_drb_descriptive_stats.parquet</li>\n",
    " <li>hytest/tutorials/evaluation/conus404/c404_hcn_drb_point_values.parquet</li>\n",
    " <li>hytest/tutorials/evaluation/conus404/c404_prism_drb_descriptive_stats.parquet</li>\n",
    " <li>hytest/tutorials/evaluation/conus404/ceres_drb.zarr</li>\n",
    " <li>hytest/tutorials/evaluation/conus404/ceres_drb_zonal_stats.parquet</li>\n",
    " <li>hytest/tutorials/evaluation/conus404/crn_drb.parquet</li>\n",
    " <li>hytest/tutorials/evaluation/conus404/hcn_drb.parquet</li>\n",
    " <li>hytest/tutorials/evaluation/conus404/prism_drb.zarr</li>\n",
    " <li>hytest/tutorials/evaluation/conus404/prism_drb_zonal_stats.parquet</li>\n",
    "</ul>"
   ]
  },
  {
   "cell_type": "markdown",
   "metadata": {},
   "source": [
    "## Base datasets that have been spatially/temporally subset"
   ]
  },
  {
   "cell_type": "code",
   "execution_count": null,
   "metadata": {},
   "outputs": [],
   "source": [
    "base_URI = \"s3://hytest/tutorials/evaluation/conus404/\"\n",
    "storage_options = dict(endpoint_url=\"https://usgs.osn.mghpcc.org/\", anon=True)"
   ]
  },
  {
   "cell_type": "markdown",
   "metadata": {},
   "source": [
    "CONUS404 zarr"
   ]
  },
  {
   "cell_type": "code",
   "execution_count": null,
   "metadata": {},
   "outputs": [],
   "source": [
    "c404_URI = base_URI + \"c404_drb.zarr\"\n",
    "print(c404_URI)"
   ]
  },
  {
   "cell_type": "code",
   "execution_count": null,
   "metadata": {},
   "outputs": [],
   "source": [
    "c404_source = intake.open_zarr(\n",
    "    c404_URI,\n",
    "    storage_options=storage_options,\n",
    "    chunks={},\n",
    "    consolidated=True,\n",
    "    decode_coords=\"all\",\n",
    ")\n",
    "\n",
    "c404_source.name = \"conus404-drb-OSN\"\n",
    "c404_source.description = \"CONUS404 Delaware River Basin subset, 40 years of monthly data for CONUS404 forcings evaluation\"\n",
    "print(c404_source.yaml())"
   ]
  },
  {
   "cell_type": "code",
   "execution_count": null,
   "metadata": {},
   "outputs": [],
   "source": [
    "source_dict = yaml.load(c404_source.yaml(), Loader=yaml.CLoader)\n",
    "source_dict"
   ]
  },
  {
   "cell_type": "code",
   "execution_count": null,
   "metadata": {},
   "outputs": [],
   "source": [
    "sources = source_dict[\"sources\"]\n",
    "sources"
   ]
  },
  {
   "cell_type": "markdown",
   "metadata": {},
   "source": [
    "PRISM zarr"
   ]
  },
  {
   "cell_type": "code",
   "execution_count": null,
   "metadata": {},
   "outputs": [],
   "source": [
    "prism_URI = base_URI + \"prism_drb.zarr\"\n",
    "prism_source = intake.open_zarr(\n",
    "    prism_URI,\n",
    "    storage_options=storage_options,\n",
    "    chunks={},\n",
    "    consolidated=True,\n",
    "    decode_coords=\"all\",\n",
    ")\n",
    "\n",
    "prism_source.name = \"prism-drb-OSN\"\n",
    "prism_source.description = \"PRISM Delaware River Basin subset, 40 years of monthly data for CONUS404 forcings evaluation\"\n",
    "\n",
    "sources[prism_source.name] = yaml.load(prism_source.yaml(), Loader=yaml.CLoader)[\n",
    "    \"sources\"\n",
    "][prism_source.name]\n",
    "# sources\n"
   ]
  },
  {
   "cell_type": "markdown",
   "metadata": {},
   "source": [
    "CERES-EBAF zarr"
   ]
  },
  {
   "cell_type": "code",
   "execution_count": null,
   "metadata": {},
   "outputs": [],
   "source": [
    "ceres_URI = base_URI + \"ceres_drb.zarr\"\n",
    "ceres_source = intake.open_zarr(\n",
    "    ceres_URI,\n",
    "    storage_options=storage_options,\n",
    "    chunks={},\n",
    "    consolidated=True,\n",
    "    decode_coords=\"all\",\n",
    ")\n",
    "\n",
    "ceres_source.name = \"ceres-drb-OSN\"\n",
    "ceres_source.description = \"CERES-EBAF Delaware River Basin subset, 40 years of monthly data for CONUS404 forcings evaluation\"\n",
    "\n",
    "sources[ceres_source.name] = yaml.load(ceres_source.yaml(), Loader=yaml.CLoader)[\n",
    "    \"sources\"\n",
    "][ceres_source.name]\n",
    "# sources\n"
   ]
  },
  {
   "cell_type": "markdown",
   "metadata": {},
   "source": [
    "HCN parquet"
   ]
  },
  {
   "cell_type": "code",
   "execution_count": null,
   "metadata": {},
   "outputs": [],
   "source": [
    "hcn_URI = base_URI + \"hcn_drb.parquet\"\n",
    "hcn_source = intake.open_parquet(hcn_URI, storage_options=storage_options)\n",
    "hcn_source.name = \"hcn-drb-OSN\"\n",
    "hcn_source.description = \"Historical Climate Network subset, 40 years of monthly data for CONUS404 forcings evaluation\"\n",
    "sources[hcn_source.name] = yaml.load(hcn_source.yaml(), Loader=yaml.CLoader)[\"sources\"][\n",
    "    hcn_source.name\n",
    "]\n",
    "# sources\n"
   ]
  },
  {
   "cell_type": "markdown",
   "metadata": {},
   "source": [
    "CRN parquet"
   ]
  },
  {
   "cell_type": "code",
   "execution_count": null,
   "metadata": {},
   "outputs": [],
   "source": [
    "crn_URI = base_URI + \"crn_drb.parquet\"\n",
    "crn_source = intake.open_parquet(crn_URI, storage_options=storage_options)\n",
    "crn_source.name = \"crn-drb-OSN\"\n",
    "crn_source.description = \"Climate Reference Network subset, 40 years of monthly data for CONUS404 forcings evaluation\"\n",
    "sources[crn_source.name] = yaml.load(crn_source.yaml(), Loader=yaml.CLoader)[\"sources\"][\n",
    "    crn_source.name\n",
    "]\n",
    "sources\n"
   ]
  },
  {
   "cell_type": "markdown",
   "metadata": {},
   "source": [
    "## Zonal stats\n",
    "\n",
    "CONUS404 zonal"
   ]
  },
  {
   "cell_type": "code",
   "execution_count": null,
   "metadata": {},
   "outputs": [],
   "source": [
    "c404_zonal_URI = base_URI + \"c404_drb_zonal_stats.parquet\"\n",
    "c404_zonal_source = intake.open_parquet(c404_zonal_URI, storage_options=storage_options)\n",
    "c404_zonal_source.name = \"c404-drb-zonal-OSN\"\n",
    "c404_zonal_source.description = \"CONUS404 zonal statistics of Delware River Basin\"\n",
    "\n",
    "sources[c404_zonal_source.name] = yaml.load(\n",
    "    c404_zonal_source.yaml(), Loader=yaml.CLoader\n",
    ")[\"sources\"][c404_zonal_source.name]\n",
    "# sources\n"
   ]
  },
  {
   "cell_type": "markdown",
   "metadata": {},
   "source": [
    "PRISM zonal"
   ]
  },
  {
   "cell_type": "code",
   "execution_count": null,
   "metadata": {},
   "outputs": [],
   "source": [
    "prism_zonal_URI = base_URI + \"prism_drb_zonal_stats.parquet\"\n",
    "prism_zonal_source = intake.open_parquet(\n",
    "    prism_zonal_URI, storage_options=storage_options\n",
    ")\n",
    "prism_zonal_source.name = \"prism-drb-zonal-OSN\"\n",
    "prism_zonal_source.description = \"PRISM zonal statistics of Delware River Basin\"\n",
    "\n",
    "sources[prism_zonal_source.name] = yaml.load(\n",
    "    prism_zonal_source.yaml(), Loader=yaml.CLoader\n",
    ")[\"sources\"][prism_zonal_source.name]\n",
    "# sources\n"
   ]
  },
  {
   "cell_type": "markdown",
   "metadata": {},
   "source": [
    "CERES-EBAF zonal"
   ]
  },
  {
   "cell_type": "code",
   "execution_count": null,
   "metadata": {},
   "outputs": [],
   "source": [
    "ceres_zonal_URI = base_URI + \"ceres_drb_zonal_stats.parquet\"\n",
    "ceres_zonal_source = intake.open_parquet(\n",
    "    ceres_zonal_URI, storage_options=storage_options\n",
    ")\n",
    "ceres_zonal_source.name = \"ceres-drb-zonal-OSN\"\n",
    "ceres_zonal_source.description = \"CERES-EBAF zonal statistics of Delware River Basin\"\n",
    "\n",
    "sources[ceres_zonal_source.name] = yaml.load(\n",
    "    ceres_zonal_source.yaml(), Loader=yaml.CLoader\n",
    ")[\"sources\"][ceres_zonal_source.name]\n",
    "sources\n"
   ]
  },
  {
   "cell_type": "markdown",
   "metadata": {},
   "source": [
    "## Point data\n",
    "\n",
    "HCN point data"
   ]
  },
  {
   "cell_type": "code",
   "execution_count": null,
   "metadata": {},
   "outputs": [],
   "source": [
    "hcn_point_URI = base_URI + \"c404_hcn_drb_point_values.parquet\"\n",
    "hcn_point_source = intake.open_parquet(hcn_point_URI, storage_options=storage_options)\n",
    "hcn_point_source.name = \"hcn-drb-point-OSN\"\n",
    "hcn_point_source.description = (\n",
    "    \"HCN and CONUS404 point statistics of Delware River Basin\"\n",
    ")\n",
    "\n",
    "sources[hcn_point_source.name] = yaml.load(\n",
    "    hcn_point_source.yaml(), Loader=yaml.CLoader\n",
    ")[\"sources\"][hcn_point_source.name]\n",
    "# sources\n"
   ]
  },
  {
   "cell_type": "markdown",
   "metadata": {},
   "source": [
    "CRN point data"
   ]
  },
  {
   "cell_type": "code",
   "execution_count": null,
   "metadata": {},
   "outputs": [],
   "source": [
    "crn_point_URI = base_URI + \"c404_crn_drb_point_values.parquet\"\n",
    "crn_point_source = intake.open_parquet(crn_point_URI, storage_options=storage_options)\n",
    "crn_point_source.name = \"crn-drb-point-OSN\"\n",
    "crn_point_source.description = (\n",
    "    \"CRN and CONUS404 point statistics of Delware River Basin\"\n",
    ")\n",
    "\n",
    "sources[crn_point_source.name] = yaml.load(\n",
    "    crn_point_source.yaml(), Loader=yaml.CLoader\n",
    ")[\"sources\"][crn_point_source.name]\n",
    "# sources\n"
   ]
  },
  {
   "cell_type": "markdown",
   "metadata": {},
   "source": [
    "## Descriptive statistics\n",
    "\n",
    "c404_prism_drb_descriptive_stats\n",
    "c404_ceres_drb_descriptive_stats\n",
    "c404_hcn_drb_descriptive_stats\n",
    "c404_crn_drb_descriptive_stats\n",
    "\n",
    "PRISM descriptive stats"
   ]
  },
  {
   "cell_type": "code",
   "execution_count": null,
   "metadata": {},
   "outputs": [],
   "source": [
    "prism_desc_URI = base_URI + \"c404_prism_drb_descriptive_stats.parquet\"\n",
    "prism_desc_source = intake.open_parquet(prism_desc_URI, storage_options=storage_options)\n",
    "prism_desc_source.name = \"c404-prism-drb-desc-stats-OSN\"\n",
    "prism_desc_source.description = (\n",
    "    \"Descriptive statistics for the comparison of CONUS404 to PRISM\"\n",
    ")\n",
    "\n",
    "sources[prism_desc_source.name] = yaml.load(\n",
    "    prism_desc_source.yaml(), Loader=yaml.CLoader\n",
    ")[\"sources\"][prism_desc_source.name]\n",
    "# sources\n"
   ]
  },
  {
   "cell_type": "markdown",
   "metadata": {},
   "source": [
    "CERES-EBAF descriptive stats"
   ]
  },
  {
   "cell_type": "code",
   "execution_count": null,
   "metadata": {},
   "outputs": [],
   "source": [
    "ceres_desc_URI = base_URI + \"c404_ceres_drb_descriptive_stats.parquet\"\n",
    "ceres_desc_source = intake.open_parquet(ceres_desc_URI, storage_options=storage_options)\n",
    "ceres_desc_source.name = \"c404-ceres-drb-desc-stats-OSN\"\n",
    "ceres_desc_source.description = (\n",
    "    \"Descriptive statistics for the comparison of CONUS404 to CERES-EBAF\"\n",
    ")\n",
    "\n",
    "sources[ceres_desc_source.name] = yaml.load(\n",
    "    ceres_desc_source.yaml(), Loader=yaml.CLoader\n",
    ")[\"sources\"][ceres_desc_source.name]\n",
    "# sources\n"
   ]
  },
  {
   "cell_type": "markdown",
   "metadata": {},
   "source": [
    "HCN descriptive stats"
   ]
  },
  {
   "cell_type": "code",
   "execution_count": null,
   "metadata": {},
   "outputs": [],
   "source": [
    "hcn_desc_URI = base_URI + \"c404_hcn_drb_descriptive_stats.parquet\"\n",
    "hcn_desc_source = intake.open_parquet(hcn_desc_URI, storage_options=storage_options)\n",
    "hcn_desc_source.name = \"c404-hcn-drb-desc-stats-OSN\"\n",
    "hcn_desc_source.description = (\n",
    "    \"Descriptive statistics for the comparison of CONUS404 to HCN\"\n",
    ")\n",
    "\n",
    "sources[hcn_desc_source.name] = yaml.load(hcn_desc_source.yaml(), Loader=yaml.CLoader)[\n",
    "    \"sources\"\n",
    "][hcn_desc_source.name]\n",
    "# sources\n"
   ]
  },
  {
   "cell_type": "markdown",
   "metadata": {},
   "source": [
    "CRN descriptive stats"
   ]
  },
  {
   "cell_type": "code",
   "execution_count": null,
   "metadata": {},
   "outputs": [],
   "source": [
    "crn_desc_URI = base_URI + \"c404_crn_drb_descriptive_stats.parquet\"\n",
    "crn_desc_source = intake.open_parquet(crn_desc_URI, storage_options=storage_options)\n",
    "crn_desc_source.name = \"c404-crn-drb-desc-stats-OSN\"\n",
    "crn_desc_source.description = (\n",
    "    \"Descriptive statistics for the comparison of CONUS404 to CRN\"\n",
    ")\n",
    "\n",
    "sources[crn_desc_source.name] = yaml.load(crn_desc_source.yaml(), Loader=yaml.CLoader)[\n",
    "    \"sources\"\n",
    "][crn_desc_source.name]\n",
    "sources\n"
   ]
  },
  {
   "cell_type": "markdown",
   "metadata": {},
   "source": [
    "## Create catalog\n"
   ]
  },
  {
   "cell_type": "code",
   "execution_count": null,
   "metadata": {},
   "outputs": [],
   "source": [
    "description = (\n",
    "    \"Catalog containing datasets used for the CONUS404 forcings evaluation notebooks.\"\n",
    ")\n",
    "\n",
    "catalog = {\"metadata\": {\"version\": 1, \"description\": description}, \"sources\": {}}\n",
    "\n",
    "catalog[\"sources\"] = sources\n",
    "\n",
    "catalog_path = \"../subcatalogs/conus404-drb-eval-tutorial-catalog.yml\"\n",
    "\n",
    "with open(catalog_path, \"w\") as f:\n",
    "    yaml.dump(catalog, f)"
   ]
  },
  {
   "cell_type": "markdown",
   "metadata": {},
   "source": [
    "Test functionality"
   ]
  },
  {
   "cell_type": "code",
   "execution_count": null,
   "metadata": {},
   "outputs": [],
   "source": [
    "cat = intake.open_catalog(catalog_path)\n",
    "list(cat)"
   ]
  },
  {
   "cell_type": "code",
   "execution_count": null,
   "metadata": {},
   "outputs": [],
   "source": [
    "cat[\"ceres-drb-OSN\"].read()"
   ]
  },
  {
   "cell_type": "code",
   "execution_count": null,
   "metadata": {},
   "outputs": [],
   "source": [
    "cat[\"conus404-drb-OSN\"].read()"
   ]
  },
  {
   "cell_type": "code",
   "execution_count": null,
   "metadata": {},
   "outputs": [],
   "source": [
    "cat[\"prism-drb-OSN\"].read()"
   ]
  },
  {
   "cell_type": "code",
   "execution_count": null,
   "metadata": {},
   "outputs": [],
   "source": [
    "cat[\"hcn-drb-OSN\"].read()"
   ]
  },
  {
   "cell_type": "code",
   "execution_count": null,
   "metadata": {},
   "outputs": [],
   "source": [
    "cat[\"crn-drb-OSN\"].read()"
   ]
  }
 ],
 "metadata": {
  "language_info": {
   "name": "python"
  }
 },
 "nbformat": 4,
 "nbformat_minor": 4
}
