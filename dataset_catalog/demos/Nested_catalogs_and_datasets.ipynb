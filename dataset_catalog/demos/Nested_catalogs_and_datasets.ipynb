{
 "cells": [
  {
   "cell_type": "markdown",
   "metadata": {},
   "source": [
    "# Intake Catalog Demo\n",
    "\n",
    "Here is a short notebook for accessing nested catalogs in an ```intake``` catalog."
   ]
  },
  {
   "cell_type": "code",
   "execution_count": 1,
   "metadata": {},
   "outputs": [],
   "source": [
    "import intake\n",
    "import xarray\n",
    "import pandas as pd"
   ]
  },
  {
   "cell_type": "markdown",
   "metadata": {},
   "source": [
    "Open the HyTEST Intake Catalog and view its contents"
   ]
  },
  {
   "cell_type": "code",
   "execution_count": 2,
   "metadata": {},
   "outputs": [
    {
     "data": {
      "text/plain": [
       "['conus404-drb-eval-tutorial-catalog',\n",
       " 'conus404-hourly-onprem',\n",
       " 'conus404-hourly-cloud',\n",
       " 'conus404-daily-onprem',\n",
       " 'conus404-daily-diagnostic-onprem',\n",
       " 'conus404-daily-cloud',\n",
       " 'conus404-daily-diagnostic-cloud',\n",
       " 'conus404-monthly-onprem',\n",
       " 'conus404-monthly-cloud',\n",
       " 'nwis-streamflow-usgs-gages-onprem',\n",
       " 'nwis-streamflow-usgs-gages-cloud',\n",
       " 'nwm21-streamflow-usgs-gages-onprem',\n",
       " 'nwm21-streamflow-usgs-gages-cloud',\n",
       " 'nwm21-streamflow-cloud',\n",
       " 'nwm21-scores',\n",
       " 'lcmap-cloud',\n",
       " 'conus404-hourly-cloud-dev',\n",
       " 'nhm-v1.0-daymet-byHRU-onprem',\n",
       " 'nhm-v1.0-daymet-byHW-musk-onprem',\n",
       " 'nhm-v1.0-daymet-byHW-musk-obs-onprem',\n",
       " 'nhm-v1.0-daymet-byHW-noroute-onprem',\n",
       " 'nhm-v1.0-daymet-byHW-noroute_obs-onprem',\n",
       " 'nhm-v1.1-gridmet-byHRU-onprem',\n",
       " 'nhm-v1.1-gridmet-byHW-onprem',\n",
       " 'nhm-v1.1-gridmet-byHWobs-onprem',\n",
       " 'rechunking-tutorial-cloud']"
      ]
     },
     "execution_count": 2,
     "metadata": {},
     "output_type": "execute_result"
    }
   ],
   "source": [
    "cat = intake.open_catalog(\"https://raw.githubusercontent.com/hytest-org/hytest/main/dataset_catalog/hytest_intake_catalog.yml\")\n",
    "list(cat)"
   ]
  },
  {
   "cell_type": "markdown",
   "metadata": {},
   "source": [
    "This catalog has many datasets and a nested catalog, 'conus404-drb-cat'. Use the same method used to list the parent catalog but use the nested catalog as an index."
   ]
  },
  {
   "cell_type": "code",
   "execution_count": 3,
   "metadata": {},
   "outputs": [
    {
     "data": {
      "text/plain": [
       "['conus404-drb-OSN',\n",
       " 'prism-drb-OSN',\n",
       " 'ceres-drb-OSN',\n",
       " 'crn-drb-OSN',\n",
       " 'hcn-drb-OSN']"
      ]
     },
     "execution_count": 3,
     "metadata": {},
     "output_type": "execute_result"
    }
   ],
   "source": [
    "conus404_drb_cat = cat[\"conus404-drb-eval-tutorial-catalog\"]\n",
    "list(conus404_drb_cat)"
   ]
  },
  {
   "cell_type": "markdown",
   "metadata": {},
   "source": [
    "Examine one of the catalogs datasets and see that it's read parameters have already been set in the nested catalog."
   ]
  },
  {
   "cell_type": "code",
   "execution_count": 4,
   "metadata": {},
   "outputs": [
    {
     "data": {
      "application/yaml": "conus404-drb-OSN:\n  args:\n    storage_options:\n      anon: true\n      client_kwargs:\n        endpoint_url: https://renc.osn.xsede.org\n      requester_pays: false\n    urlpath: s3://rsignellbucket2/hytest/tutorials/conus404_model_evaluation/c404_drb.nc\n    xarray_kwargs:\n      decode_coords: all\n  description: CONUS404 Delaware River Basin subset, 40 years of monthly data for\n    CONUS404 model evaluation\n  driver: intake_xarray.netcdf.NetCDFSource\n  metadata:\n    catalog_dir: https://raw.githubusercontent.com/hytest-org/hytest/main/dataset_catalog/subcatalogs\n",
      "text/plain": [
       "conus404-drb-OSN:\n",
       "  args:\n",
       "    storage_options:\n",
       "      anon: true\n",
       "      client_kwargs:\n",
       "        endpoint_url: https://renc.osn.xsede.org\n",
       "      requester_pays: false\n",
       "    urlpath: s3://rsignellbucket2/hytest/tutorials/conus404_model_evaluation/c404_drb.nc\n",
       "    xarray_kwargs:\n",
       "      decode_coords: all\n",
       "  description: CONUS404 Delaware River Basin subset, 40 years of monthly data for\n",
       "    CONUS404 model evaluation\n",
       "  driver: intake_xarray.netcdf.NetCDFSource\n",
       "  metadata:\n",
       "    catalog_dir: https://raw.githubusercontent.com/hytest-org/hytest/main/dataset_catalog/subcatalogs\n"
      ]
     },
     "metadata": {
      "application/json": {
       "root": "conus404-drb-OSN"
      }
     },
     "output_type": "display_data"
    }
   ],
   "source": [
    "conus404_drb_cat['conus404-drb-OSN']"
   ]
  },
  {
   "cell_type": "markdown",
   "metadata": {},
   "source": [
    "And these datasets can be called through the nested catalog.\n",
    "\n",
    "First, a parquet read into a ```pandas``` DataFrame."
   ]
  },
  {
   "cell_type": "code",
   "execution_count": 5,
   "metadata": {},
   "outputs": [
    {
     "ename": "ValueError",
     "evalue": "No plugins loaded for this entry: parquet\nA listing of installable plugins can be found at https://intake.readthedocs.io/en/latest/plugin-directory.html .",
     "output_type": "error",
     "traceback": [
      "\u001b[0;31m---------------------------------------------------------------------------\u001b[0m",
      "\u001b[0;31mValueError\u001b[0m                                Traceback (most recent call last)",
      "Cell \u001b[0;32mIn[5], line 1\u001b[0m\n\u001b[0;32m----> 1\u001b[0m crn_drb \u001b[38;5;241m=\u001b[39m \u001b[43mconus404_drb_cat\u001b[49m\u001b[43m[\u001b[49m\u001b[38;5;124;43m'\u001b[39;49m\u001b[38;5;124;43mcrn-drb-OSN\u001b[39;49m\u001b[38;5;124;43m'\u001b[39;49m\u001b[43m]\u001b[49m\u001b[38;5;241m.\u001b[39mread()\n\u001b[1;32m      2\u001b[0m crn_drb\u001b[38;5;241m.\u001b[39mhead()\n",
      "File \u001b[0;32m/home/conda/gzt5142/267fcae1bebb4612046db0273f49e240db8d395a432a7eb17d4a4dc8415a560e-20230306-135407-716724-111-pangeo-jbook/lib/python3.9/site-packages/intake/catalog/base.py:436\u001b[0m, in \u001b[0;36mCatalog.__getitem__\u001b[0;34m(self, key)\u001b[0m\n\u001b[1;32m    427\u001b[0m \u001b[38;5;250m\u001b[39m\u001b[38;5;124;03m\"\"\"Return a catalog entry by name.\u001b[39;00m\n\u001b[1;32m    428\u001b[0m \n\u001b[1;32m    429\u001b[0m \u001b[38;5;124;03mCan also use attribute syntax, like ``cat.entry_name``, or\u001b[39;00m\n\u001b[0;32m   (...)\u001b[0m\n\u001b[1;32m    432\u001b[0m \u001b[38;5;124;03mcat['name1', 'name2']\u001b[39;00m\n\u001b[1;32m    433\u001b[0m \u001b[38;5;124;03m\"\"\"\u001b[39;00m\n\u001b[1;32m    434\u001b[0m \u001b[38;5;28;01mif\u001b[39;00m \u001b[38;5;129;01mnot\u001b[39;00m \u001b[38;5;28misinstance\u001b[39m(key, \u001b[38;5;28mlist\u001b[39m) \u001b[38;5;129;01mand\u001b[39;00m key \u001b[38;5;129;01min\u001b[39;00m \u001b[38;5;28mself\u001b[39m:\n\u001b[1;32m    435\u001b[0m     \u001b[38;5;66;03m# triggers reload_on_change\u001b[39;00m\n\u001b[0;32m--> 436\u001b[0m     s \u001b[38;5;241m=\u001b[39m \u001b[38;5;28;43mself\u001b[39;49m\u001b[38;5;241;43m.\u001b[39;49m\u001b[43m_get_entry\u001b[49m\u001b[43m(\u001b[49m\u001b[43mkey\u001b[49m\u001b[43m)\u001b[49m\n\u001b[1;32m    437\u001b[0m     \u001b[38;5;28;01mif\u001b[39;00m s\u001b[38;5;241m.\u001b[39mcontainer \u001b[38;5;241m==\u001b[39m \u001b[38;5;124m'\u001b[39m\u001b[38;5;124mcatalog\u001b[39m\u001b[38;5;124m'\u001b[39m:\n\u001b[1;32m    438\u001b[0m         s\u001b[38;5;241m.\u001b[39mname \u001b[38;5;241m=\u001b[39m key\n",
      "File \u001b[0;32m/home/conda/gzt5142/267fcae1bebb4612046db0273f49e240db8d395a432a7eb17d4a4dc8415a560e-20230306-135407-716724-111-pangeo-jbook/lib/python3.9/site-packages/intake/catalog/utils.py:45\u001b[0m, in \u001b[0;36mreload_on_change.<locals>.wrapper\u001b[0;34m(self, *args, **kwargs)\u001b[0m\n\u001b[1;32m     42\u001b[0m \u001b[38;5;129m@functools\u001b[39m\u001b[38;5;241m.\u001b[39mwraps(f)\n\u001b[1;32m     43\u001b[0m \u001b[38;5;28;01mdef\u001b[39;00m \u001b[38;5;21mwrapper\u001b[39m(\u001b[38;5;28mself\u001b[39m, \u001b[38;5;241m*\u001b[39margs, \u001b[38;5;241m*\u001b[39m\u001b[38;5;241m*\u001b[39mkwargs):\n\u001b[1;32m     44\u001b[0m     \u001b[38;5;28mself\u001b[39m\u001b[38;5;241m.\u001b[39mreload()\n\u001b[0;32m---> 45\u001b[0m     \u001b[38;5;28;01mreturn\u001b[39;00m \u001b[43mf\u001b[49m\u001b[43m(\u001b[49m\u001b[38;5;28;43mself\u001b[39;49m\u001b[43m,\u001b[49m\u001b[43m \u001b[49m\u001b[38;5;241;43m*\u001b[39;49m\u001b[43margs\u001b[49m\u001b[43m,\u001b[49m\u001b[43m \u001b[49m\u001b[38;5;241;43m*\u001b[39;49m\u001b[38;5;241;43m*\u001b[39;49m\u001b[43mkwargs\u001b[49m\u001b[43m)\u001b[49m\n",
      "File \u001b[0;32m/home/conda/gzt5142/267fcae1bebb4612046db0273f49e240db8d395a432a7eb17d4a4dc8415a560e-20230306-135407-716724-111-pangeo-jbook/lib/python3.9/site-packages/intake/catalog/base.py:323\u001b[0m, in \u001b[0;36mCatalog._get_entry\u001b[0;34m(self, name)\u001b[0m\n\u001b[1;32m    321\u001b[0m ups \u001b[38;5;241m=\u001b[39m [up \u001b[38;5;28;01mfor\u001b[39;00m name, up \u001b[38;5;129;01min\u001b[39;00m \u001b[38;5;28mself\u001b[39m\u001b[38;5;241m.\u001b[39muser_parameters\u001b[38;5;241m.\u001b[39mitems() \u001b[38;5;28;01mif\u001b[39;00m name \u001b[38;5;129;01mnot\u001b[39;00m \u001b[38;5;129;01min\u001b[39;00m up_names]\n\u001b[1;32m    322\u001b[0m entry\u001b[38;5;241m.\u001b[39m_user_parameters \u001b[38;5;241m=\u001b[39m ups \u001b[38;5;241m+\u001b[39m (entry\u001b[38;5;241m.\u001b[39m_user_parameters \u001b[38;5;129;01mor\u001b[39;00m [])\n\u001b[0;32m--> 323\u001b[0m \u001b[38;5;28;01mreturn\u001b[39;00m \u001b[43mentry\u001b[49m\u001b[43m(\u001b[49m\u001b[43m)\u001b[49m\n",
      "File \u001b[0;32m/home/conda/gzt5142/267fcae1bebb4612046db0273f49e240db8d395a432a7eb17d4a4dc8415a560e-20230306-135407-716724-111-pangeo-jbook/lib/python3.9/site-packages/intake/catalog/entry.py:77\u001b[0m, in \u001b[0;36mCatalogEntry.__call__\u001b[0;34m(self, persist, **kwargs)\u001b[0m\n\u001b[1;32m     75\u001b[0m     \u001b[38;5;28;01mraise\u001b[39;00m \u001b[38;5;167;01mValueError\u001b[39;00m(\u001b[38;5;124m'\u001b[39m\u001b[38;5;124mPersist value (\u001b[39m\u001b[38;5;132;01m%s\u001b[39;00m\u001b[38;5;124m) not understood\u001b[39m\u001b[38;5;124m'\u001b[39m \u001b[38;5;241m%\u001b[39m persist)\n\u001b[1;32m     76\u001b[0m persist \u001b[38;5;241m=\u001b[39m persist \u001b[38;5;129;01mor\u001b[39;00m \u001b[38;5;28mself\u001b[39m\u001b[38;5;241m.\u001b[39m_pmode\n\u001b[0;32m---> 77\u001b[0m s \u001b[38;5;241m=\u001b[39m \u001b[38;5;28;43mself\u001b[39;49m\u001b[38;5;241;43m.\u001b[39;49m\u001b[43mget\u001b[49m\u001b[43m(\u001b[49m\u001b[38;5;241;43m*\u001b[39;49m\u001b[38;5;241;43m*\u001b[39;49m\u001b[43mkwargs\u001b[49m\u001b[43m)\u001b[49m\n\u001b[1;32m     78\u001b[0m \u001b[38;5;28;01mif\u001b[39;00m persist \u001b[38;5;241m!=\u001b[39m \u001b[38;5;124m'\u001b[39m\u001b[38;5;124mnever\u001b[39m\u001b[38;5;124m'\u001b[39m \u001b[38;5;129;01mand\u001b[39;00m \u001b[38;5;28misinstance\u001b[39m(s, PersistMixin) \u001b[38;5;129;01mand\u001b[39;00m s\u001b[38;5;241m.\u001b[39mhas_been_persisted:\n\u001b[1;32m     79\u001b[0m     \u001b[38;5;28;01mfrom\u001b[39;00m \u001b[38;5;21;01m.\u001b[39;00m\u001b[38;5;21;01m.\u001b[39;00m\u001b[38;5;21;01mcontainer\u001b[39;00m\u001b[38;5;21;01m.\u001b[39;00m\u001b[38;5;21;01mpersist\u001b[39;00m \u001b[38;5;28;01mimport\u001b[39;00m store\n",
      "File \u001b[0;32m/home/conda/gzt5142/267fcae1bebb4612046db0273f49e240db8d395a432a7eb17d4a4dc8415a560e-20230306-135407-716724-111-pangeo-jbook/lib/python3.9/site-packages/intake/catalog/local.py:289\u001b[0m, in \u001b[0;36mLocalCatalogEntry.get\u001b[0;34m(self, **user_parameters)\u001b[0m\n\u001b[1;32m    286\u001b[0m \u001b[38;5;28;01mif\u001b[39;00m \u001b[38;5;129;01mnot\u001b[39;00m user_parameters \u001b[38;5;129;01mand\u001b[39;00m \u001b[38;5;28mself\u001b[39m\u001b[38;5;241m.\u001b[39m_default_source \u001b[38;5;129;01mis\u001b[39;00m \u001b[38;5;129;01mnot\u001b[39;00m \u001b[38;5;28;01mNone\u001b[39;00m:\n\u001b[1;32m    287\u001b[0m     \u001b[38;5;28;01mreturn\u001b[39;00m \u001b[38;5;28mself\u001b[39m\u001b[38;5;241m.\u001b[39m_default_source\n\u001b[0;32m--> 289\u001b[0m plugin, open_args \u001b[38;5;241m=\u001b[39m \u001b[38;5;28;43mself\u001b[39;49m\u001b[38;5;241;43m.\u001b[39;49m\u001b[43m_create_open_args\u001b[49m\u001b[43m(\u001b[49m\u001b[43muser_parameters\u001b[49m\u001b[43m)\u001b[49m\n\u001b[1;32m    290\u001b[0m data_source \u001b[38;5;241m=\u001b[39m plugin(\u001b[38;5;241m*\u001b[39m\u001b[38;5;241m*\u001b[39mopen_args)\n\u001b[1;32m    291\u001b[0m data_source\u001b[38;5;241m.\u001b[39mcatalog_object \u001b[38;5;241m=\u001b[39m \u001b[38;5;28mself\u001b[39m\u001b[38;5;241m.\u001b[39m_catalog\n",
      "File \u001b[0;32m/home/conda/gzt5142/267fcae1bebb4612046db0273f49e240db8d395a432a7eb17d4a4dc8415a560e-20230306-135407-716724-111-pangeo-jbook/lib/python3.9/site-packages/intake/catalog/local.py:263\u001b[0m, in \u001b[0;36mLocalCatalogEntry._create_open_args\u001b[0;34m(self, user_parameters)\u001b[0m\n\u001b[1;32m    258\u001b[0m open_args \u001b[38;5;241m=\u001b[39m merge_pars(params, user_parameters, \u001b[38;5;28mself\u001b[39m\u001b[38;5;241m.\u001b[39m_user_parameters,\n\u001b[1;32m    259\u001b[0m                        getshell\u001b[38;5;241m=\u001b[39m\u001b[38;5;28mself\u001b[39m\u001b[38;5;241m.\u001b[39mgetshell, getenv\u001b[38;5;241m=\u001b[39m\u001b[38;5;28mself\u001b[39m\u001b[38;5;241m.\u001b[39mgetenv,\n\u001b[1;32m    260\u001b[0m                        client\u001b[38;5;241m=\u001b[39m\u001b[38;5;28;01mFalse\u001b[39;00m)\n\u001b[1;32m    262\u001b[0m \u001b[38;5;28;01mif\u001b[39;00m \u001b[38;5;28mlen\u001b[39m(\u001b[38;5;28mself\u001b[39m\u001b[38;5;241m.\u001b[39m_plugin) \u001b[38;5;241m==\u001b[39m \u001b[38;5;241m0\u001b[39m:\n\u001b[0;32m--> 263\u001b[0m     \u001b[38;5;28;01mraise\u001b[39;00m \u001b[38;5;167;01mValueError\u001b[39;00m(\u001b[38;5;124m'\u001b[39m\u001b[38;5;124mNo plugins loaded for this entry: \u001b[39m\u001b[38;5;132;01m%s\u001b[39;00m\u001b[38;5;130;01m\\n\u001b[39;00m\u001b[38;5;124m'\u001b[39m\n\u001b[1;32m    264\u001b[0m                      \u001b[38;5;124m'\u001b[39m\u001b[38;5;124mA listing of installable plugins can be found \u001b[39m\u001b[38;5;124m'\u001b[39m\n\u001b[1;32m    265\u001b[0m                      \u001b[38;5;124m'\u001b[39m\u001b[38;5;124mat https://intake.readthedocs.io/en/latest/plugin\u001b[39m\u001b[38;5;124m'\u001b[39m\n\u001b[1;32m    266\u001b[0m                      \u001b[38;5;124m'\u001b[39m\u001b[38;5;124m-directory.html .\u001b[39m\u001b[38;5;124m'\u001b[39m\n\u001b[1;32m    267\u001b[0m                      \u001b[38;5;241m%\u001b[39m \u001b[38;5;28mself\u001b[39m\u001b[38;5;241m.\u001b[39m_driver)\n\u001b[1;32m    268\u001b[0m \u001b[38;5;28;01melif\u001b[39;00m \u001b[38;5;28misinstance\u001b[39m(\u001b[38;5;28mself\u001b[39m\u001b[38;5;241m.\u001b[39m_plugin, \u001b[38;5;28mlist\u001b[39m):\n\u001b[1;32m    269\u001b[0m     plugin \u001b[38;5;241m=\u001b[39m \u001b[38;5;28mself\u001b[39m\u001b[38;5;241m.\u001b[39m_plugin[\u001b[38;5;241m0\u001b[39m]\n",
      "\u001b[0;31mValueError\u001b[0m: No plugins loaded for this entry: parquet\nA listing of installable plugins can be found at https://intake.readthedocs.io/en/latest/plugin-directory.html ."
     ]
    }
   ],
   "source": [
    "crn_drb = conus404_drb_cat['crn-drb-OSN'].read()\n",
    "crn_drb.head()"
   ]
  },
  {
   "cell_type": "markdown",
   "metadata": {},
   "source": [
    "Second, read a netCDF file into `dask`."
   ]
  },
  {
   "cell_type": "code",
   "execution_count": null,
   "metadata": {},
   "outputs": [],
   "source": [
    "c404_drb = conus404_drb_cat['conus404-drb-OSN'].to_dask()\n",
    "c404_drb"
   ]
  }
 ],
 "metadata": {
  "language_info": {
   "codemirror_mode": {
    "name": "ipython",
    "version": 3
   },
   "file_extension": ".py",
   "mimetype": "text/x-python",
   "name": "python",
   "nbconvert_exporter": "python",
   "pygments_lexer": "ipython3",
   "version": "3.9.16"
  },
  "vscode": {
   "interpreter": {
    "hash": "6b8b815d206080047d0881750c260f2e84eb4576ca4137e2355fa3de469693c9"
   }
  }
 },
 "nbformat": 4,
 "nbformat_minor": 4
}
