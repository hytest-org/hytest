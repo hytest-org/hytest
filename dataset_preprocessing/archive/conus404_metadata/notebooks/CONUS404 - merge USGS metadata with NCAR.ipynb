{
 "cells": [
  {
   "cell_type": "code",
   "execution_count": null,
   "id": "713bd6fe",
   "metadata": {},
   "outputs": [],
   "source": []
  },
  {
   "cell_type": "code",
   "execution_count": null,
   "id": "d1cfc63d",
   "metadata": {},
   "outputs": [],
   "source": [
    "import pandas as pd"
   ]
  },
  {
   "cell_type": "code",
   "execution_count": null,
   "id": "a51e1071",
   "metadata": {},
   "outputs": [],
   "source": [
    "work_dir = '/Volumes/USGS_NHM2/datasets/wrf-conus404/originals'\n",
    "metadata_file = '/Users/pnorton/Projects/National_Hydrology_Model/FY2022_projects/repos/planning/conus404/wrfout_metadata.csv'\n",
    "ncar_metadata_file = f'{work_dir}/conus404_surface_variable_description_20210505.csv'"
   ]
  },
  {
   "cell_type": "code",
   "execution_count": null,
   "id": "39199890",
   "metadata": {},
   "outputs": [],
   "source": [
    "meta_df = pd.read_csv(metadata_file, sep='\\t')\n",
    "meta_df"
   ]
  },
  {
   "cell_type": "code",
   "execution_count": null,
   "id": "f8608ac1",
   "metadata": {},
   "outputs": [],
   "source": [
    "col_names = ['varname', 'description', 'units', 'Instantaneous (1) or no (0)',\n",
    "             'temporal integration length', 'comments', 'west_east (XLONG)', \n",
    "             'south_north (XLAT)', 'soil_layers', 'snow_layers', 'snso_layers',\n",
    "             'west_east_stag', 'south_north_stag']\n",
    "col_types = [str, str, str, \"Int64\",\n",
    "             str, str, str,\n",
    "             str, str, str, str,\n",
    "             str, str]\n",
    "\n",
    "cols = dict(zip(col_names, col_types))\n",
    "\n",
    "ncar_meta_df = pd.read_csv(ncar_metadata_file, sep=',', dtype=cols)\n",
    "ncar_meta_df.info()"
   ]
  },
  {
   "cell_type": "code",
   "execution_count": null,
   "id": "2dff8399",
   "metadata": {},
   "outputs": [],
   "source": [
    "# pd.merge(gage_stats_df, ns, left_index=True, right_index=True)\n",
    "df = pd.merge(meta_df, ncar_meta_df, left_on='wrf_var', right_on='varname', how='outer')\n",
    "df.info()"
   ]
  },
  {
   "cell_type": "code",
   "execution_count": null,
   "id": "72f65e9f",
   "metadata": {},
   "outputs": [],
   "source": [
    "df"
   ]
  },
  {
   "cell_type": "code",
   "execution_count": null,
   "id": "6f9326c1",
   "metadata": {},
   "outputs": [],
   "source": [
    "df.to_csv('crap.csv', sep='\\t')"
   ]
  },
  {
   "cell_type": "code",
   "execution_count": null,
   "id": "7126ecaa",
   "metadata": {},
   "outputs": [],
   "source": []
  }
 ],
 "metadata": {
  "kernelspec": {
   "display_name": "Python [conda env:.conda-bandit_nhgf]",
   "language": "python",
   "name": "conda-env-.conda-bandit_nhgf-py"
  },
  "language_info": {
   "codemirror_mode": {
    "name": "ipython",
    "version": 3
   },
   "file_extension": ".py",
   "mimetype": "text/x-python",
   "name": "python",
   "nbconvert_exporter": "python",
   "pygments_lexer": "ipython3",
   "version": "3.9.7"
  }
 },
 "nbformat": 4,
 "nbformat_minor": 5
}
