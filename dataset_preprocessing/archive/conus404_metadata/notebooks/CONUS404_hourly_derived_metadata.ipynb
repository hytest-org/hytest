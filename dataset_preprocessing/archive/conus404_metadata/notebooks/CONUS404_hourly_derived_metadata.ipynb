{
 "cells": [
  {
   "cell_type": "code",
   "execution_count": null,
   "id": "88a4e205-fa80-4152-9cb1-c3cf2c867dc6",
   "metadata": {
    "pycharm": {
     "name": "#%%\n"
    }
   },
   "outputs": [],
   "source": []
  },
  {
   "cell_type": "code",
   "execution_count": null,
   "id": "33f5ac67-9d2a-4ebf-b3d2-844626d533c8",
   "metadata": {
    "pycharm": {
     "name": "#%%\n"
    }
   },
   "outputs": [],
   "source": [
    "# varname\n",
    "# long_name\n",
    "# accumulated\n",
    "# integration_length\n",
    "# notes\n",
    "# units\n",
    "# scale_factor\n",
    "# valid_range\n",
    "# flag_values\n",
    "# flag_meanings"
   ]
  },
  {
   "cell_type": "code",
   "execution_count": 3,
   "id": "be22dd59-6311-42f6-b2f4-9eff1f457cd4",
   "metadata": {
    "pycharm": {
     "name": "#%%\n"
    }
   },
   "outputs": [],
   "source": [
    "hourly_meta = dict(RH2=dict(coordinates='lon lat',\n",
    "                            grid_mapping='crs',\n",
    "                            long_name='Relative humidity at 2 meters',\n",
    "                            notes='Tetens equation',\n",
    "                            units=''),\n",
    "                   E2=dict(coordinates='lon lat',\n",
    "                           grid_mapping='crs',\n",
    "                           long_name='Vapor pressure at 2 meters',\n",
    "                           notes='',\n",
    "                           units='Pa'),\n",
    "                   ES2=dict(coordinates='lon lat',\n",
    "                            grid_mapping='crs',\n",
    "                            long_name='Saturation vapor pressure at 2 meters',\n",
    "                            notes='Tetens equation',\n",
    "                            units='Pa'),\n",
    "                   SH2=dict(coordinates='lon lat',\n",
    "                            grid_mapping='crs',\n",
    "                            long_name='Specific humidity at 2 meters',\n",
    "                            notes='',\n",
    "                            units='kg kg-1'),\n",
    "                   TD2=dict(coordinates='lon lat',\n",
    "                            grid_mapping='crs',\n",
    "                            long_name='Temperature dewpoint at 2 meters',\n",
    "                            notes='',\n",
    "                            units='K'),\n",
    "                   )"
   ]
  },
  {
   "cell_type": "code",
   "execution_count": 4,
   "id": "f02f330d-f123-4883-9973-31f20bf5ab59",
   "metadata": {
    "pycharm": {
     "name": "#%%\n"
    }
   },
   "outputs": [
    {
     "data": {
      "text/plain": [
       "{'RH2': {'long_name': 'Relative humidity at 2 meters',\n",
       "  'notes': '',\n",
       "  'units': ''},\n",
       " 'E2': {'long_name': 'Vapor pressure at 2 meters', 'notes': '', 'units': 'Pa'},\n",
       " 'ES2': {'long_name': 'Saturation vapor pressure at 2 meters',\n",
       "  'notes': '',\n",
       "  'units': 'Pa'},\n",
       " 'SH2': {'long_name': 'Specific humidity at 2 meters',\n",
       "  'notes': '',\n",
       "  'units': 'kg kg-1'},\n",
       " 'TD2': {'long_name': 'Temperature dewpoint at 2 meters',\n",
       "  'notes': '',\n",
       "  'units': 'K'}}"
      ]
     },
     "execution_count": 4,
     "metadata": {},
     "output_type": "execute_result"
    }
   ],
   "source": [
    "hourly_meta"
   ]
  },
  {
   "cell_type": "code",
   "execution_count": null,
   "id": "567ceb3e-8d99-482a-a22d-ef67e459117a",
   "metadata": {
    "pycharm": {
     "name": "#%%\n"
    }
   },
   "outputs": [],
   "source": []
  },
  {
   "cell_type": "code",
   "execution_count": null,
   "id": "f8dabfdb-ac67-43fa-9ad8-2f6e9a26b16e",
   "metadata": {
    "pycharm": {
     "name": "#%%\n"
    }
   },
   "outputs": [],
   "source": []
  }
 ],
 "metadata": {
  "kernelspec": {
   "display_name": "Python [conda env:pangeo]",
   "language": "python",
   "name": "conda-env-pangeo-py"
  },
  "language_info": {
   "codemirror_mode": {
    "name": "ipython",
    "version": 3
   },
   "file_extension": ".py",
   "mimetype": "text/x-python",
   "name": "python",
   "nbconvert_exporter": "python",
   "pygments_lexer": "ipython3",
   "version": "3.10.5"
  }
 },
 "nbformat": 4,
 "nbformat_minor": 5
}