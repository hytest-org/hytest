{
 "cells": [
  {
   "cell_type": "markdown",
   "id": "5cf6238f-6ee2-4359-abda-8599a0a1c734",
   "metadata": {},
   "source": [
    "# Bitinfo for ERA5-Land data\n",
    "Here we test each dimension for bitinfo. "
   ]
  },
  {
   "cell_type": "code",
   "execution_count": null,
   "id": "31a0b36f-bbdb-4f21-869a-254626621047",
   "metadata": {},
   "outputs": [],
   "source": [
    "import xarray as xr\n",
    "import xbitinfo as xb\n",
    "import hvplot.xarray\n",
    "import fsspec "
   ]
  },
  {
   "cell_type": "markdown",
   "id": "fcc2acb1-fa8e-4555-92f1-ae828a2db237",
   "metadata": {},
   "source": [
    "Copy netcdf file obtained using the cdsapi service from cloud to local disk:"
   ]
  },
  {
   "cell_type": "code",
   "execution_count": null,
   "id": "ad5d538d-6910-4b25-8dc6-4f1ce1439302",
   "metadata": {},
   "outputs": [],
   "source": [
    "s3file = 's3://rsignellbucket1/testing/conus_2019-12-01.nc'\n",
    "local_file = 'conus_2019-12-01.nc'\n",
    "local_compressed_file = local_file.replace('.nc','_br.nc')"
   ]
  },
  {
   "cell_type": "code",
   "execution_count": null,
   "id": "9ba0566e-6dcb-4a26-a63a-04156fd3cbf4",
   "metadata": {},
   "outputs": [],
   "source": [
    "fs = fsspec.filesystem('s3', anon=True, \n",
    "                       client_kwargs={'endpoint_url': 'https://mghp.osn.xsede.org'})\n",
    "fs.download(s3file, local_file)"
   ]
  },
  {
   "cell_type": "markdown",
   "id": "f62ee436-64dd-461c-9cac-62610469896d",
   "metadata": {},
   "source": [
    "Explore local file"
   ]
  },
  {
   "cell_type": "code",
   "execution_count": null,
   "id": "f83dc7d4-f902-4a62-9d6d-7ced08b58243",
   "metadata": {},
   "outputs": [],
   "source": [
    "ds = xr.open_dataset(local_file)"
   ]
  },
  {
   "cell_type": "code",
   "execution_count": null,
   "id": "8bbd8b7d-7e68-4fa2-b9eb-56f54e5f6582",
   "metadata": {},
   "outputs": [],
   "source": [
    "ds"
   ]
  },
  {
   "cell_type": "code",
   "execution_count": null,
   "id": "43e5c395-4154-4514-a235-ad1d1dfed5d1",
   "metadata": {
    "tags": []
   },
   "outputs": [],
   "source": [
    "ds.hvplot(x='longitude', y='latitude', geo=True, rasterize=True)"
   ]
  },
  {
   "cell_type": "markdown",
   "id": "12b32ad9-7a82-430a-b9aa-ecc8b4a5ba45",
   "metadata": {},
   "source": [
    "Subset a region to get all land (bitinfo gives misleading answers if masked areas are included)"
   ]
  },
  {
   "cell_type": "code",
   "execution_count": null,
   "id": "49a27e10-7dda-4ca6-bb11-885a87e5653c",
   "metadata": {},
   "outputs": [],
   "source": [
    "ds_subset = ds.sel(longitude=slice(-120,-93),latitude=slice(50,38))\n",
    "ds_subset.hvplot(x='longitude', y='latitude', geo=True, rasterize=True)"
   ]
  },
  {
   "cell_type": "code",
   "execution_count": null,
   "id": "c71abf6e-b637-412d-a698-4ec6965558be",
   "metadata": {},
   "outputs": [],
   "source": [
    "bitinfo = xb.get_bitinformation(ds_subset, dim=\"latitude\")  \n",
    "keepbits = xb.get_keepbits(bitinfo, inflevel=0.99)  # get number of mantissa bits to keep for 99% real information\n",
    "keepbits"
   ]
  },
  {
   "cell_type": "code",
   "execution_count": null,
   "id": "13695877-e359-4e2f-8d34-ae3267720eeb",
   "metadata": {},
   "outputs": [],
   "source": [
    "bitinfo = xb.get_bitinformation(ds_subset, dim=\"longitude\")  \n",
    "keepbits = xb.get_keepbits(bitinfo, inflevel=0.99)  # get number of mantissa bits to keep for 99% real information\n",
    "keepbits"
   ]
  },
  {
   "cell_type": "code",
   "execution_count": null,
   "id": "074b97e0-e3a8-43c4-aca6-40fc1ee2b652",
   "metadata": {},
   "outputs": [],
   "source": [
    "bitinfo = xb.get_bitinformation(ds_subset, dim=\"time\")  # calling bitinformation.jl.bitinformation\n",
    "keepbits = xb.get_keepbits(bitinfo, inflevel=0.99)  # get number of mantissa bits to keep for 99% real information\n",
    "keepbits"
   ]
  },
  {
   "cell_type": "code",
   "execution_count": null,
   "id": "b7324b40-4482-4184-988a-8a685bbc461c",
   "metadata": {},
   "outputs": [],
   "source": [
    "ds_bitrounded = xb.xr_bitround(ds, keepbits)  # bitrounding keeping only keepbits mantissa bits"
   ]
  },
  {
   "cell_type": "code",
   "execution_count": null,
   "id": "560dc331-b9b9-4d5b-b4f2-7772d9c85216",
   "metadata": {},
   "outputs": [],
   "source": [
    "%%time\n",
    "ds_bitrounded.to_compressed_netcdf(local_compressed_file)  # save to netcdf with compression"
   ]
  },
  {
   "cell_type": "code",
   "execution_count": null,
   "id": "06438cc2-c97d-4628-90e4-e15be2decfde",
   "metadata": {},
   "outputs": [],
   "source": [
    "! du -h *.nc"
   ]
  },
  {
   "cell_type": "code",
   "execution_count": null,
   "id": "14f063cc-e37d-4146-bdb1-f80c5c47adac",
   "metadata": {},
   "outputs": [],
   "source": [
    "keepbits.to_netcdf('keepbits.nc')"
   ]
  }
 ],
 "metadata": {
  "kernelspec": {
   "display_name": "Python [conda env:bitinfo]",
   "language": "python",
   "name": "conda-env-bitinfo-py"
  },
  "language_info": {
   "codemirror_mode": {
    "name": "ipython",
    "version": 3
   },
   "file_extension": ".py",
   "mimetype": "text/x-python",
   "name": "python",
   "nbconvert_exporter": "python",
   "pygments_lexer": "ipython3",
   "version": "3.10.4"
  }
 },
 "nbformat": 4,
 "nbformat_minor": 5
}
