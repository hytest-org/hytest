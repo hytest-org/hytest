{
 "cells": [
  {
   "cell_type": "markdown",
   "id": "5b86af71-052b-4081-844b-779db459068d",
   "metadata": {},
   "source": [
    "# Create/update a Zarr Virtual Dataset from a collection of ERA5-Land NetCDF3 files on S3"
   ]
  },
  {
   "cell_type": "code",
   "execution_count": null,
   "id": "3b6ba617-9772-4ecf-aa7a-2be2a4bcfa1d",
   "metadata": {},
   "outputs": [],
   "source": [
    "import os\n",
    "import fsspec\n",
    "import ujson   # fast json\n",
    "from kerchunk.hdf import SingleHdf5ToZarr \n",
    "from kerchunk.combine import MultiZarrToZarr\n",
    "import xarray as xr\n",
    "import dask\n",
    "import hvplot.xarray\n",
    "import zarr\n",
    "import numpy as np"
   ]
  },
  {
   "cell_type": "code",
   "execution_count": null,
   "id": "177f18d3-53b9-4691-bc36-19632d20b448",
   "metadata": {},
   "outputs": [],
   "source": [
    "import warnings\n",
    "warnings.filterwarnings(\"ignore\")"
   ]
  },
  {
   "cell_type": "markdown",
   "id": "72931cdb-218f-42f6-a4b5-023a0e7a1549",
   "metadata": {},
   "source": [
    "#### Use AWS environment variables for credentials\n",
    "in this case to specify credentials that give write access to the 'esip-qhub' bucket"
   ]
  },
  {
   "cell_type": "code",
   "execution_count": null,
   "id": "515d0863-6705-411e-94aa-048f3a36c4cf",
   "metadata": {},
   "outputs": [],
   "source": [
    "import os\n",
    "os.environ['AWS_PROFILE'] = 'esip-qhub'"
   ]
  },
  {
   "cell_type": "code",
   "execution_count": null,
   "id": "e9ec55ae-77de-4209-8360-d2d25460c29c",
   "metadata": {},
   "outputs": [],
   "source": [
    "fs_read = fsspec.filesystem('s3', anon=False, skip_instance_cache=True)"
   ]
  },
  {
   "cell_type": "code",
   "execution_count": null,
   "id": "b9c6b31a-c2b6-48ec-9731-7a2f72a8dfcf",
   "metadata": {},
   "outputs": [],
   "source": [
    "fs_write = fs_read"
   ]
  },
  {
   "cell_type": "code",
   "execution_count": null,
   "id": "37cf61de-7fbc-4b72-a877-40a64062051f",
   "metadata": {
    "tags": []
   },
   "outputs": [],
   "source": [
    "base_dir = 's3://esip-qhub/usgs/era5_land'\n",
    "nc_files = f'{base_dir}/*.nc'\n",
    "json_dir = f'{base_dir}/jsons/'\n",
    "s3_ref_file = f'{base_dir}/archive.json'"
   ]
  },
  {
   "cell_type": "markdown",
   "id": "02c89bfe-17ed-4453-a230-9d5ac35483ec",
   "metadata": {},
   "source": [
    "#### Process all NetCDF files not found in the list of JSON files.  "
   ]
  },
  {
   "cell_type": "code",
   "execution_count": null,
   "id": "ab8fba1b-541a-45a3-b091-53fdbed2adf4",
   "metadata": {},
   "outputs": [],
   "source": [
    "nc_list = fs_read.glob(nc_files)\n",
    "print(len(nc_list))"
   ]
  },
  {
   "cell_type": "code",
   "execution_count": null,
   "id": "858055a4-4963-4c49-9203-0e4f2da3c6b3",
   "metadata": {},
   "outputs": [],
   "source": [
    "json_list = fs_read.glob(f'{json_dir}*.json')\n",
    "print(len(json_list))"
   ]
  },
  {
   "cell_type": "code",
   "execution_count": null,
   "id": "cb74a84a-ccc3-40f9-b180-a5969b4f8823",
   "metadata": {},
   "outputs": [],
   "source": [
    "# fs_write.rm(json_list)"
   ]
  },
  {
   "cell_type": "code",
   "execution_count": null,
   "id": "c107fdf8-b3eb-4944-9075-b7b4ef8e59f9",
   "metadata": {},
   "outputs": [],
   "source": [
    "nc_processed_list = [j.split('.json')[0].replace('/jsons','') for j in json_list]"
   ]
  },
  {
   "cell_type": "code",
   "execution_count": null,
   "id": "42d69305-3c28-4228-963e-99ac8775dbbc",
   "metadata": {},
   "outputs": [],
   "source": [
    "nc_process_list = list(set(nc_list) - set(nc_processed_list))"
   ]
  },
  {
   "cell_type": "code",
   "execution_count": null,
   "id": "cf477e38-751c-4388-b182-ebc1fb766464",
   "metadata": {},
   "outputs": [],
   "source": [
    "print(len(nc_process_list))"
   ]
  },
  {
   "cell_type": "markdown",
   "id": "9550156a-3e6b-4607-b937-73def563c537",
   "metadata": {},
   "source": [
    "#### Reprocess any NetCDF files that have been updated since we last wrote their JSON"
   ]
  },
  {
   "cell_type": "code",
   "execution_count": null,
   "id": "80293836-470c-474b-8b56-98e4b16521ea",
   "metadata": {},
   "outputs": [],
   "source": [
    "for i in range(len(json_list)):\n",
    "    a = fs_read.info(json_list[i])['LastModified']\n",
    "    b = fs_read.info(nc_processed_list[i])['LastModified']\n",
    "    if b>a:\n",
    "        nc_process_list.append(nc_processed_list[i])"
   ]
  },
  {
   "cell_type": "code",
   "execution_count": null,
   "id": "85c4a5fd-bbe2-437e-8537-9489905fa12e",
   "metadata": {},
   "outputs": [],
   "source": [
    "print(len(nc_process_list))"
   ]
  },
  {
   "cell_type": "code",
   "execution_count": null,
   "id": "ff2ea828-1ce7-4781-b73e-fb8d4d4dc46b",
   "metadata": {},
   "outputs": [],
   "source": [
    "flist = sorted(['s3://'+f for f in nc_process_list])"
   ]
  },
  {
   "cell_type": "code",
   "execution_count": null,
   "id": "754bd605-a604-4556-8c7b-9e30b1901dd1",
   "metadata": {
    "tags": []
   },
   "outputs": [],
   "source": [
    "so = dict(mode='rb', anon=False, profile='esip-qhub', skip_instance_cache=True)"
   ]
  },
  {
   "cell_type": "markdown",
   "id": "7c61c32d-f953-43d7-88e6-85b4719349c7",
   "metadata": {},
   "source": [
    "#### Create the individual JSON files directly on S3 "
   ]
  },
  {
   "cell_type": "markdown",
   "id": "c31b04da-7f25-4630-b89d-7074aaa5f7bd",
   "metadata": {},
   "source": [
    "We passed AWS credentials to the Dask workers via environment variables above, and the dask workers don't have the AWS credentials file with profiles defined, so we don't define a profile here, we just set `anon=False` and let the workers find the credentials via the environment variables:"
   ]
  },
  {
   "cell_type": "code",
   "execution_count": null,
   "id": "52c6d5f0-556e-492a-9d2b-8e3aab26abdc",
   "metadata": {},
   "outputs": [],
   "source": [
    "def gen_json(u):\n",
    "    with fs_read.open(u, **so) as infile:\n",
    "        h5chunks = SingleHdf5ToZarr(infile, u, inline_threshold=300)\n",
    "        p = u.split('/')\n",
    "        fname = p[-1]\n",
    "        outf = f'{json_dir}{fname}.json'\n",
    "        print(outf)\n",
    "        with fs_write.open(outf, 'wb') as f:\n",
    "            f.write(ujson.dumps(h5chunks.translate()).encode());"
   ]
  },
  {
   "cell_type": "code",
   "execution_count": null,
   "id": "de820114-f2db-4f92-89d8-b9f3508e5e37",
   "metadata": {},
   "outputs": [],
   "source": [
    "gen_json(flist[0])"
   ]
  },
  {
   "cell_type": "code",
   "execution_count": null,
   "id": "a7401acd-f02c-4e53-ab2b-fca4877a1be0",
   "metadata": {},
   "outputs": [],
   "source": [
    "u = flist[1]\n",
    "p = u.split('/')\n",
    "fname = p[-1]\n",
    "outf = f'{json_dir}{fname}.json'\n",
    "print(outf)"
   ]
  },
  {
   "cell_type": "code",
   "execution_count": null,
   "id": "acf92f28-8ae8-4d6e-a39c-8114fc86bdf5",
   "metadata": {},
   "outputs": [],
   "source": [
    "def configure_cluster(resource):\n",
    "    ''' Helper function to configure cluster\n",
    "    '''\n",
    "    if resource == 'denali':\n",
    "        cluster = LocalCluster(threads_per_worker=1)\n",
    "        client = Client(cluster)\n",
    "    \n",
    "    elif resource == 'tallgrass':\n",
    "        from dask_jobqueue import SLURMCluster\n",
    "        cluster = SLURMCluster(queue='cpu', cores=1, interface='ib0',\n",
    "                               job_extra=['--nodes=1', '--ntasks-per-node=1', '--cpus-per-task=1'],\n",
    "                               memory='6GB')\n",
    "        cluster.adapt(maximum_jobs=30)\n",
    "        client = Client(cluster)\n",
    "        \n",
    "    elif resource == 'local':\n",
    "        import os\n",
    "        import warnings\n",
    "        warnings.warn(\"Running locally can result in costly data transfers!\\n\")\n",
    "        n_cores = os.cpu_count() # set to match your machine\n",
    "        cluster = LocalCluster(threads_per_worker=n_cores)\n",
    "        client = Client(cluster)\n",
    "        \n",
    "    elif resource in ['esip-qhub-gateway-v0.4']:   \n",
    "        import sys, os\n",
    "        sys.path.append(os.path.join(os.environ['HOME'],'shared','users','lib'))\n",
    "        import ebdpy as ebd\n",
    "        aws_profile = 'esip-qhub'\n",
    "        ebd.set_credentials(profile=aws_profile)  # sets credentials for notebook\n",
    "        aws_region = 'us-west-2'\n",
    "        endpoint = f's3.{aws_region}.amazonaws.com'\n",
    "        ebd.set_credentials(profile=aws_profile, region=aws_region, endpoint=endpoint)\n",
    "        worker_max = 30\n",
    "        client,cluster = ebd.start_dask_cluster(profile=aws_profile, worker_max=worker_max, \n",
    "                                              region=aws_region, use_existing_cluster=True,\n",
    "                                              adaptive_scaling=False, wait_for_cluster=False, \n",
    "                                              worker_profile='Small Worker', propagate_env=True)\n",
    "        \n",
    "    return client, cluster"
   ]
  },
  {
   "cell_type": "code",
   "execution_count": null,
   "id": "e3eb21c3-c309-4264-9bcb-758e15964647",
   "metadata": {},
   "outputs": [],
   "source": [
    "resource = 'esip-qhub-gateway-v0.4' #denali, tallgrass, local, esip-qhub-gateway-v0.4\n",
    "client, cluster = configure_cluster(resource)"
   ]
  },
  {
   "cell_type": "code",
   "execution_count": null,
   "id": "9c8f125e-5d24-45e9-b189-12104c5a277f",
   "metadata": {},
   "outputs": [],
   "source": [
    "# _ = dask.compute(*[dask.delayed(gen_json)(f) for f in flist], retries=10);"
   ]
  },
  {
   "cell_type": "code",
   "execution_count": null,
   "id": "3b30fa5a-f9b9-45b0-86b6-35d1348750c9",
   "metadata": {},
   "outputs": [],
   "source": [
    "cluster.scale(30)"
   ]
  },
  {
   "cell_type": "code",
   "execution_count": null,
   "id": "44518f3f-ea86-422a-a98a-3f99e57fdcc0",
   "metadata": {},
   "outputs": [],
   "source": [
    "%%time\n",
    "import dask.bag as db\n",
    "b = db.from_sequence(flist, npartitions=30)\n",
    "b = b.map(gen_json)\n",
    "results = b.compute()"
   ]
  },
  {
   "cell_type": "code",
   "execution_count": null,
   "id": "f2f78246-9b51-42d2-b72b-658e184892fb",
   "metadata": {},
   "outputs": [],
   "source": [
    "jsons = fs_write.ls(json_dir)\n",
    "jsons = sorted(['s3://'+f for f in jsons])\n",
    "print(len(jsons))"
   ]
  },
  {
   "cell_type": "code",
   "execution_count": null,
   "id": "4c373e7d-3918-4679-9e15-3ab531941a4c",
   "metadata": {},
   "outputs": [],
   "source": [
    "mzz = MultiZarrToZarr(jsons,   \n",
    "    remote_protocol = 's3',\n",
    "    remote_options={'anon':False},\n",
    "    concat_dims = ['time'])"
   ]
  },
  {
   "cell_type": "code",
   "execution_count": null,
   "id": "387c4ef4-c768-47c0-b73f-3005d75b8e47",
   "metadata": {},
   "outputs": [],
   "source": [
    "%%time\n",
    "d = mzz.translate()"
   ]
  },
  {
   "cell_type": "code",
   "execution_count": null,
   "id": "92657987-a861-483a-be75-dc2a74ed41e1",
   "metadata": {},
   "outputs": [],
   "source": [
    "%%time\n",
    "fs = fsspec.filesystem(\"reference\", fo=d, ref_storage_args={'skip_instance_cache':True},\n",
    "                       remote_protocol='s3', remote_options={'anon':False})\n",
    "m = fs.get_mapper(\"\")\n",
    "ds = xr.open_dataset(m, engine=\"zarr\", backend_kwargs={'consolidated':False}, chunks={})\n",
    "ds"
   ]
  },
  {
   "cell_type": "code",
   "execution_count": null,
   "id": "5f11b65b-a71e-4e92-8ece-a52496166067",
   "metadata": {},
   "outputs": [],
   "source": [
    "ds.data_vars"
   ]
  },
  {
   "cell_type": "code",
   "execution_count": null,
   "id": "6221fef8-5ca4-4ee2-9b6e-ae076b7949ec",
   "metadata": {},
   "outputs": [],
   "source": [
    "local_consolidated_json = 'era5_land.json'\n",
    "mzz.translate(local_consolidated_json)"
   ]
  },
  {
   "cell_type": "code",
   "execution_count": null,
   "id": "4f458c1f-5b94-4d74-a14b-a97b5336f735",
   "metadata": {},
   "outputs": [],
   "source": [
    "s3_json = 's3://esip-qhub/usgs/era5_land/archive2.json'\n",
    "_ = fs_write.upload(local_consolidated_json, s3_json)"
   ]
  },
  {
   "cell_type": "code",
   "execution_count": null,
   "id": "cc2c4b87-0751-4264-a360-8e142955da0a",
   "metadata": {},
   "outputs": [],
   "source": [
    "fs_write.info(s3_json)"
   ]
  },
  {
   "cell_type": "code",
   "execution_count": null,
   "id": "81387808-d338-4e3c-9dfa-1857646c8d47",
   "metadata": {},
   "outputs": [],
   "source": [
    "%%time\n",
    "fs_s3 = fsspec.filesystem(\"reference\", fo=s3_json, ref_storage_args={'skip_instance_cache':True},\n",
    "                       remote_protocol='s3', remote_options={'anon':False})\n",
    "m = fs_s3.get_mapper(\"\")\n",
    "ds = xr.open_dataset(m, engine=\"zarr\", backend_kwargs={'consolidated':False}, chunks={})\n",
    "ds"
   ]
  },
  {
   "cell_type": "code",
   "execution_count": null,
   "id": "ef885f15-01b4-4e3b-a4c9-d85248761d95",
   "metadata": {},
   "outputs": [],
   "source": [
    "ds.sd.hvplot(x='longitude', y='latitude', cmap='turbo', rasterize=True, geo=True, tiles='ESRI')"
   ]
  },
  {
   "cell_type": "code",
   "execution_count": null,
   "id": "4ec4af76-a588-41d7-b997-e5b366bac98e",
   "metadata": {},
   "outputs": [],
   "source": [
    "import intake\n",
    "url = 'era5_intake.yml'\n",
    "cat = intake.open_catalog(url)\n",
    "list(cat)"
   ]
  },
  {
   "cell_type": "code",
   "execution_count": null,
   "id": "319b756a-acac-459a-a8e4-fb080e6ca36a",
   "metadata": {},
   "outputs": [],
   "source": [
    "fs_write.upload(url, 's3://esip-qhub/usgs/era5_land/era5_intake.yml')"
   ]
  },
  {
   "cell_type": "code",
   "execution_count": null,
   "id": "b7c5f6b0-543d-4b46-9504-69f06ee06e06",
   "metadata": {},
   "outputs": [],
   "source": [
    "url = 's3://esip-qhub/usgs/era5_land/era5_intake.yml'"
   ]
  },
  {
   "cell_type": "code",
   "execution_count": null,
   "id": "850c98a1-7b29-4cee-a32d-097a6c1555e6",
   "metadata": {},
   "outputs": [],
   "source": [
    "cat = intake.open_catalog(url)\n",
    "list(cat)"
   ]
  },
  {
   "cell_type": "code",
   "execution_count": null,
   "id": "b13558ba-6c28-4c61-9fd3-f7de017c2378",
   "metadata": {},
   "outputs": [],
   "source": [
    "cat['era5-land']"
   ]
  },
  {
   "cell_type": "code",
   "execution_count": null,
   "id": "6463ac78-0599-4d91-861f-a1bd85e3cef8",
   "metadata": {},
   "outputs": [],
   "source": [
    "ds = cat['era5-land'].to_dask()"
   ]
  },
  {
   "cell_type": "code",
   "execution_count": null,
   "id": "32723b76-113c-49f3-9faa-e3081ab5c4aa",
   "metadata": {},
   "outputs": [],
   "source": [
    "ds"
   ]
  },
  {
   "cell_type": "code",
   "execution_count": null,
   "id": "4758c2d4-87a5-4863-8bfb-0a082b459f8a",
   "metadata": {},
   "outputs": [],
   "source": []
  }
 ],
 "metadata": {
  "kernelspec": {
   "display_name": "users-pangeo",
   "language": "python",
   "name": "conda-env-users-pangeo-py"
  },
  "language_info": {
   "codemirror_mode": {
    "name": "ipython",
    "version": 3
   },
   "file_extension": ".py",
   "mimetype": "text/x-python",
   "name": "python",
   "nbconvert_exporter": "python",
   "pygments_lexer": "ipython3",
   "version": "3.9.13"
  }
 },
 "nbformat": 4,
 "nbformat_minor": 5
}
