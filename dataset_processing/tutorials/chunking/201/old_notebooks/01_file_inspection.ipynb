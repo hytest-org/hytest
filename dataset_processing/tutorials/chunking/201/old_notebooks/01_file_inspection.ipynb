{
 "cells": [
  {
   "cell_type": "markdown",
   "id": "928113ca-157b-494d-a556-24b03ae33d80",
   "metadata": {},
   "source": [
    "# Inspection of Files\n"
   ]
  },
  {
   "cell_type": "code",
   "execution_count": null,
   "id": "00e5906a-aba7-43ef-ae48-0d02ce1d68ce",
   "metadata": {},
   "outputs": [],
   "source": [
    "import sys\n",
    "import fsspec\n",
    "import xarray as xr\n",
    "import hvplot.xarray\n",
    "import zarr"
   ]
  },
  {
   "cell_type": "code",
   "execution_count": null,
   "id": "479f6a69-9d2f-4560-b242-6ecab6bb0a3c",
   "metadata": {
    "tags": [
     "remove-input"
    ]
   },
   "outputs": [],
   "source": [
    "print(\"Python : \", sys.version)\n",
    "print(\"fsspec : \", fsspec.__version__)\n",
    "print(\"xarray : \", xr.__version__)\n",
    "print(\"zarr   : \", zarr.__version__)"
   ]
  },
  {
   "cell_type": "code",
   "execution_count": null,
   "id": "f91aab47-cb3c-457b-a3d5-5dfcb5fb1cb4",
   "metadata": {},
   "outputs": [],
   "source": [
    "fs = fsspec.filesystem('s3', anon=True)"
   ]
  },
  {
   "cell_type": "code",
   "execution_count": null,
   "id": "5c5b101c-603e-47da-a777-521586b52b7a",
   "metadata": {},
   "outputs": [],
   "source": [
    "flist = fs.ls('s3://noaa-nwm-retrospective-2-1-pds/')\n",
    "flist"
   ]
  },
  {
   "cell_type": "code",
   "execution_count": null,
   "id": "2d7efbb9-081c-49c0-8a09-09c02c85e85c",
   "metadata": {},
   "outputs": [],
   "source": [
    "flist = fs.glob('noaa-nwm-retrospective-2-1-pds/model_output/*')\n",
    "print(flist[0])\n",
    "print(flist[-1])"
   ]
  },
  {
   "cell_type": "code",
   "execution_count": null,
   "id": "71394793-bd07-46d1-bac0-9b282ed79211",
   "metadata": {},
   "outputs": [],
   "source": [
    "flist = fs.glob('noaa-nwm-retrospective-2-1-pds/model_output/1979/*LDAS*')\n",
    "flist[0]"
   ]
  },
  {
   "cell_type": "code",
   "execution_count": null,
   "id": "f7a7d7a8-4e5e-4344-8c81-e522402aab43",
   "metadata": {},
   "outputs": [],
   "source": [
    "flist = fs.glob('noaa-nwm-retrospective-2-1-pds/model_output/2020/*LDAS*')\n",
    "flist[-1]"
   ]
  },
  {
   "cell_type": "markdown",
   "id": "c5bc0c69-3b0a-4d40-8553-794c84c90dcf",
   "metadata": {},
   "source": [
    "Okay, so at this point we've learned that we have 3-hourly output over roughly 40 years"
   ]
  },
  {
   "cell_type": "code",
   "execution_count": null,
   "id": "99be3800-d689-499c-8145-6d7b0b94fd7e",
   "metadata": {},
   "outputs": [],
   "source": [
    "# %%time\n",
    "# flist = fs.glob('noaa-nwm-retrospective-2-1-pds/model_output/*/*LDAS*')   # this is slow\n",
    "40 * 365 * 24 / 3"
   ]
  },
  {
   "cell_type": "code",
   "execution_count": null,
   "id": "cd2e1172-b8a1-46ad-a67d-1b3449253c3d",
   "metadata": {},
   "outputs": [],
   "source": [
    "flist[0]"
   ]
  },
  {
   "cell_type": "markdown",
   "id": "69ea774f-ebea-46cd-b458-2ee13fb96a73",
   "metadata": {},
   "source": [
    "So about 117,000 NetCDF files! "
   ]
  },
  {
   "cell_type": "markdown",
   "id": "1e51ecb8-53dc-4b95-a6e6-31108619c58d",
   "metadata": {},
   "source": [
    "Let's check one out.  Although it's not super efficient, we can open a NetCDF file on S3 as a virtual file object with `fs.open(s3_url_of_netcdf_file)`.  If we open a dataset in xarray using `chunks=` we are telling xarray to use Dask, and `chunks={}` means use the native chunking in the NetCDF file"
   ]
  },
  {
   "cell_type": "code",
   "execution_count": null,
   "id": "182cfa63-1752-4b40-877f-8215a2a2b531",
   "metadata": {},
   "outputs": [],
   "source": [
    "ds = xr.open_dataset(fs.open(flist[0]), chunks={})"
   ]
  },
  {
   "cell_type": "code",
   "execution_count": null,
   "id": "f0683bfd-73c9-4614-854d-a31c70718502",
   "metadata": {},
   "outputs": [],
   "source": [
    "ds"
   ]
  },
  {
   "cell_type": "code",
   "execution_count": null,
   "id": "60bc3ccd-0dd2-4577-b18a-c9a03f567a62",
   "metadata": {},
   "outputs": [],
   "source": [
    "ds.data_vars"
   ]
  },
  {
   "cell_type": "code",
   "execution_count": null,
   "id": "5110f8e6-ae84-4810-ab9c-3ef04fcc7a05",
   "metadata": {},
   "outputs": [],
   "source": [
    "ds = ds[['ACCET', 'SNEQV', 'FSNO']]"
   ]
  },
  {
   "cell_type": "code",
   "execution_count": null,
   "id": "d33f0c62-37ff-4cc3-86e9-e9159ac354f8",
   "metadata": {},
   "outputs": [],
   "source": [
    "ds.data_vars"
   ]
  },
  {
   "cell_type": "code",
   "execution_count": null,
   "id": "9859be1b-b51f-4fcb-9186-2f0861982847",
   "metadata": {},
   "outputs": [],
   "source": [
    "ds['ACCET']"
   ]
  },
  {
   "cell_type": "code",
   "execution_count": null,
   "id": "e1614289-a6c4-434b-89b3-a3ef2bc409cb",
   "metadata": {},
   "outputs": [],
   "source": [
    "ds.ACCET"
   ]
  },
  {
   "cell_type": "markdown",
   "id": "79e602df-8cb5-4e90-9d24-be3ea7f80185",
   "metadata": {},
   "source": [
    "The data is chunked as full spatial domain and 1 time step, with about 135MB chunk size.   This is actually great for visualization of maps at specific time steps or for calculations that involve the entire dataset. So kerchunking this data would be a nice first step. "
   ]
  },
  {
   "cell_type": "code",
   "execution_count": null,
   "id": "c0a04a90-f3c2-46a9-a912-443b416fb350",
   "metadata": {},
   "outputs": [],
   "source": [
    "%%time\n",
    "da = ds.ACCET.load()"
   ]
  },
  {
   "cell_type": "code",
   "execution_count": null,
   "id": "fa5347cb-4213-489e-b8a7-56b4d8730797",
   "metadata": {},
   "outputs": [],
   "source": [
    "da"
   ]
  },
  {
   "cell_type": "code",
   "execution_count": null,
   "id": "90e34d51-ebe1-418f-89ce-2f07dbc5160d",
   "metadata": {},
   "outputs": [],
   "source": [
    "da.hvplot(x='x', y='y', rasterize=True, cmap='turbo', data_aspect=1)"
   ]
  },
  {
   "cell_type": "markdown",
   "id": "2d301765-69ec-4334-b3cd-5ea400f97d6c",
   "metadata": {},
   "source": []
  }
 ],
 "metadata": {
  "kernelspec": {
   "display_name": "Python 3 (ipykernel)",
   "language": "python",
   "name": "python3"
  },
  "language_info": {
   "codemirror_mode": {
    "name": "ipython",
    "version": 3
   },
   "file_extension": ".py",
   "mimetype": "text/x-python",
   "name": "python",
   "nbconvert_exporter": "python",
   "pygments_lexer": "ipython3",
   "version": "3.12.0"
  },
  "vscode": {
   "interpreter": {
    "hash": "21742c3f70e60132a0f53ab9a02119f1da5d00e790acd69466294df8491d8f10"
   }
  }
 },
 "nbformat": 4,
 "nbformat_minor": 5
}
