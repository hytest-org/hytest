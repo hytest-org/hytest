{
 "cells": [
  {
   "cell_type": "markdown",
   "id": "d5d0a75f-986a-4493-ad9d-98e7d727abd4",
   "metadata": {},
   "source": [
    "# Count Kerchunked JSON files \n",
    "Run this while the kerchunking is taking place to make sure list is growing"
   ]
  },
  {
   "cell_type": "code",
   "execution_count": null,
   "id": "a8222ec4-a363-4c0a-8d3b-fd0b5cea9572",
   "metadata": {},
   "outputs": [],
   "source": [
    "import fsspec"
   ]
  },
  {
   "cell_type": "code",
   "execution_count": null,
   "id": "4a36e7db-5dff-405e-960c-49196817c77b",
   "metadata": {},
   "outputs": [],
   "source": [
    "fs_json = fsspec.filesystem('s3', anon=False, skip_instance_cache=True)  "
   ]
  },
  {
   "cell_type": "code",
   "execution_count": null,
   "id": "3bfb96ad-cb80-4206-bbf6-9e5bd0870999",
   "metadata": {},
   "outputs": [],
   "source": [
    "json_dir = 's3://esip-qhub/noaa/nwm/grid1km/json/'"
   ]
  },
  {
   "cell_type": "raw",
   "id": "2985e805-1963-446b-ba7f-320dc24e94be",
   "metadata": {},
   "source": [
    "%%time\n",
    "year = '1984'\n",
    "jlist = fs_json.glob(f'{json_dir}/{year}*')\n",
    "print(len(jlist))\n",
    "print(jlist[0])\n",
    "print(jlist[-1])"
   ]
  },
  {
   "cell_type": "code",
   "execution_count": null,
   "id": "86799c28-4072-412a-8f16-533d9c9b0d32",
   "metadata": {},
   "outputs": [],
   "source": [
    "jlist = fs_json.ls(json_dir, refresh=True)\n",
    "print(len(jlist))\n",
    "print(jlist[0])\n",
    "print(jlist[-1])"
   ]
  },
  {
   "cell_type": "code",
   "execution_count": null,
   "id": "1baba90a-2bd9-4ff5-bdcf-2d4484302efa",
   "metadata": {},
   "outputs": [],
   "source": []
  }
 ],
 "metadata": {
  "kernelspec": {
   "display_name": "Python 3 (ipykernel)",
   "language": "python",
   "name": "python3"
  },
  "language_info": {
   "codemirror_mode": {
    "name": "ipython",
    "version": 3
   },
   "file_extension": ".py",
   "mimetype": "text/x-python",
   "name": "python",
   "nbconvert_exporter": "python",
   "pygments_lexer": "ipython3",
   "version": "3.12.0"
  }
 },
 "nbformat": 4,
 "nbformat_minor": 5
}
