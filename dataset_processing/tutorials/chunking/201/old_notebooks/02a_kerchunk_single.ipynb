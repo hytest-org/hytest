{
 "cells": [
  {
   "cell_type": "markdown",
   "id": "928113ca-157b-494d-a556-24b03ae33d80",
   "metadata": {},
   "source": [
    "# Create kerchunk file for each NetCDF\n",
    "We want to create kerchunk JSON sidecar for 100,000+ files"
   ]
  },
  {
   "cell_type": "code",
   "execution_count": null,
   "id": "00e5906a-aba7-43ef-ae48-0d02ce1d68ce",
   "metadata": {},
   "outputs": [],
   "source": [
    "import fsspec\n",
    "import xarray as xr\n",
    "import hvplot.xarray\n",
    "import pandas as pd"
   ]
  },
  {
   "cell_type": "code",
   "execution_count": null,
   "id": "64352e8d-179a-485a-b7c6-4688e87e0297",
   "metadata": {},
   "outputs": [],
   "source": [
    "import ujson   # fast json\n",
    "import kerchunk\n",
    "from kerchunk.hdf import SingleHdf5ToZarr \n",
    "from kerchunk.combine import MultiZarrToZarr\n",
    "from pathlib import Path"
   ]
  },
  {
   "cell_type": "markdown",
   "id": "6fe4adba-4b23-4a88-ae2f-42695a07b3fb",
   "metadata": {},
   "source": [
    "#### System Setup"
   ]
  },
  {
   "cell_type": "code",
   "execution_count": null,
   "id": "72c018cf-344d-435f-b201-6a6f03e58412",
   "metadata": {},
   "outputs": [],
   "source": [
    "# Include HyTest helpers...\n",
    "import sys\n",
    "libDir = r'/shared/users/lib'\n",
    "if libDir not in sys.path:\n",
    "    sys.path.append(libDir)\n",
    "# Activate logging\n",
    "import logging\n",
    "logging.basicConfig(level=logging.INFO, force=True)\n",
    "\n",
    "import os\n",
    "print(f\"CPUS: {os.cpu_count()}\")\n",
    "import psutil\n",
    "svmem = psutil.virtual_memory()\n",
    "print(f\"Total Virtual Memory: {svmem.total/(1024*1024*1024):.2f} Gb\")"
   ]
  },
  {
   "cell_type": "markdown",
   "id": "8fea144a-8ad3-4d12-8561-5fb07d4380c9",
   "metadata": {},
   "source": [
    "#### Spin up Dask Cluster\n",
    "This operation will be able to work in parallel.  Spin up a dask cluster on \n",
    "the cloud hardware to schedule the various workers.  Note that this cluster\n",
    "is configured with a specific user **profile** with permissions to write to\n",
    "our eventual output location. "
   ]
  },
  {
   "cell_type": "code",
   "execution_count": null,
   "id": "b960d875-d4f2-469e-ba6f-9374d1dfce2c",
   "metadata": {},
   "outputs": [],
   "source": [
    "import ebdpy as ebd\n",
    "os.environ['AWS_PROFILE'] = 'esip-qhub'\n",
    "client,cluster = ebd.start_dask_cluster(\n",
    "    profile=os.environ['AWS_PROFILE'],\n",
    "    worker_max=60,\n",
    "    region='us-west-2', \n",
    "    use_existing_cluster=True,\n",
    "    adaptive_scaling=True, \n",
    "    wait_for_cluster=False, \n",
    "    propagate_env=True)"
   ]
  },
  {
   "cell_type": "markdown",
   "id": "6a60d074-fbd9-4eee-918d-1ebfff6c8080",
   "metadata": {},
   "source": [
    "#### Construct list of files to kerchunk"
   ]
  },
  {
   "cell_type": "code",
   "execution_count": null,
   "id": "f91aab47-cb3c-457b-a3d5-5dfcb5fb1cb4",
   "metadata": {},
   "outputs": [],
   "source": [
    "fs_nc = fsspec.filesystem('s3', anon=True)"
   ]
  },
  {
   "cell_type": "code",
   "execution_count": null,
   "id": "5c5b101c-603e-47da-a777-521586b52b7a",
   "metadata": {},
   "outputs": [],
   "source": [
    "flist = fs_nc.ls('s3://noaa-nwm-retrospective-2-1-pds/')\n",
    "flist"
   ]
  },
  {
   "cell_type": "code",
   "execution_count": null,
   "id": "2d7efbb9-081c-49c0-8a09-09c02c85e85c",
   "metadata": {},
   "outputs": [],
   "source": [
    "flist = fs_nc.glob('noaa-nwm-retrospective-2-1-pds/model_output/*')\n",
    "print(flist[0])\n",
    "print(flist[-1])"
   ]
  },
  {
   "cell_type": "code",
   "execution_count": null,
   "id": "4e3dbafb-5637-4417-a502-bf6339e701bd",
   "metadata": {},
   "outputs": [],
   "source": [
    "nc_dir = 'noaa-nwm-retrospective-2-1-pds/model_output'"
   ]
  },
  {
   "cell_type": "code",
   "execution_count": null,
   "id": "9c23e985-8d88-485a-9d38-67d62634a84c",
   "metadata": {},
   "outputs": [],
   "source": [
    "year = '*'"
   ]
  },
  {
   "cell_type": "markdown",
   "id": "4f36bc24-785d-4916-865b-a6543e35738e",
   "metadata": {},
   "source": [
    "Create the file list.  Listing the files takes 5 minutes, so we check to see if we previously\n",
    "stored them in a .csv file. "
   ]
  },
  {
   "cell_type": "code",
   "execution_count": null,
   "id": "71394793-bd07-46d1-bac0-9b282ed79211",
   "metadata": {},
   "outputs": [],
   "source": [
    "if Path('flist.csv').is_file():\n",
    "    df = pd.read_csv('flist.csv')\n",
    "    flist = list(df.iloc[:,1])\n",
    "else:\n",
    "    flist = fs_nc.glob(f'{nc_dir}/{year}/*LDAS*')\n",
    "    df = pd.Series(flist)\n",
    "    df.to_csv('flist.csv')\n",
    "print(f'{len(flist)} files')\n",
    "print(flist[0])\n",
    "print(flist[-1])"
   ]
  },
  {
   "cell_type": "markdown",
   "id": "811a9641-8c9f-4315-a4f1-b0ae827e6045",
   "metadata": {},
   "source": [
    "#### Define the filesystem for where the json files will be stored.   \n",
    "For file systems where files are changing, you want `skip_instance_cache=True` or else you won't see the changed files"
   ]
  },
  {
   "cell_type": "code",
   "execution_count": null,
   "id": "d3c6a791-92e1-4881-9421-2b384cff675b",
   "metadata": {},
   "outputs": [],
   "source": [
    "fs_json = fsspec.filesystem('s3', anon=False, skip_instance_cache=True)  "
   ]
  },
  {
   "cell_type": "code",
   "execution_count": null,
   "id": "a49aab3f-3055-4ab4-9142-23c43752cfa8",
   "metadata": {},
   "outputs": [],
   "source": [
    "json_dir = 's3://esip-qhub/noaa/nwm/grid1km/json'"
   ]
  },
  {
   "cell_type": "code",
   "execution_count": null,
   "id": "9228c8de-8745-42f0-b427-997105f18ef2",
   "metadata": {},
   "outputs": [],
   "source": [
    "jlist = fs_json.ls(f'{json_dir}', refresh=True)\n",
    "print(len(jlist))\n",
    "print(jlist[0])\n",
    "print(jlist[-1])"
   ]
  },
  {
   "cell_type": "code",
   "execution_count": null,
   "id": "fd2e51d1-5809-4749-9bd0-f95adb01bc7d",
   "metadata": {},
   "outputs": [],
   "source": [
    "p = Path(flist[0])\n",
    "print(p.stem)\n",
    "print(p.name)"
   ]
  },
  {
   "cell_type": "markdown",
   "id": "80707b6d-517c-4ee8-a33e-6c1297dbf91c",
   "metadata": {},
   "source": [
    "#### Construct list of nc files that haven't already been kerchunked"
   ]
  },
  {
   "cell_type": "code",
   "execution_count": null,
   "id": "9fe2582e-4111-4f83-bc50-f1e3070a01be",
   "metadata": {},
   "outputs": [],
   "source": [
    "nc_files = [Path(f).stem for f in flist]"
   ]
  },
  {
   "cell_type": "code",
   "execution_count": null,
   "id": "831eb593-66e6-4fcd-a098-3770fc6cf837",
   "metadata": {},
   "outputs": [],
   "source": [
    "json_files = [Path(f).stem for f in jlist]"
   ]
  },
  {
   "cell_type": "code",
   "execution_count": null,
   "id": "9ba8c96a-ec33-4877-93ae-0576cd5906e9",
   "metadata": {},
   "outputs": [],
   "source": [
    "nc_process_files = list(set(nc_files) - set(json_files))\n",
    "print(len(nc_process_files))"
   ]
  },
  {
   "cell_type": "code",
   "execution_count": null,
   "id": "4e9b3e9e-d381-4d86-8391-a6b7614023cc",
   "metadata": {},
   "outputs": [],
   "source": [
    "nc_process_list = []\n",
    "for f in nc_process_files:\n",
    "    year = f[0:4]  # extract year from filename\n",
    "    nc_process_list.append(f'{nc_dir}/{year}/{f}.comp')"
   ]
  },
  {
   "cell_type": "markdown",
   "id": "064f380a-68d2-4feb-9115-39b266c877a9",
   "metadata": {},
   "source": [
    "#### Kerchunk each file in the list"
   ]
  },
  {
   "cell_type": "code",
   "execution_count": null,
   "id": "78667f80-e0d2-45db-aa22-a30237961738",
   "metadata": {},
   "outputs": [],
   "source": [
    "def gen_json(u):\n",
    "    with fs_nc.open(u, **so) as infile:\n",
    "        h5chunks = SingleHdf5ToZarr(infile, u, inline_threshold=300)\n",
    "        p = Path(u)\n",
    "        fname = p.stem\n",
    "        outf = f'{json_dir}/{fname}.json'\n",
    "        print(outf)\n",
    "        with fs_json.open(outf, 'wb') as f:\n",
    "            f.write(ujson.dumps(h5chunks.translate()).encode());"
   ]
  },
  {
   "cell_type": "code",
   "execution_count": null,
   "id": "1a366900-8a5a-4430-882d-f0fe41f6b12c",
   "metadata": {},
   "outputs": [],
   "source": [
    "so = dict(mode='rb', anon=True, default_fill_cache=False, default_cache_type='first')"
   ]
  },
  {
   "cell_type": "markdown",
   "id": "04e37b86-df1b-44e5-aa09-4e5f400832eb",
   "metadata": {},
   "source": [
    "Try kerchunking one file from the list"
   ]
  },
  {
   "cell_type": "code",
   "execution_count": null,
   "id": "60bc3ccd-0dd2-4577-b18a-c9a03f567a62",
   "metadata": {},
   "outputs": [],
   "source": [
    "%%time\n",
    "gen_json(nc_process_list[0])"
   ]
  },
  {
   "cell_type": "code",
   "execution_count": null,
   "id": "1d82d89f-a50d-41ee-80c3-5d97052facda",
   "metadata": {},
   "outputs": [],
   "source": [
    "s_opts = {'requester_pays':True, 'skip_instance_cache':True}\n",
    "r_opts = {'anon':True}\n",
    "fs = fsspec.filesystem(\"reference\", fo=f's3://{jlist[0]}', ref_storage_args=s_opts,\n",
    "                       remote_protocol='s3', remote_options=r_opts)\n",
    "m = fs.get_mapper(\"\")\n",
    "ds = xr.open_dataset(m, engine=\"zarr\", chunks={}, backend_kwargs=dict(consolidated=False))"
   ]
  },
  {
   "cell_type": "code",
   "execution_count": null,
   "id": "ab2db9dc-414d-401d-9c73-30b217f78434",
   "metadata": {},
   "outputs": [],
   "source": [
    "ds"
   ]
  },
  {
   "cell_type": "code",
   "execution_count": null,
   "id": "5110f8e6-ae84-4810-ab9c-3ef04fcc7a05",
   "metadata": {},
   "outputs": [],
   "source": [
    "ds = ds[['ACCET', 'SNEQV', 'FSNO']]"
   ]
  },
  {
   "cell_type": "code",
   "execution_count": null,
   "id": "9859be1b-b51f-4fcb-9186-2f0861982847",
   "metadata": {},
   "outputs": [],
   "source": [
    "ds"
   ]
  },
  {
   "cell_type": "markdown",
   "id": "2d301765-69ec-4334-b3cd-5ea400f97d6c",
   "metadata": {},
   "source": [
    "#### Parallel creation of individual JSONs for each file using Dask Bag"
   ]
  },
  {
   "cell_type": "code",
   "execution_count": null,
   "id": "71d023e6-0b9d-4291-947e-6d8ce9635c38",
   "metadata": {},
   "outputs": [],
   "source": [
    "import dask.bag as db"
   ]
  },
  {
   "cell_type": "code",
   "execution_count": null,
   "id": "d00e8e4c-6f7c-4b10-b35c-056fdbbced12",
   "metadata": {},
   "outputs": [],
   "source": [
    "b = db.from_sequence(nc_process_list, npartitions=120)"
   ]
  },
  {
   "cell_type": "code",
   "execution_count": null,
   "id": "151f1809-65e9-414d-b37c-1b9bf0fa424f",
   "metadata": {},
   "outputs": [],
   "source": [
    "b1 = b.map(gen_json)"
   ]
  },
  {
   "cell_type": "code",
   "execution_count": null,
   "id": "fa975127-b1af-4ed3-b6fa-dd55d5619d42",
   "metadata": {},
   "outputs": [],
   "source": [
    "%%time\n",
    "from dask.distributed import performance_report\n",
    "with performance_report(filename=\"dask-report-whole.html\"):\n",
    "    b1.compute(retries=10)"
   ]
  },
  {
   "cell_type": "code",
   "execution_count": null,
   "id": "6341c96f-acbf-4a65-95cb-aa5705084d98",
   "metadata": {},
   "outputs": [],
   "source": []
  }
 ],
 "metadata": {
  "kernelspec": {
   "display_name": "Python 3 (ipykernel)",
   "language": "python",
   "name": "python3"
  },
  "language_info": {
   "codemirror_mode": {
    "name": "ipython",
    "version": 3
   },
   "file_extension": ".py",
   "mimetype": "text/x-python",
   "name": "python",
   "nbconvert_exporter": "python",
   "pygments_lexer": "ipython3",
   "version": "3.12.0"
  }
 },
 "nbformat": 4,
 "nbformat_minor": 5
}
