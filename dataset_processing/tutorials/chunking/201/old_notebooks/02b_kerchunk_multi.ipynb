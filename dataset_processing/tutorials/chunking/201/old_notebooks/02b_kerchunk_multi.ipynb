{
 "cells": [
  {
   "cell_type": "markdown",
   "id": "e154d62b-0c5c-4999-8dcc-ff71cfcbc7ac",
   "metadata": {},
   "source": [
    "# Create combined JSON\n",
    "read all individual referenceFileSystem JSON files and create combined JSON for entire dataset"
   ]
  },
  {
   "cell_type": "code",
   "execution_count": null,
   "id": "00e5906a-aba7-43ef-ae48-0d02ce1d68ce",
   "metadata": {},
   "outputs": [],
   "source": [
    "import fsspec\n",
    "import xarray as xr\n",
    "import hvplot.xarray\n",
    "import metpy"
   ]
  },
  {
   "cell_type": "code",
   "execution_count": null,
   "id": "64352e8d-179a-485a-b7c6-4688e87e0297",
   "metadata": {},
   "outputs": [],
   "source": [
    "import ujson   # fast json\n",
    "from kerchunk.combine import MultiZarrToZarr\n",
    "import kerchunk"
   ]
  },
  {
   "cell_type": "code",
   "execution_count": null,
   "id": "a49aab3f-3055-4ab4-9142-23c43752cfa8",
   "metadata": {},
   "outputs": [],
   "source": [
    "json_dir = 's3://esip-qhub/noaa/nwm/grid1km/json'"
   ]
  },
  {
   "cell_type": "markdown",
   "id": "811a9641-8c9f-4315-a4f1-b0ae827e6045",
   "metadata": {},
   "source": [
    "For file systems where files are changing, you want `skip_instance_cache=True` or else you won't see the changed files"
   ]
  },
  {
   "cell_type": "code",
   "execution_count": null,
   "id": "d3c6a791-92e1-4881-9421-2b384cff675b",
   "metadata": {},
   "outputs": [],
   "source": [
    "fs_json = fsspec.filesystem('s3', anon=False, skip_instance_cache=True)  "
   ]
  },
  {
   "cell_type": "code",
   "execution_count": null,
   "id": "374a93a5-3063-4b7f-a17b-e1051d86c2f4",
   "metadata": {},
   "outputs": [],
   "source": [
    "year = '1983'"
   ]
  },
  {
   "cell_type": "code",
   "execution_count": null,
   "id": "791f5bd9-1612-4de8-8150-d900206864a3",
   "metadata": {},
   "outputs": [],
   "source": [
    "json_list  = fs_json.glob(f'{json_dir}/{year}*.json')\n",
    "json_list = [f's3://{json}' for json in json_list]\n",
    "print(len(json_list))\n",
    "print(json_list[0])\n",
    "print(json_list[-1])"
   ]
  },
  {
   "cell_type": "code",
   "execution_count": null,
   "id": "6eaa0b9f-063a-411b-98d5-2ae4b6f40631",
   "metadata": {},
   "outputs": [],
   "source": [
    "json_list  = fs_json.ls(json_dir, refresh=True)\n",
    "json_list = [f's3://{json}' for json in json_list]\n",
    "print(len(json_list))\n",
    "print(json_list[0])\n",
    "print(json_list[-1])"
   ]
  },
  {
   "cell_type": "markdown",
   "id": "d506afbc-d0f4-46fc-8752-103f321dda39",
   "metadata": {},
   "source": [
    "#### Combine individual JSON into combined JSON"
   ]
  },
  {
   "cell_type": "code",
   "execution_count": null,
   "id": "6b4b5a49-5006-4400-8bbb-7abd453fe1a6",
   "metadata": {},
   "outputs": [],
   "source": [
    "#combined_json = f's3://esip-qhub/noaa/nwm/grid1km/combined_{year}.json'\n",
    "combined_json = f's3://esip-qhub/noaa/nwm/grid1km/combined.json'"
   ]
  },
  {
   "cell_type": "code",
   "execution_count": null,
   "id": "1d730612-69ab-4c50-8396-1bb4f48617d7",
   "metadata": {},
   "outputs": [],
   "source": []
  },
  {
   "cell_type": "code",
   "execution_count": null,
   "id": "b5196290-3bf1-4d96-849c-a53638afd4c3",
   "metadata": {},
   "outputs": [],
   "source": [
    "mzz = MultiZarrToZarr(json_list,\n",
    "    remote_protocol = 's3',\n",
    "    remote_options = dict(anon=True),   \n",
    "    concat_dims = ['time'], \n",
    "    identical_dims=[\"x\", \"y\", \"crs\"],\n",
    "    preprocess = kerchunk.combine.drop(\"reference_time\"))                 "
   ]
  },
  {
   "cell_type": "markdown",
   "id": "4dc4ca50-8083-4ef8-9a35-31f88c8f0557",
   "metadata": {},
   "source": [
    "Create a dict from the mzz object"
   ]
  },
  {
   "cell_type": "code",
   "execution_count": null,
   "id": "7f1d21f4-5e8a-4e9c-9676-49f8932bbd15",
   "metadata": {},
   "outputs": [],
   "source": [
    "%%time\n",
    "d = mzz.translate()"
   ]
  },
  {
   "cell_type": "markdown",
   "id": "0c155c00-65ac-4848-92e1-778d5835bd0f",
   "metadata": {},
   "source": [
    "Write the dict to the combined JSON file"
   ]
  },
  {
   "cell_type": "code",
   "execution_count": null,
   "id": "7318ccad-cf4d-4a9e-87e3-742c7bd30d63",
   "metadata": {},
   "outputs": [],
   "source": [
    "%%time\n",
    "with fs_json.open(combined_json, 'wb') as f:\n",
    "    f.write(ujson.dumps(d).encode());"
   ]
  },
  {
   "cell_type": "markdown",
   "id": "0274a001-384d-49a8-b470-da8a5010d707",
   "metadata": {},
   "source": [
    "Examine the combined kerchunked dataset "
   ]
  },
  {
   "cell_type": "code",
   "execution_count": null,
   "id": "693075db-849e-4331-b63d-aa84536a5348",
   "metadata": {},
   "outputs": [],
   "source": [
    "%%time\n",
    "s_opts = {'requester_pays':True, 'skip_instance_cache':True}\n",
    "r_opts = {'anon':True}\n",
    "fs = fsspec.filesystem(\"reference\", fo=combined_json, ref_storage_args=s_opts,\n",
    "                       remote_protocol='s3', remote_options=r_opts)\n",
    "m = fs.get_mapper(\"\")\n",
    "ds = xr.open_dataset(m, engine=\"zarr\", chunks={}, backend_kwargs=dict(consolidated=False))"
   ]
  },
  {
   "cell_type": "code",
   "execution_count": null,
   "id": "3b43ceda-5a53-466f-9f0e-0e59b5d9cdc5",
   "metadata": {},
   "outputs": [],
   "source": [
    "ds"
   ]
  },
  {
   "cell_type": "code",
   "execution_count": null,
   "id": "48e8c15b-fc4d-4e52-908c-7f5dd6b39f13",
   "metadata": {},
   "outputs": [],
   "source": [
    "ds = ds[['ACCET', 'SNEQV', 'FSNO', 'crs']]"
   ]
  },
  {
   "cell_type": "code",
   "execution_count": null,
   "id": "a881b70f-2255-43d5-8822-99e3387cc3c7",
   "metadata": {},
   "outputs": [],
   "source": [
    "ds  = ds.metpy.parse_cf()"
   ]
  },
  {
   "cell_type": "code",
   "execution_count": null,
   "id": "67fa8d1b-befd-444e-b19d-5255a8cd665a",
   "metadata": {},
   "outputs": [],
   "source": [
    "crs = ds['ACCET'].metpy.cartopy_crs"
   ]
  },
  {
   "cell_type": "code",
   "execution_count": null,
   "id": "6e3a61f7-6717-42ac-911c-945a620db12b",
   "metadata": {},
   "outputs": [],
   "source": [
    "%%time\n",
    "da = ds.ACCET.isel(time=500).load()"
   ]
  },
  {
   "cell_type": "code",
   "execution_count": null,
   "id": "25e59df5-90e6-454d-99ba-10f7fe287dad",
   "metadata": {},
   "outputs": [],
   "source": [
    "da.plot()"
   ]
  },
  {
   "cell_type": "code",
   "execution_count": null,
   "id": "3939c2d1-5fdd-45e2-a180-0907b911b6c7",
   "metadata": {},
   "outputs": [],
   "source": [
    "#da.hvplot(x='x', y='y', rasterize=True, cmap='turbo', data_aspect=1)"
   ]
  },
  {
   "cell_type": "code",
   "execution_count": null,
   "id": "640c3d5a-f1bf-4e59-9973-3fbdbbccd423",
   "metadata": {},
   "outputs": [],
   "source": [
    "#da.hvplot(x='x', y='y', rasterize=True, crs=crs, cmap='turbo', tiles='OSM', alpha=0.7)"
   ]
  },
  {
   "cell_type": "code",
   "execution_count": null,
   "id": "0355dbdf-44b2-432e-846e-4f8b0bdd1460",
   "metadata": {},
   "outputs": [],
   "source": []
  }
 ],
 "metadata": {
  "kernelspec": {
   "display_name": "default *",
   "language": "python",
   "name": "conda-env-default-py"
  },
  "language_info": {
   "codemirror_mode": {
    "name": "ipython",
    "version": 3
   },
   "file_extension": ".py",
   "mimetype": "text/x-python",
   "name": "python",
   "nbconvert_exporter": "python",
   "pygments_lexer": "ipython3",
   "version": "3.10.8"
  }
 },
 "nbformat": 4,
 "nbformat_minor": 5
}
