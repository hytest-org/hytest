{
 "cells": [
  {
   "cell_type": "markdown",
   "id": "d5d0a75f-986a-4493-ad9d-98e7d727abd4",
   "metadata": {},
   "source": [
    "#### count Kerchunked JSON files \n",
    "Run this while the kerchunking is taking place to make sure list is growing"
   ]
  },
  {
   "cell_type": "code",
   "execution_count": null,
   "id": "a8222ec4-a363-4c0a-8d3b-fd0b5cea9572",
   "metadata": {},
   "outputs": [],
   "source": [
    "import fsspec\n",
    "import pandas as pd\n",
    "import dask\n",
    "import dask.bag as db"
   ]
  },
  {
   "cell_type": "code",
   "execution_count": null,
   "id": "bbc158d9-5306-4c17-a3c6-483207d0b6df",
   "metadata": {},
   "outputs": [],
   "source": [
    "import sys\n",
    "import os\n",
    "libDir = r'/shared/users/lib'\n",
    "if libDir not in sys.path:\n",
    "    sys.path.append(libDir)\n",
    "    \n",
    "import ebdpy as ebd\n",
    "os.environ['AWS_PROFILE'] = 'esip-qhub'\n",
    "client,cluster = ebd.start_dask_cluster(\n",
    "    profile=os.environ['AWS_PROFILE'],\n",
    "    worker_max=30,\n",
    "    region='us-west-2', \n",
    "    use_existing_cluster=True,\n",
    "    adaptive_scaling=False, \n",
    "    wait_for_cluster=False, \n",
    "    propagate_env=True)"
   ]
  },
  {
   "cell_type": "code",
   "execution_count": null,
   "id": "4a36e7db-5dff-405e-960c-49196817c77b",
   "metadata": {},
   "outputs": [],
   "source": [
    "fs_json = fsspec.filesystem('s3', anon=False, skip_instance_cache=True)  "
   ]
  },
  {
   "cell_type": "code",
   "execution_count": null,
   "id": "3bfb96ad-cb80-4206-bbf6-9e5bd0870999",
   "metadata": {},
   "outputs": [],
   "source": [
    "json_dir = 's3://esip-qhub/noaa/nwm/grid1km/json/'"
   ]
  },
  {
   "cell_type": "code",
   "execution_count": null,
   "id": "86799c28-4072-412a-8f16-533d9c9b0d32",
   "metadata": {},
   "outputs": [],
   "source": [
    "%%time\n",
    "jlist = fs_json.ls(json_dir, refresh=True)\n",
    "print(len(jlist))\n",
    "print(jlist[0])\n",
    "print(jlist[-1])"
   ]
  },
  {
   "cell_type": "code",
   "execution_count": null,
   "id": "d2820b90-79a7-491a-9d91-3674d9b23eb3",
   "metadata": {},
   "outputs": [],
   "source": [
    "def get_size(json):\n",
    "    return fs_json.size(json)"
   ]
  },
  {
   "cell_type": "code",
   "execution_count": null,
   "id": "63676c21-0d8e-462f-9488-c90f2963674f",
   "metadata": {},
   "outputs": [],
   "source": [
    "b = db.from_sequence(jlist, npartitions=30)"
   ]
  },
  {
   "cell_type": "code",
   "execution_count": null,
   "id": "c925502d-c893-4b4f-b795-be1559b67a97",
   "metadata": {},
   "outputs": [],
   "source": [
    "get_size(jlist[0])"
   ]
  },
  {
   "cell_type": "code",
   "execution_count": null,
   "id": "2a775c43-3cb6-4bf7-a4de-851ff594bb2d",
   "metadata": {},
   "outputs": [],
   "source": [
    "b1 = b.map(get_size)"
   ]
  },
  {
   "cell_type": "code",
   "execution_count": null,
   "id": "8a96e8f0-9a4e-418a-a3e3-6e9cacb11881",
   "metadata": {},
   "outputs": [],
   "source": [
    "%%time\n",
    "jsize = b1.compute(retries=10)"
   ]
  },
  {
   "cell_type": "code",
   "execution_count": null,
   "id": "68d6a3e9-7191-474d-9a35-d3a52ff50eef",
   "metadata": {},
   "outputs": [],
   "source": [
    "df = pd.DataFrame({'file': jlist, 'size': jsize }).sort_values('size')"
   ]
  },
  {
   "cell_type": "code",
   "execution_count": null,
   "id": "6fde4179-a8f7-4d15-9da3-263d85ec972d",
   "metadata": {},
   "outputs": [],
   "source": [
    "list(df.iloc[:3]['file'].values)"
   ]
  },
  {
   "cell_type": "code",
   "execution_count": null,
   "id": "b9de83cc-f2e5-40bc-927d-3fb68377afdb",
   "metadata": {},
   "outputs": [],
   "source": [
    "df.to_csv('json_sizes.csv')"
   ]
  },
  {
   "cell_type": "code",
   "execution_count": null,
   "id": "16b0794a-07f9-4b34-92ff-c2f165c72d5a",
   "metadata": {},
   "outputs": [],
   "source": []
  }
 ],
 "metadata": {
  "kernelspec": {
   "display_name": "default *",
   "language": "python",
   "name": "conda-env-default-py"
  },
  "language_info": {
   "codemirror_mode": {
    "name": "ipython",
    "version": 3
   },
   "file_extension": ".py",
   "mimetype": "text/x-python",
   "name": "python",
   "nbconvert_exporter": "python",
   "pygments_lexer": "ipython3",
   "version": "3.10.8"
  }
 },
 "nbformat": 4,
 "nbformat_minor": 5
}
