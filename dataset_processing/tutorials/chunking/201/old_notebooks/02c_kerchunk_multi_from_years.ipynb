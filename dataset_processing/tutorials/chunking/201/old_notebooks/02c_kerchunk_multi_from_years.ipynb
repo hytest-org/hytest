{
 "cells": [
  {
   "cell_type": "markdown",
   "id": "e154d62b-0c5c-4999-8dcc-ff71cfcbc7ac",
   "metadata": {},
   "source": [
    "# Create combined JSON for each year in parallel\n",
    "read all individual referenceFileSystem JSON files and create combined JSON for entire dataset"
   ]
  },
  {
   "cell_type": "code",
   "execution_count": null,
   "id": "00e5906a-aba7-43ef-ae48-0d02ce1d68ce",
   "metadata": {},
   "outputs": [],
   "source": [
    "import fsspec\n",
    "import xarray as xr\n",
    "import hvplot.xarray\n",
    "import metpy"
   ]
  },
  {
   "cell_type": "code",
   "execution_count": null,
   "id": "64352e8d-179a-485a-b7c6-4688e87e0297",
   "metadata": {},
   "outputs": [],
   "source": [
    "import ujson   # fast json\n",
    "from kerchunk.combine import MultiZarrToZarr\n",
    "import kerchunk"
   ]
  },
  {
   "cell_type": "code",
   "execution_count": null,
   "id": "a49aab3f-3055-4ab4-9142-23c43752cfa8",
   "metadata": {},
   "outputs": [],
   "source": [
    "json_dir = 's3://esip-qhub/noaa/nwm/grid1km/json'"
   ]
  },
  {
   "cell_type": "code",
   "execution_count": null,
   "id": "3d1474b9-0292-4245-b0ea-87e65980208f",
   "metadata": {},
   "outputs": [],
   "source": [
    "kerchunk.__version__"
   ]
  },
  {
   "cell_type": "markdown",
   "id": "811a9641-8c9f-4315-a4f1-b0ae827e6045",
   "metadata": {},
   "source": [
    "For file systems where files are changing, you want `skip_instance_cache=True` or else you won't see the changed files"
   ]
  },
  {
   "cell_type": "code",
   "execution_count": null,
   "id": "d3c6a791-92e1-4881-9421-2b384cff675b",
   "metadata": {},
   "outputs": [],
   "source": [
    "fs_json = fsspec.filesystem('s3', anon=False, skip_instance_cache=True)  "
   ]
  },
  {
   "cell_type": "markdown",
   "id": "4dc4ca50-8083-4ef8-9a35-31f88c8f0557",
   "metadata": {},
   "source": [
    "Create a dict from the mzz object"
   ]
  },
  {
   "cell_type": "code",
   "execution_count": null,
   "id": "cdabe594-0223-4611-ad9f-b5e28d82d8c6",
   "metadata": {},
   "outputs": [],
   "source": [
    "year_list = fs_json.glob('esip-qhub/noaa/nwm/grid1km/combined_????.json')\n",
    "year_list = [f's3://{y}' for y in year_list]\n",
    "year_list"
   ]
  },
  {
   "cell_type": "code",
   "execution_count": null,
   "id": "3aa77f5b-982a-4558-9c8d-75b38d1e09d1",
   "metadata": {},
   "outputs": [],
   "source": [
    "print(len(year_list))"
   ]
  },
  {
   "cell_type": "markdown",
   "id": "d6141aae-fe54-4d0b-a56a-a39728569c28",
   "metadata": {},
   "source": [
    "#### Create ten-year combined files "
   ]
  },
  {
   "cell_type": "code",
   "execution_count": null,
   "id": "6127e7d9-8262-48d6-89f0-59f3419420e6",
   "metadata": {},
   "outputs": [],
   "source": [
    "year_dict={}\n",
    "year_dict['a'] = year_list[:10]\n",
    "year_dict['b'] = year_list[10:20]\n",
    "year_dict['c'] = year_list[20:30]\n",
    "year_dict['d'] = year_list[30:40]"
   ]
  },
  {
   "cell_type": "code",
   "execution_count": null,
   "id": "40626686-8b7a-4569-b327-4f60796f2728",
   "metadata": {},
   "outputs": [],
   "source": [
    "def key_combine(key):\n",
    "    combined_json = f's3://esip-qhub/noaa/nwm/grid1km/combined_{key}.json'\n",
    "    mzz = MultiZarrToZarr(year_dict[key],\n",
    "    remote_protocol = 's3',\n",
    "    remote_options = dict(anon=True),   \n",
    "    concat_dims = ['time'], \n",
    "    identical_dims=[\"x\", \"y\", \"crs\"],\n",
    "    preprocess = kerchunk.combine.drop(\"reference_time\"))   \n",
    "\n",
    "    d = mzz.translate()\n",
    "    with fs_json.open(combined_json, 'wb') as f:\n",
    "        f.write(ujson.dumps(d).encode());"
   ]
  },
  {
   "cell_type": "code",
   "execution_count": null,
   "id": "db917261-06ff-4deb-affa-2c3064b54295",
   "metadata": {},
   "outputs": [],
   "source": [
    "#year_dict['martin'] = year_list[:13]"
   ]
  },
  {
   "cell_type": "code",
   "execution_count": null,
   "id": "86936fbf-3d2e-4931-81de-a493216cafae",
   "metadata": {},
   "outputs": [],
   "source": [
    "%%time\n",
    "#key_combine('martin')"
   ]
  },
  {
   "cell_type": "code",
   "execution_count": null,
   "id": "9206357e-566c-4c50-af1a-c1a8323f4ed4",
   "metadata": {},
   "outputs": [],
   "source": [
    "%%time \n",
    "#key_combine('b')"
   ]
  },
  {
   "cell_type": "code",
   "execution_count": null,
   "id": "6b1e44bd-126e-4bfe-9a7a-dba1ed987790",
   "metadata": {},
   "outputs": [],
   "source": [
    "%%time\n",
    "#key_combine('c')"
   ]
  },
  {
   "cell_type": "code",
   "execution_count": null,
   "id": "6bfb8bbb-9da2-48ac-afcc-d8e1b49334ff",
   "metadata": {},
   "outputs": [],
   "source": [
    "%%time\n",
    "#key_combine('d')"
   ]
  },
  {
   "cell_type": "markdown",
   "id": "da964710-bbad-477a-9cb4-fb64e4ed1eea",
   "metadata": {},
   "source": [
    "#### Try to create a single combined JSON from the 10-year JSONs\n",
    "First list the decadal JSONs"
   ]
  },
  {
   "cell_type": "code",
   "execution_count": null,
   "id": "52ed278d-1b7b-4d2a-8f83-325538cac850",
   "metadata": {},
   "outputs": [],
   "source": [
    "p_list = fs_json.glob('esip-qhub/noaa/nwm/grid1km/combined_?.json')\n",
    "p_list = [f's3://{y}' for y in p_list]\n",
    "\n",
    "p_list"
   ]
  },
  {
   "cell_type": "markdown",
   "id": "a21eedbe-3781-4d0d-b9d4-c4f7dceb4d61",
   "metadata": {},
   "source": [
    "#### Try combining the four decades\n",
    "The combine step below required 90GB of RAM, which is more than we have here on ESIP Nebari.   We ran this step on Denali and passed the 9GB output JSON file to Martin Durant, who created a Parquet version of the references. "
   ]
  },
  {
   "cell_type": "code",
   "execution_count": null,
   "id": "96d54250-6d78-49dc-b5bb-d8504f068808",
   "metadata": {},
   "outputs": [],
   "source": [
    "year_dict['zz'] = p_list"
   ]
  },
  {
   "cell_type": "code",
   "execution_count": null,
   "id": "c38d2ef8-ca43-4b7a-ba00-6e47703a866a",
   "metadata": {},
   "outputs": [],
   "source": [
    "%%time\n",
    "key_combine('zz')"
   ]
  },
  {
   "cell_type": "code",
   "execution_count": null,
   "id": "666df9eb-56bf-402f-a6b1-be21a192bc7b",
   "metadata": {},
   "outputs": [],
   "source": []
  }
 ],
 "metadata": {
  "kernelspec": {
   "display_name": "nebari-git-nebari-git-pdash",
   "language": "python",
   "name": "conda-env-nebari-git-nebari-git-pdash-py"
  },
  "language_info": {
   "codemirror_mode": {
    "name": "ipython",
    "version": 3
   },
   "file_extension": ".py",
   "mimetype": "text/x-python",
   "name": "python",
   "nbconvert_exporter": "python",
   "pygments_lexer": "ipython3",
   "version": "3.9.15"
  }
 },
 "nbformat": 4,
 "nbformat_minor": 5
}
