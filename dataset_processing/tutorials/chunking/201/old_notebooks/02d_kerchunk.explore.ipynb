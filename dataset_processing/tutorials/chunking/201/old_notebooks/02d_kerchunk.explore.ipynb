{
 "cells": [
  {
   "cell_type": "code",
   "execution_count": null,
   "id": "5f3423f2-64ee-4f6d-93bb-df462995d0e7",
   "metadata": {},
   "outputs": [],
   "source": [
    "import fsspec\n",
    "import fsspec.implementations.reference\n",
    "import xarray as xr\n",
    "import hvplot.xarray"
   ]
  },
  {
   "cell_type": "code",
   "execution_count": null,
   "id": "ceaba852-7c3b-42d5-88e1-eb23449144e6",
   "metadata": {},
   "outputs": [],
   "source": [
    "fs_read = fsspec.filesystem('s3', anon=True)"
   ]
  },
  {
   "cell_type": "code",
   "execution_count": null,
   "id": "f5d7ac95-8544-4fa4-aa7c-88fcd7ec9c55",
   "metadata": {},
   "outputs": [],
   "source": [
    "url = 's3://mymdtemp/nwm'"
   ]
  },
  {
   "cell_type": "code",
   "execution_count": null,
   "id": "64eacfae-948c-497e-9409-8d24cbdd2c71",
   "metadata": {},
   "outputs": [],
   "source": [
    "fs_read.ls(url)"
   ]
  },
  {
   "cell_type": "code",
   "execution_count": null,
   "id": "0111d66b-2657-4808-93e3-165391f1866b",
   "metadata": {},
   "outputs": [],
   "source": [
    "fs = fsspec.implementations.reference.DFReferenceFileSystem(\"s3://mymdtemp/nwm\", lazy=True, target_options={\"anon\": True},\n",
    "                                                            remote_protocol=\"s3\", remote_options={\"anon\": True})"
   ]
  },
  {
   "cell_type": "code",
   "execution_count": null,
   "id": "4d8d955b-1e1d-475f-9886-db79ba5c5342",
   "metadata": {},
   "outputs": [],
   "source": [
    "fs.ls('')"
   ]
  },
  {
   "cell_type": "code",
   "execution_count": null,
   "id": "af1879d8-60e1-41de-9c84-75a332ee31b4",
   "metadata": {},
   "outputs": [],
   "source": [
    "m = fs.get_mapper(\"\")\n",
    "ds = xr.open_dataset(m, engine=\"zarr\", chunks={}, backend_kwargs=dict(consolidated=False))"
   ]
  },
  {
   "cell_type": "code",
   "execution_count": null,
   "id": "ea72d032-fc89-440f-a8e6-ca0c810f4ce2",
   "metadata": {},
   "outputs": [],
   "source": [
    "ds"
   ]
  },
  {
   "cell_type": "code",
   "execution_count": null,
   "id": "de5800f8-8793-47e8-a760-42fa6510f7f4",
   "metadata": {},
   "outputs": [],
   "source": [
    "ds['TRAD'][100,:,:].plot()"
   ]
  },
  {
   "cell_type": "code",
   "execution_count": null,
   "id": "2b09a678-b5d6-41d9-b575-377a20d34a63",
   "metadata": {},
   "outputs": [],
   "source": []
  }
 ],
 "metadata": {
  "kernelspec": {
   "display_name": "users-users-pangeo",
   "language": "python",
   "name": "conda-env-users-users-pangeo-py"
  },
  "language_info": {
   "codemirror_mode": {
    "name": "ipython",
    "version": 3
   },
   "file_extension": ".py",
   "mimetype": "text/x-python",
   "name": "python",
   "nbconvert_exporter": "python",
   "pygments_lexer": "ipython3",
   "version": "3.9.16"
  }
 },
 "nbformat": 4,
 "nbformat_minor": 5
}
