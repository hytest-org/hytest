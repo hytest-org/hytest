{
 "cells": [
  {
   "cell_type": "markdown",
   "id": "e864e7cf-f72e-47d1-b79e-9b327f4e4587",
   "metadata": {},
   "source": [
    "# Insert zarr datasets for each time chunk into whole"
   ]
  },
  {
   "cell_type": "code",
   "execution_count": null,
   "id": "c29b3cc4-9f3c-4bce-b185-309661c2e4d2",
   "metadata": {},
   "outputs": [],
   "source": [
    "# Open first and last zarr file to get date range\n",
    "ds0 = xr.open_dataset(zlist[0], engine='zarr', chunks={})\n",
    "ds1 = xr.open_dataset(zlist[-1], engine='zarr', chunks={})\n",
    "\n",
    "# TODO: the freq argument must reflect the time interval (e.g hourly, daily)\n",
    "dates = pd.date_range(start=ds0.time[0].values, end=ds1.time[-1].values, freq='1h')\n",
    "\n",
    "# Have to drop the constant variables (e.g. variables having no time dimension)\n",
    "drop_vars = ['BF', 'BH', 'C1F', 'C1H', 'C2F', 'C2H', 'C3F', 'C3H', 'C4F', 'C4H',\n",
    "             'CF1', 'CF2', 'CF3', 'CFN', 'CFN1', 'CLAT', 'COSALPHA', 'DN', 'DNW',\n",
    "             'DZS', 'E', 'F', 'FNM', 'FNP', 'HGT', 'ISLTYP', 'IVGTYP', 'LAKEMASK',\n",
    "             'LANDMASK', 'LU_INDEX', 'MAPFAC_M', 'MAPFAC_MX', 'MAPFAC_MY',\n",
    "             'MAPFAC_U', 'MAPFAC_UX', 'MAPFAC_UY', 'MAPFAC_V', 'MAPFAC_VX', 'MAPFAC_VY',\n",
    "             'MAX_MSTFX', 'MAX_MSTFY', 'MF_VX_INV', 'MUB', 'P00', 'PB', 'PHB',\n",
    "             'P_STRAT', 'P_TOP', 'RDN', 'RDNW', 'RDX', 'RDY', 'SHDMAX', 'SHDMIN',\n",
    "             'SINALPHA', 'SNOALB', 'T00', 'TISO', 'TLP', 'TLP_STRAT', 'VAR',\n",
    "             'VAR_SSO', 'XLAND', 'lat', 'lat_u', 'lat_v', 'lon', 'lon_u', 'lon_v',\n",
    "             'ZETATOP', 'ZNU', 'ZNW', 'ZS']\n",
    "\n",
    "source_dataset = ds0.drop_vars(drop_vars, errors='ignore')\n",
    "\n",
    "template = (source_dataset.chunk().pipe(xr.zeros_like).isel(time=0, drop=True).expand_dims(time=len(dates)))\n",
    "template['time'] = dates\n",
    "template = template.chunk({'time': time_cnk})\n",
    "\n",
    "# Writes no data (yet)\n",
    "template.to_zarr(zarr_whole, compute=False, consolidated=True, mode='w')\n",
    "\n",
    "# Writes the data\n",
    "ds0.drop_vars(drop_vars).to_zarr(zarr_whole, region={'time': slice(0, time_cnk)})\n",
    "\n",
    "# Add the wrf constants\n",
    "ds0[drop_vars].to_zarr(zarr_whole, mode='a')\n",
    "print(f'  Index {first_idx} (pre-create output): {time.time() - t1_proc:0.3f} s')\n",
    "\n",
    "for i in range(first_idx, last_idx):\n",
    "if i == 0:\n",
    "    continue\n",
    "t1 = time.time()\n",
    "start = i * time_cnk\n",
    "stop = (i + 1) * time_cnk\n",
    "\n",
    "# print(zlist[i])\n",
    "dsi = xr.open_dataset(zlist[i], engine='zarr', chunks={})\n",
    "dsi.to_zarr(zarr_whole, region={'time': slice(start, stop)})\n",
    "print(f'  Index {i}: {time.time() - t1:0.3f} s')\n",
    "\n",
    "client.close()\n",
    "if dask.config.get(\"temporary-directory\") == '/dev/shm':\n",
    "try:\n",
    "    fs.rm(f'/dev/shm/dask-worker-space', recursive=True)\n",
    "except FileNotFoundError:\n",
    "    pass\n",
    "\n",
    "print(f'Total time: {time.time() - t1_proc:0.3f} s')\n"
   ]
  }
 ],
 "metadata": {
  "kernelspec": {
   "display_name": "users-users-pangeo",
   "language": "python",
   "name": "conda-env-users-users-pangeo-py"
  },
  "language_info": {
   "codemirror_mode": {
    "name": "ipython",
    "version": 3
   },
   "file_extension": ".py",
   "mimetype": "text/x-python",
   "name": "python",
   "nbconvert_exporter": "python",
   "pygments_lexer": "ipython3",
   "version": "3.10.9"
  },
  "widgets": {
   "application/vnd.jupyter.widget-state+json": {
    "state": {},
    "version_major": 2,
    "version_minor": 0
   }
  }
 },
 "nbformat": 4,
 "nbformat_minor": 5
}
