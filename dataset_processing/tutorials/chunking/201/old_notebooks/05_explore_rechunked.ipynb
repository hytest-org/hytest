{
 "cells": [
  {
   "cell_type": "markdown",
   "id": "abac6797-4386-4f15-8b34-5e433dce5e64",
   "metadata": {},
   "source": [
    "# Explore rechunked data"
   ]
  },
  {
   "cell_type": "code",
   "execution_count": null,
   "id": "6286295f-dbc0-4757-a433-a03f8fa2bfd9",
   "metadata": {},
   "outputs": [],
   "source": [
    "import fsspec\n",
    "import xarray as xr\n",
    "import hvplot.xarray"
   ]
  },
  {
   "cell_type": "code",
   "execution_count": null,
   "id": "301d41a2-7e11-444c-93fd-59b524da4ae5",
   "metadata": {},
   "outputs": [],
   "source": [
    "fs_read = fsspec.filesystem('s3', requester_pays=True, skip_instance_cache=True)"
   ]
  },
  {
   "cell_type": "code",
   "execution_count": null,
   "id": "0a8eda8f-fc70-457a-8892-560ce1acc312",
   "metadata": {},
   "outputs": [],
   "source": [
    "rechunked_zarr  = 's3://esip-qhub/testing/usgs/nwm1km.zarr'"
   ]
  },
  {
   "cell_type": "code",
   "execution_count": null,
   "id": "dd53fdba-ace6-474a-8ff2-5daa1cf9c108",
   "metadata": {},
   "outputs": [],
   "source": [
    "ds = xr.open_dataset(fs_read.get_mapper(rechunked_zarr), engine='zarr', chunks={})"
   ]
  },
  {
   "cell_type": "code",
   "execution_count": null,
   "id": "d4b41d42-ead0-42f7-8494-37ab43fa1ada",
   "metadata": {},
   "outputs": [],
   "source": [
    "ds"
   ]
  },
  {
   "cell_type": "code",
   "execution_count": null,
   "id": "983ecff0-d0d9-4a2e-93d8-9d514bea8dd0",
   "metadata": {},
   "outputs": [],
   "source": [
    "%time\n",
    "da = ds.ACCET[:144,1500,2000]"
   ]
  },
  {
   "cell_type": "code",
   "execution_count": null,
   "id": "17123ac3-53ee-4b49-ac51-69ab2b53bf46",
   "metadata": {},
   "outputs": [],
   "source": [
    "da.hvplot(x='time', grid=True)"
   ]
  },
  {
   "cell_type": "code",
   "execution_count": null,
   "id": "66ff87fb-2f18-4973-89ad-7d37567110cd",
   "metadata": {},
   "outputs": [],
   "source": []
  }
 ],
 "metadata": {
  "kernelspec": {
   "display_name": "Python 3 (ipykernel)",
   "language": "python",
   "name": "python3"
  },
  "language_info": {
   "codemirror_mode": {
    "name": "ipython",
    "version": 3
   },
   "file_extension": ".py",
   "mimetype": "text/x-python",
   "name": "python",
   "nbconvert_exporter": "python",
   "pygments_lexer": "ipython3",
   "version": "3.12.0"
  },
  "widgets": {
   "application/vnd.jupyter.widget-state+json": {
    "state": {},
    "version_major": 2,
    "version_minor": 0
   }
  }
 },
 "nbformat": 4,
 "nbformat_minor": 5
}
