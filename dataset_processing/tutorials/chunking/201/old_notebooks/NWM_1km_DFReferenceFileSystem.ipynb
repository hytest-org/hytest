{
 "cells": [
  {
   "cell_type": "markdown",
   "id": "05681bd5-20c7-4528-822c-6ca6826714d4",
   "metadata": {},
   "source": [
    "# Open NWM 1km dataset as DFReferenceFileSystem \n",
    "\n",
    "Open dataset as a fsspec `DFReferenceFileSystem` filesystem by reading references from a collection of Parquet files: one file containing global metadata and coordinate variable references, and one file for each of the data variables.  \n",
    "\n",
    "The big wins here are lazy-loading of the references for each variable, and the more efficient construction of the virtual fsspec filesystem from the Parquet files (JSON is slow to decode)."
   ]
  },
  {
   "cell_type": "code",
   "execution_count": null,
   "id": "584ab9a2-4f6b-4907-93b1-3d2b0786f601",
   "metadata": {},
   "outputs": [],
   "source": [
    "import fsspec\n",
    "from fsspec.implementations.reference import DFReferenceFileSystem\n",
    "import xarray as xr"
   ]
  },
  {
   "cell_type": "code",
   "execution_count": null,
   "id": "732722cb-4430-4359-9014-eb9c551e7873",
   "metadata": {},
   "outputs": [],
   "source": [
    "fs = fsspec.filesystem('s3', anon=True, \n",
    "                        client_kwargs={'endpoint_url':'https://ncsa.osn.xsede.org'})"
   ]
  },
  {
   "cell_type": "code",
   "execution_count": null,
   "id": "c6f5f293-ced5-44c2-8231-a77e22c451e1",
   "metadata": {},
   "outputs": [],
   "source": [
    "s3_lazy_refs = 's3://esip/noaa/nwm/lazy_refs'"
   ]
  },
  {
   "cell_type": "code",
   "execution_count": null,
   "id": "691c9634-cc24-407f-ae56-50d4247960a5",
   "metadata": {},
   "outputs": [],
   "source": [
    "print(f'Number of reference files: {len(fs.ls(s3_lazy_refs))}')\n",
    "print(f'Total size of references: {fs.du(s3_lazy_refs)/1e9} GB')"
   ]
  },
  {
   "cell_type": "code",
   "execution_count": null,
   "id": "b5f4c4da-27c1-4374-ba60-61315cd965b1",
   "metadata": {},
   "outputs": [],
   "source": [
    "r_opts = {'anon': True}\n",
    "t_opts = {'anon': True, 'client_kwargs':{'endpoint_url':'https://ncsa.osn.xsede.org'}}"
   ]
  },
  {
   "cell_type": "code",
   "execution_count": null,
   "id": "69e11199-c729-42a0-ad25-0cbbf97088df",
   "metadata": {},
   "outputs": [],
   "source": [
    "%%time\n",
    "fs2 = DFReferenceFileSystem(s3_lazy_refs, lazy=True, target_options=t_opts,\n",
    "                        remote_protocol='s3', remote_options=r_opts)\n",
    "m = fs2.get_mapper(\"\")\n",
    "ds = xr.open_dataset(m, engine=\"zarr\", chunks={}, backend_kwargs=dict(consolidated=False))"
   ]
  },
  {
   "cell_type": "code",
   "execution_count": null,
   "id": "cd8ddfb0-7b57-43aa-98dc-b9a837e57542",
   "metadata": {},
   "outputs": [],
   "source": [
    "ds"
   ]
  },
  {
   "cell_type": "markdown",
   "id": "04d02447-a134-45eb-978f-e0d392435dbb",
   "metadata": {},
   "source": [
    "Examine a specific variable:"
   ]
  },
  {
   "cell_type": "code",
   "execution_count": null,
   "id": "ce2ec93e-a879-459f-804c-66a9f977db3f",
   "metadata": {
    "tags": []
   },
   "outputs": [],
   "source": [
    "ds.TRAD"
   ]
  },
  {
   "cell_type": "markdown",
   "id": "151133ab-e6ee-4903-b23a-36bfef0286d9",
   "metadata": {},
   "source": [
    "How big would the uncompressed size of the whole dataset be?"
   ]
  },
  {
   "cell_type": "code",
   "execution_count": null,
   "id": "8dd5b70a-2585-4dce-b0b1-a2cd915c7952",
   "metadata": {},
   "outputs": [],
   "source": [
    "ds.nbytes/1e12  #TB"
   ]
  },
  {
   "cell_type": "markdown",
   "id": "7496c3b2-ae11-4af4-952f-18c3f3a3b73c",
   "metadata": {},
   "source": [
    "Load some data at a specific time step.  The first time a variable is accessed it will take longer as the references need to be loaded."
   ]
  },
  {
   "cell_type": "code",
   "execution_count": null,
   "id": "7b0a2164-053c-4f84-a9b7-172bf3cd83a5",
   "metadata": {},
   "outputs": [],
   "source": [
    "%%time \n",
    "da = ds.TRAD.sel(time='1990-01-01 00:00').load()"
   ]
  },
  {
   "cell_type": "markdown",
   "id": "26510252-7ec2-4e21-8ddf-aff2eca56793",
   "metadata": {},
   "source": [
    "Loading data for another time step is much faster as the references are already loaded:"
   ]
  },
  {
   "cell_type": "code",
   "execution_count": null,
   "id": "ef01e203-f6cd-4c4e-ac3d-410afd5a4524",
   "metadata": {},
   "outputs": [],
   "source": [
    "%%time\n",
    "da = ds.TRAD.sel(time='2015-01-01 00:00').load()"
   ]
  },
  {
   "cell_type": "markdown",
   "id": "1f41f59f-12aa-4e4c-bf64-c61ecfe50db5",
   "metadata": {},
   "source": [
    "Compute the mean over the domain:"
   ]
  },
  {
   "cell_type": "code",
   "execution_count": null,
   "id": "bd30a9a2-2264-4628-8826-8b965fe55ded",
   "metadata": {},
   "outputs": [],
   "source": [
    "da.mean().data"
   ]
  },
  {
   "cell_type": "code",
   "execution_count": null,
   "id": "73fe200b-ee97-4f49-8d42-60d53d0a7160",
   "metadata": {},
   "outputs": [],
   "source": [
    "da.plot()"
   ]
  },
  {
   "cell_type": "code",
   "execution_count": null,
   "id": "570bf4f1-5f9e-4cf9-8fc8-d0c8b1356e14",
   "metadata": {},
   "outputs": [],
   "source": []
  }
 ],
 "metadata": {
  "kernelspec": {
   "display_name": "Python 3 (ipykernel)",
   "language": "python",
   "name": "python3"
  },
  "language_info": {
   "codemirror_mode": {
    "name": "ipython",
    "version": 3
   },
   "file_extension": ".py",
   "mimetype": "text/x-python",
   "name": "python",
   "nbconvert_exporter": "python",
   "pygments_lexer": "ipython3",
   "version": "3.12.0"
  },
  "widgets": {
   "application/vnd.jupyter.widget-state+json": {
    "state": {},
    "version_major": 2,
    "version_minor": 0
   }
  }
 },
 "nbformat": 4,
 "nbformat_minor": 5
}
