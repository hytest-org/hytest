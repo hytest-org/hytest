{
 "cells": [
  {
   "cell_type": "markdown",
   "id": "6e37266f-ef99-4ccc-a93c-1e8b8e346b7a",
   "metadata": {},
   "source": [
    "# Open NWM 1km dataset as ReferenceFileSystem \n",
    "Create a `ReferenceFileSystem` object by reading references from a 9.8GB combined JSON file. \n",
    "\n",
    "Opening the dataset in Xarray takes more than 10 minutes, mostly due to decoding the giant JSON file.   It also requires more than 50GB of RAM to run, more than 8GB or 16GB typically available to users. "
   ]
  },
  {
   "cell_type": "code",
   "execution_count": null,
   "id": "2f32fec2-df41-4260-b081-d5b379eaa922",
   "metadata": {
    "tags": []
   },
   "outputs": [],
   "source": [
    "import fsspec\n",
    "import xarray as xr\n",
    "from fsspec.implementations.reference import ReferenceFileSystem"
   ]
  },
  {
   "cell_type": "code",
   "execution_count": null,
   "id": "65beb48e-6988-42e4-b12f-f22f6d56f37a",
   "metadata": {},
   "outputs": [],
   "source": [
    "fs = fsspec.filesystem('s3', anon=True, \n",
    "                        client_kwargs={'endpoint_url':'https://ncsa.osn.xsede.org'})"
   ]
  },
  {
   "cell_type": "code",
   "execution_count": null,
   "id": "26db3d84-d8f0-49b0-aefe-01275504bc4a",
   "metadata": {},
   "outputs": [],
   "source": [
    "url = 's3://esip/noaa/nwm/grid1km/LDAS_combined.json'"
   ]
  },
  {
   "cell_type": "code",
   "execution_count": null,
   "id": "33a8c6f2-7998-4f35-a86a-263a28881c92",
   "metadata": {},
   "outputs": [],
   "source": [
    "fs.size(url)/1e9  # JSON size in GB"
   ]
  },
  {
   "cell_type": "code",
   "execution_count": null,
   "id": "401182fe-69a9-418b-a6b5-6be0f50dcdb6",
   "metadata": {},
   "outputs": [],
   "source": [
    "%%time\n",
    "s_opts = {'anon':True, 'client_kwargs':{'endpoint_url':'https://ncsa.osn.xsede.org'}}\n",
    "r_opts = {'anon':True}\n",
    "fs = ReferenceFileSystem(url, ref_storage_args=s_opts,\n",
    "                       remote_protocol='s3', remote_options=r_opts)\n",
    "m = fs.get_mapper(\"\")\n",
    "ds = xr.open_dataset(m, engine=\"zarr\", chunks={}, backend_kwargs=dict(consolidated=False))"
   ]
  },
  {
   "cell_type": "code",
   "execution_count": null,
   "id": "c527f679-927d-411e-b72f-5a304725c729",
   "metadata": {},
   "outputs": [],
   "source": [
    "ds"
   ]
  },
  {
   "cell_type": "markdown",
   "id": "0867e1a7-ad9c-492b-ace9-49efbcbbbd33",
   "metadata": {},
   "source": [
    "Examine a specific variable:"
   ]
  },
  {
   "cell_type": "code",
   "execution_count": null,
   "id": "729e2fb8-b2d5-4968-adcd-3d0f77c3b25f",
   "metadata": {},
   "outputs": [],
   "source": [
    "ds.TRAD"
   ]
  },
  {
   "cell_type": "markdown",
   "id": "3ca7794f-930f-4964-9fef-3fc30ec5eda3",
   "metadata": {},
   "source": [
    "Compute the uncompressed size of this dataset in TB:"
   ]
  },
  {
   "cell_type": "code",
   "execution_count": null,
   "id": "67960b52-5600-4b71-963e-93701cffbd5b",
   "metadata": {},
   "outputs": [],
   "source": [
    "ds.nbytes/1e12   "
   ]
  },
  {
   "cell_type": "markdown",
   "id": "b3af81f4-d84b-4f19-a1f5-5815304c191f",
   "metadata": {},
   "source": [
    "Loading data for a particular time step is fast as the references are already loaded:"
   ]
  },
  {
   "cell_type": "code",
   "execution_count": null,
   "id": "af73254d-bb31-47d8-b7eb-6d12e7735bdf",
   "metadata": {},
   "outputs": [],
   "source": [
    "%%time\n",
    "da = ds.TRAD.sel(time='1990-01-01 00:00').load()"
   ]
  },
  {
   "cell_type": "markdown",
   "id": "e6112c50-cea2-49ef-8e97-e1dda4222c4a",
   "metadata": {},
   "source": [
    "Loading data for another time step takes about the same amount of time:"
   ]
  },
  {
   "cell_type": "code",
   "execution_count": null,
   "id": "d85d7899-f31e-4970-9c4c-fd04dc7cd8ce",
   "metadata": {},
   "outputs": [],
   "source": [
    "%%time\n",
    "da = ds.TRAD.sel(time='2015-01-01 00:00').load()"
   ]
  },
  {
   "cell_type": "markdown",
   "id": "4ae8eede-2838-4df0-9360-ad1263a43212",
   "metadata": {},
   "source": [
    "Compute the mean over the domain:"
   ]
  },
  {
   "cell_type": "code",
   "execution_count": null,
   "id": "b6ae3a97-3bec-46ce-8377-0bd6ba6b699a",
   "metadata": {},
   "outputs": [],
   "source": [
    "da.mean().data"
   ]
  }
 ],
 "metadata": {
  "kernelspec": {
   "display_name": "Python 3 (ipykernel)",
   "language": "python",
   "name": "python3"
  },
  "language_info": {
   "codemirror_mode": {
    "name": "ipython",
    "version": 3
   },
   "file_extension": ".py",
   "mimetype": "text/x-python",
   "name": "python",
   "nbconvert_exporter": "python",
   "pygments_lexer": "ipython3",
   "version": "3.12.0"
  },
  "widgets": {
   "application/vnd.jupyter.widget-state+json": {
    "state": {},
    "version_major": 2,
    "version_minor": 0
   }
  }
 },
 "nbformat": 4,
 "nbformat_minor": 5
}
