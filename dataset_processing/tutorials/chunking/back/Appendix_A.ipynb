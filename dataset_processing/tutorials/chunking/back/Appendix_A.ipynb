{
 "cells": [
  {
   "cell_type": "markdown",
   "metadata": {},
   "source": [
    "# Appendix A"
   ]
  },
  {
   "cell_type": "code",
   "execution_count": null,
   "metadata": {},
   "outputs": [],
   "source": [
    "import sys\n",
    "import numpy as np"
   ]
  },
  {
   "cell_type": "markdown",
   "metadata": {},
   "source": [
    "## Example Tags"
   ]
  },
  {
   "cell_type": "markdown",
   "metadata": {},
   "source": [
    "The following cell is tagged `remove-input`: "
   ]
  },
  {
   "cell_type": "code",
   "execution_count": null,
   "metadata": {},
   "outputs": [],
   "source": [
    "print(\"Python : \", sys.version)\n",
    "print(\"numpy  : \", np.__version__)"
   ]
  },
  {
   "cell_type": "markdown",
   "metadata": {},
   "source": [
    "Did you see that cell?  or just its output?   A code cell with `remove-input` will not show in the complied book, yet its output is shown. "
   ]
  },
  {
   "cell_type": "markdown",
   "metadata": {},
   "source": [
    "The following cell is tagged `hide-input`:"
   ]
  },
  {
   "cell_type": "code",
   "execution_count": null,
   "metadata": {},
   "outputs": [],
   "source": [
    "print(\"Python : \", sys.version)\n",
    "print(\"numpy  : \", np.__version__)"
   ]
  },
  {
   "cell_type": "markdown",
   "metadata": {},
   "source": [
    "## Extended Markdown"
   ]
  },
  {
   "cell_type": "markdown",
   "metadata": {},
   "source": [
    "### Admonitions\n",
    "This markdown cell includes an `admonition` directive. \n",
    "\n",
    ":::{seealso}\n",
    "This is a 'see also' admonition.\n",
    "\n",
    "To learn about all of the possible admonition styles, see <https://myst-parser.readthedocs.io/en/latest/syntax/admonitions.html>\n",
    ":::\n",
    "\n",
    "These are useful to draw attention to important text. The styling \n",
    "sets it apart from the main text flow."
   ]
  },
  {
   "cell_type": "markdown",
   "metadata": {},
   "source": [
    "### Margins\n",
    "\n",
    "::::{margin}\n",
    "**This** is an example of text in the margin\n",
    ":::{note}\n",
    "Note that margins can contain just about any sort of MyST, including admonitions. \n",
    ":::\n",
    "::::\n",
    "This markdown cell includes a directive to put some text into the margin\n",
    "of the rendered output. \n",
    "\n",
    "It is useful to display footnote-like text. \n"
   ]
  },
  {
   "cell_type": "code",
   "execution_count": null,
   "metadata": {},
   "outputs": [],
   "source": []
  }
 ],
 "metadata": {
  "language_info": {
   "name": "python"
  }
 },
 "nbformat": 4,
 "nbformat_minor": 4
}
