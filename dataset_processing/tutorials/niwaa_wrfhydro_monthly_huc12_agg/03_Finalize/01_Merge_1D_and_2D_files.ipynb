{
 "cells": [
  {
   "cell_type": "markdown",
   "id": "6e105c7c-83bb-4542-a8c8-b6180c55fba2",
   "metadata": {},
   "source": [
    "## Merge the spatially aggregated 1-Dimensional and 2-Dimensional datasets\n",
    "\n",
    "The WRF-Hydro modeling application outputs should have been aggregated to HUC12s. There were two notebooks that performed this opertation, depending on dimension of model output variables. This notebook merges the 1D and 2D datasets together."
   ]
  },
  {
   "cell_type": "code",
   "execution_count": null,
   "id": "735d0560-b59d-4108-a71f-a0fbf56f3e3d",
   "metadata": {},
   "outputs": [],
   "source": [
    "import time\n",
    "import numpy as np\n",
    "import xarray as xr\n",
    "\n",
    "tic = time.time()"
   ]
  },
  {
   "cell_type": "code",
   "execution_count": null,
   "id": "c934dc0c-9cd9-4347-992f-694aa6afe596",
   "metadata": {},
   "outputs": [],
   "source": [
    "# Input files\n",
    "#Paths for 2D and 1D aggregated files\n",
    "in_file1 = r'/path/to/outputs/agg_out/CONUS_HUC12_WB_2D_19791001_20220930_2.nc'\n",
    "in_file2 = r'/path/to/outputs/CONUS_HUC12_WB_1D_19791001_20220930.nc'\n",
    "\n",
    "# Output file\n",
    "out_file = r'/path/to/outputs/agg_out/CONUS_HUC12_WB_combined_19791001_20220930.nc'\n",
    "\n",
    "# Name the zone coordinate that contains the HUC12 IDs\n",
    "zone_name = 'WBDHU12'\n",
    "\n",
    "# Name the time coordinate\n",
    "time_coord = 'time'"
   ]
  },
  {
   "cell_type": "code",
   "execution_count": null,
   "id": "37e2a525-a6e1-456c-9085-61d128b832dc",
   "metadata": {},
   "outputs": [],
   "source": [
    "ds1 = xr.open_dataset(in_file1)\n",
    "ds2 = xr.open_dataset(in_file2)"
   ]
  },
  {
   "cell_type": "code",
   "execution_count": null,
   "id": "4c8199af-b304-4e58-805b-79d48ebad6a5",
   "metadata": {},
   "outputs": [],
   "source": [
    "ds1"
   ]
  },
  {
   "cell_type": "code",
   "execution_count": null,
   "id": "a81f05b5-feb0-4b9f-8eb4-60749238a20c",
   "metadata": {},
   "outputs": [],
   "source": [
    "# Plot all variables to see ranges of values\n",
    "vars_to_plot = [variable for variable in ds1.data_vars if variable not in ['avgT2D', 'avgSOILM', 'avgSNEQV', 'total_gridded_area', 'landmask']] \n",
    "ds1[vars_to_plot].isel({zone_name:2}).to_array().plot(row='variable')"
   ]
  },
  {
   "cell_type": "code",
   "execution_count": null,
   "id": "76bf7001-ce8a-4446-a625-3ffe56db0c49",
   "metadata": {},
   "outputs": [],
   "source": [
    "ds2"
   ]
  },
  {
   "cell_type": "code",
   "execution_count": null,
   "id": "deeaacf6-13fa-4264-90c6-aa78d9920aae",
   "metadata": {},
   "outputs": [],
   "source": [
    "# Plot all variables to see ranges of values\n",
    "vars_to_plot = [variable for variable in ds2.data_vars if variable not in ['Area_sqkm', 'totStreamflow']] \n",
    "ds2[vars_to_plot].isel({zone_name:2}).to_array().plot(row='variable')"
   ]
  },
  {
   "cell_type": "code",
   "execution_count": null,
   "id": "dddab21a-29c1-485e-8acb-ee8885b85169",
   "metadata": {},
   "outputs": [],
   "source": [
    "# Find values in ds2 not in ds1\n",
    "import numpy as np\n",
    "vals_1D_only = ds2[zone_name][~np.in1d(ds2[zone_name], ds1[zone_name])]\n",
    "print('There are {0} values in ds2 that are not in ds1.'.format(vals_1D_only.shape[0]))\n",
    "      \n",
    "vals_2D_only = ds1[zone_name][~np.in1d(ds1[zone_name], ds2[zone_name])]\n",
    "print('There are {0} values in ds1 that are not in ds2.'.format(vals_2D_only.shape[0]))"
   ]
  },
  {
   "cell_type": "code",
   "execution_count": null,
   "id": "81b15d1d-2763-4bc7-865c-19a75a05a847",
   "metadata": {},
   "outputs": [],
   "source": [
    "ds_out = xr.merge([ds1, ds2])\n",
    "ds_out"
   ]
  },
  {
   "cell_type": "code",
   "execution_count": null,
   "id": "146d1f78-bc5d-4800-a22d-899324c65e8f",
   "metadata": {},
   "outputs": [],
   "source": [
    "#ds_out.sel({zone_name:vals_1D_only[0]})['totStreamflow'].plot()\n",
    "ds_out.sel({zone_name:vals_2D_only[0]})['totPRECIP'].plot()"
   ]
  },
  {
   "cell_type": "code",
   "execution_count": null,
   "id": "2312df7c-7fa9-494e-8375-d413dd0fdcc5",
   "metadata": {},
   "outputs": [],
   "source": [
    "%%time\n",
    "print('  Writing output to {0}'.format(out_file))\n",
    "ds_out.to_netcdf(out_file, mode='w', format=\"NETCDF4\", compute=True)"
   ]
  },
  {
   "cell_type": "code",
   "execution_count": null,
   "id": "4653b328-119f-4748-be2d-8ab167afe67f",
   "metadata": {},
   "outputs": [],
   "source": [
    "ds_out.close()"
   ]
  },
  {
   "cell_type": "code",
   "execution_count": null,
   "id": "64eeea2d-ce65-4877-b6a2-b916839294a8",
   "metadata": {},
   "outputs": [],
   "source": [
    "print('Process completed in {0: 3.2f} seconds.'.format(time.time()-tic))"
   ]
  }
 ],
 "metadata": {
  "language_info": {
   "name": "python"
  }
 },
 "nbformat": 4,
 "nbformat_minor": 5
}
