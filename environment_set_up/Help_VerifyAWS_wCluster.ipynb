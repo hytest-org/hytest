{
 "cells": [
  {
   "cell_type": "markdown",
   "metadata": {},
   "source": [
    "# Verify AWS credentials propagate to cluster workers\n",
    "\n",
    "NOTE: This should only really be necessary in a cloud compute environment where cluster \n",
    "worker threads/nodes are spawned via kubernetes.  Clusters on our HPC hardware will not\n",
    "need to specfically send credentials to workers. "
   ]
  },
  {
   "cell_type": "code",
   "execution_count": null,
   "metadata": {},
   "outputs": [],
   "source": [
    "import os\n",
    "import logging\n",
    "\n",
    "def myAWS_Credentials():\n",
    "    \"\"\"Test function to return AWS credential information.\"\"\"\n",
    "    return {\n",
    "    \"AWS_PROFILE\": os.environ.get(\"AWS_PROFILE\", \"<not set>\"),\n",
    "    \"AWS_ACCESS_KEY_ID\": os.environ.get('AWS_ACCESS_KEY_ID', '<not set>')\n",
    "}\n",
    "\n",
    "\n",
    "##### V V V V V V V V V V V V V V V V ##### set the profile\n",
    "\n",
    "os.environ['AWS_PROFILE'] = \"default\"  \n",
    "\n",
    "##### ^ ^ ^ ^ ^ ^ ^ ^ ^ ^ ^ ^ ^ ^ ^ ^ \n"
   ]
  },
  {
   "cell_type": "markdown",
   "metadata": {},
   "source": [
    "1) Establish AWS credentials."
   ]
  },
  {
   "cell_type": "code",
   "execution_count": null,
   "metadata": {},
   "outputs": [],
   "source": [
    "os.environ['AWS_PROFILE'] = 'esip-qhub'\n",
    "%run ./Help_AWS_Credentials.ipynb\n",
    "## Sets AWS_* secrets based on contents of $HOME/.aws/credentials"
   ]
  },
  {
   "cell_type": "markdown",
   "metadata": {},
   "source": [
    "2. What credentials are set in the execution environment?"
   ]
  },
  {
   "cell_type": "code",
   "execution_count": null,
   "metadata": {},
   "outputs": [],
   "source": [
    "myAWS_Credentials()  ## should return the key for the above-named profile"
   ]
  },
  {
   "cell_type": "markdown",
   "metadata": {},
   "source": [
    "3. Start a default cluster"
   ]
  },
  {
   "cell_type": "code",
   "execution_count": null,
   "metadata": {},
   "outputs": [],
   "source": [
    "## pick the correct helper for the environment where you are running...\n",
    "%run ./Start_Dask_Cluster_Nebari.ipynb\n",
    "# %run ./Start_Dask_Cluster_Nebari.ipynb\n",
    "# %run ./Start_Dask_Cluster_Denali.ipynb\n",
    "# %run ./Start_Dask_Cluster_Tallgrass.ipynb\n",
    "# %run ./Start_Dask_Cluster_PangeoCHS.ipynb\n"
   ]
  },
  {
   "cell_type": "markdown",
   "metadata": {},
   "source": [
    "4. Force a worker to report the credentials on their node"
   ]
  },
  {
   "cell_type": "code",
   "execution_count": null,
   "metadata": {},
   "outputs": [],
   "source": [
    "client.submit(myAWS_Credentials).result() \n",
    "## This runs the myAWS_Credentials function on a remote node worker (not in this notebook)."
   ]
  },
  {
   "cell_type": "markdown",
   "metadata": {},
   "source": [
    "5. Shut down client and cluster resources."
   ]
  },
  {
   "cell_type": "code",
   "execution_count": null,
   "metadata": {},
   "outputs": [],
   "source": [
    "client.close(); cluster.close()"
   ]
  }
 ],
 "metadata": {
  "kernelspec": {
   "display_name": "users-users-pangeo",
   "language": "python",
   "name": "conda-env-users-users-pangeo-py"
  },
  "language_info": {
   "codemirror_mode": {
    "name": "ipython",
    "version": 3
   },
   "file_extension": ".py",
   "mimetype": "text/x-python",
   "name": "python",
   "nbconvert_exporter": "python",
   "pygments_lexer": "ipython3",
   "version": "3.9.16"
  },
  "vscode": {
   "interpreter": {
    "hash": "d7ebce313f85fb1ac8949e834c83f371584cb2422d845bf1570c1220fdedc716"
   }
  }
 },
 "nbformat": 4,
 "nbformat_minor": 4
}
