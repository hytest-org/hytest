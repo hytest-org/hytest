{
 "cells": [
  {
   "cell_type": "markdown",
   "metadata": {},
   "source": [
    "# Dask cluster on nebari.esipfed.org"
   ]
  },
  {
   "cell_type": "code",
   "execution_count": 1,
   "metadata": {},
   "outputs": [
    {
     "name": "stdout",
     "output_type": "stream",
     "text": [
      "The 'cluster' object can be used to adjust cluster behavior.  i.e. 'cluster.adapt(minimum=10)'\n",
      "The 'client' object can be used to directly interact with the cluster.  i.e. 'client.submit(func)' \n",
      "The link to view the client dashboard is:\n",
      ">  https://nebari.esipfed.org/gateway/clusters/dev.9e19d01d7c404b96a8879c2bf97f9a8c/status\n"
     ]
    },
    {
     "name": "stderr",
     "output_type": "stream",
     "text": [
      "/home/conda/gzt5142/416f3e91a745a10bfa2224dc222d5c5a76a509a4c1b4e17de75c3291619635b9-20230303-202416-341785-103-pangeo-jbook/lib/python3.9/site-packages/distributed/client.py:1361: VersionMismatchWarning: Mismatched versions found\n",
      "\n",
      "+-------------+----------+-----------+---------+\n",
      "| Package     | Client   | Scheduler | Workers |\n",
      "+-------------+----------+-----------+---------+\n",
      "| dask        | 2023.3.0 | 2023.2.0  | None    |\n",
      "| distributed | 2023.3.0 | 2023.2.0  | None    |\n",
      "+-------------+----------+-----------+---------+\n",
      "  warnings.warn(version_module.VersionMismatchWarning(msg[0][\"warning\"]))\n"
     ]
    }
   ],
   "source": [
    "import os\n",
    "import logging\n",
    "\n",
    "try:\n",
    "    from dask_gateway import Gateway\n",
    "except ImportError:\n",
    "    logging.error(\"Unable to import Dask Gateway.  Are you running in a cloud compute environment?\\n\")\n",
    "    raise\n",
    "\n",
    "gateway = Gateway()\n",
    "_options = gateway.cluster_options()\n",
    "_options.conda_environment='users/users-pangeo'  ##<< this is the conda environment we use on nebari.\n",
    "_options.profile = 'Medium Worker'\n",
    "_env_to_add={}\n",
    "aws_env_vars=['AWS_ACCESS_KEY_ID',\n",
    "              'AWS_SECRET_ACCESS_KEY',\n",
    "              'AWS_SESSION_TOKEN',\n",
    "              'AWS_DEFAULT_REGION']\n",
    "for _e in aws_env_vars:\n",
    "    if _e in os.environ:\n",
    "        _env_to_add[_e] = os.environ[_e]\n",
    "_options.environment_vars = _env_to_add    \n",
    "cluster = gateway.new_cluster(_options)          ##<< create cluster via the dask gateway\n",
    "cluster.adapt(minimum=2, maximum=30)             ##<< Sets scaling parameters. \n",
    "\n",
    "client = cluster.get_client()\n",
    "\n",
    "print(\"The 'cluster' object can be used to adjust cluster behavior.  i.e. 'cluster.adapt(minimum=10)'\")\n",
    "print(\"The 'client' object can be used to directly interact with the cluster.  i.e. 'client.submit(func)' \")\n",
    "print(f\"The link to view the client dashboard is:\\n>  {client.dashboard_link}\")"
   ]
  }
 ],
 "metadata": {
  "language_info": {
   "codemirror_mode": {
    "name": "ipython",
    "version": 3
   },
   "file_extension": ".py",
   "mimetype": "text/x-python",
   "name": "python",
   "nbconvert_exporter": "python",
   "pygments_lexer": "ipython3",
   "version": "3.9.16"
  },
  "vscode": {
   "interpreter": {
    "hash": "d7ebce313f85fb1ac8949e834c83f371584cb2422d845bf1570c1220fdedc716"
   }
  },
  "widgets": {
   "application/vnd.jupyter.widget-state+json": {
    "state": {},
    "version_major": 2,
    "version_minor": 0
   }
  }
 },
 "nbformat": 4,
 "nbformat_minor": 4
}
