{
 "cells": [
  {
   "attachments": {},
   "cell_type": "markdown",
   "metadata": {},
   "source": [
    "# Hovenweep/Tallgrass HPC Dask Cluster"
   ]
  },
  {
   "cell_type": "code",
   "execution_count": null,
   "metadata": {},
   "outputs": [],
   "source": [
    "import os\n",
    "import logging\n",
    "\n",
    "from dask.distributed import Client\n",
    "from dask_jobqueue import SLURMCluster   \n",
    "\n",
    "try:\n",
    "    project = os.environ['SLURM_JOB_ACCOUNT']\n",
    "except KeyError:\n",
    "    logging.error(\"SLURM_JOB_ACCOUNT is not set in the active environment. Are you on the login node? You should not be running this there.\")\n",
    "    raise\n",
    "\n",
    "cluster = SLURMCluster(\n",
    "    account='hytest', \n",
    "    processes=1, \n",
    "    cores=1, \n",
    "    memory='8GB', \n",
    "    interface='ib0',\n",
    "    walltime='01:00:00',      \n",
    "    shared_temp_directory='/home/asnyder/tmp'\n",
    ")\n",
    "cluster.adapt(minimum=2, maximum=30)\n",
    "\n",
    "client = Client(cluster)\n",
    "\n",
    "if os.environ['SLURM_CLUSTER_NAME']=='hovenweep':\n",
    "    ood_pre = 'hw'\n",
    "elif os.environ['SLURM_CLUSTER_NAME']=='tallgrass':\n",
    "    ood_pre = 'tg'\n",
    "\n",
    "ood_dashboard_link = f\"https://{ood_pre}-ood.cr.usgs.gov/node/{os.environ['JUPYTER_SERVER_NODE']}/{os.environ['JUPYTER_SERVER_PORT']}/proxy/{client.dashboard_link.split(':')[2]}\"\n",
    "print(f'Dask Dashboard for OnDemand is available at: {ood_dashboard_link}')"
   ]
  },
  {
   "cell_type": "code",
   "execution_count": null,
   "metadata": {},
   "outputs": [],
   "source": []
  }
 ],
 "metadata": {
  "kernelspec": {
   "display_name": "",
   "name": ""
  },
  "language_info": {
   "name": "python"
  }
 },
 "nbformat": 4,
 "nbformat_minor": 4
}
