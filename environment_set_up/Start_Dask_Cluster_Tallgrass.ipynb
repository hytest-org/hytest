{
 "cells": [
  {
   "attachments": {},
   "cell_type": "markdown",
   "metadata": {},
   "source": [
    "# Tallgrass HPC Dask Cluster"
   ]
  },
  {
   "cell_type": "code",
   "execution_count": null,
   "metadata": {},
   "outputs": [],
   "source": [
    "import os\n",
    "import logging\n",
    "\n",
    "from dask.distributed import Client\n",
    "from dask_jobqueue import SLURMCluster   \n",
    "\n",
    "try:\n",
    "    project = os.environ['SLURM_JOB_ACCOUNT']\n",
    "except KeyError:\n",
    "    logging.error(\"SLURM_JOB_ACCOUNT is not set in the active environment. Are you on the login node? You should not be running this there.\")\n",
    "    raise\n",
    "\n",
    "cluster = SLURMCluster(\n",
    "    account='hytest', \n",
    "    processes=1, \n",
    "    cores=1, \n",
    "    memory='8GB', \n",
    "    interface='ib0',\n",
    "    walltime='01:00:00',      \n",
    "    shared_temp_directory='~/tmp'\n",
    ")\n",
    "cluster.adapt(minimum=2, maximum=30)\n",
    "\n",
    "client = Client(cluster)\n",
    "\n",
    "    \n",
    "print(\"The 'cluster' object can be used to adjust cluster behavior.  i.e. 'cluster.adapt(minimum=10)'\")\n",
    "print(\"The 'client' object can be used to directly interact with the cluster.  i.e. 'client.submit(func)' \")\n",
    "print(f\"The link to view the client dashboard is:\\n>  {client.dashboard_link}\")"
   ]
  },
  {
   "cell_type": "code",
   "execution_count": null,
   "metadata": {},
   "outputs": [],
   "source": []
  }
 ],
 "metadata": {
  "language_info": {
   "name": "python"
  }
 },
 "nbformat": 4,
 "nbformat_minor": 4
}
