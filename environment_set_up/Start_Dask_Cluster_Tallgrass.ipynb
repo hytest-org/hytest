{
 "cells": [
  {
   "cell_type": "markdown",
   "metadata": {},
   "source": [
    "# Help configure default dask cluster on tallgrass HPC"
   ]
  },
  {
   "cell_type": "code",
   "execution_count": null,
   "metadata": {},
   "outputs": [],
   "source": [
    "import os\n",
    "import logging\n",
    "\n",
    "from dask.distributed import Client\n",
    "from dask_jobqueue import SLURMCluster   \n",
    "\n",
    "try:\n",
    "    project = os.environ['SLURM_JOB_ACCOUNT']\n",
    "except KeyError:\n",
    "    logging.error(\"SLURM_JOB_ACCOUNT is not set in the active environment. Are you on the login node? You should not be running this there.\")\n",
    "    raise\n",
    "\n",
    "cluster = SLURMCluster(\n",
    "    processes=1, \n",
    "    cores=1, \n",
    "    memory='8GB', \n",
    "    interface='ib0',\n",
    "    project=project, \n",
    "    walltime='01:00:00',      \n",
    "    job_extra={'hint': 'multithread'},\n",
    "    shared_temp_directory='/caldera/hytest_scratch/tmp'\n",
    ")\n",
    "cluster.adapt(minimum=2, maximum=30)\n",
    "\n",
    "client = Client(cluster)\n",
    "\n",
    "    \n",
    "print(\"The 'cluster' object can be used to adjust cluster behavior.  i.e. 'cluster.adapt(minimum=10)'\")\n",
    "print(\"The 'client' object can be used to directly interact with the cluster.  i.e. 'client.submit(func)' \")\n",
    "print(f\"The link to view the client dashboard is:\\n>  {client.dashboard_link}\")"
   ]
  },
  {
   "cell_type": "code",
   "execution_count": null,
   "metadata": {},
   "outputs": [],
   "source": []
  }
 ],
 "metadata": {
  "kernelspec": {
   "display_name": "Python 3 (ipykernel)",
   "language": "python",
   "name": "python3"
  },
  "language_info": {
   "codemirror_mode": {
    "name": "ipython",
    "version": 3
   },
   "file_extension": ".py",
   "mimetype": "text/x-python",
   "name": "python",
   "nbconvert_exporter": "python",
   "pygments_lexer": "ipython3",
   "version": "3.10.8"
  },
  "vscode": {
   "interpreter": {
    "hash": "d7ebce313f85fb1ac8949e834c83f371584cb2422d845bf1570c1220fdedc716"
   }
  }
 },
 "nbformat": 4,
 "nbformat_minor": 4
}
