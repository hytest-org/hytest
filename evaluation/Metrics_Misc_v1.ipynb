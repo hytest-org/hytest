{
 "cells": [
  {
   "cell_type": "markdown",
   "metadata": {},
   "source": [
    "# Miscellaneous Metrics\n",
    "\n",
    "These are custom-defined Python functions to calculate metrics with timeseries data not found in other example metric notebooks. This notebook will briefly describe each of the metrics below, and show some results using sample data. The specific code to implement each metric is included.  This notebook can be sourced into analysis notebooks to get access to these functions natively. "
   ]
  },
  {
   "cell_type": "markdown",
   "metadata": {},
   "source": [
    "| Metric | Used on these variables | Reference |\n",
    "| ----- | ----- | ----- |\n",
    "| bias    | generally applicable | Statistical bias is where the expected value of the results differs from the true underlying quantitative parameter being estimated. |\n",
    "| mean absolute error (mae) | generally applicable | Mean absolute error is a measure of errors between paired observations expressing the same phenomenon. |\n",
    "| root mean square error (rmse)    | generally applicable | Root mean square error messures the error of a model by taking the square root of the average of squared errors. |"
   ]
  },
  {
   "cell_type": "code",
   "execution_count": null,
   "metadata": {},
   "outputs": [],
   "source": [
    "# import needed libraries\n",
    "import numpy as np\n",
    "import math\n",
    "import logging"
   ]
  },
  {
   "cell_type": "markdown",
   "metadata": {},
   "source": [
    "## Metric Functions\n"
   ]
  },
  {
   "cell_type": "markdown",
   "metadata": {},
   "source": [
    "### Bias"
   ]
  },
  {
   "cell_type": "code",
   "execution_count": null,
   "metadata": {},
   "outputs": [],
   "source": [
    "def bias(obs, est):\n",
    "    \"\"\"\n",
    "    Calculate bias between observations and estimations\n",
    "    \n",
    "    obs: observed values\n",
    "    est: estimated values\n",
    "    \n",
    "    returns:\n",
    "        vector: calculated biases\n",
    "    \"\"\"\n",
    "    return np.subtract(obs, est)"
   ]
  },
  {
   "cell_type": "markdown",
   "metadata": {},
   "source": [
    "### Mean absolute error (MAE)\n"
   ]
  },
  {
   "cell_type": "code",
   "execution_count": null,
   "metadata": {},
   "outputs": [],
   "source": [
    "def mae(obs, est):\n",
    "    \"\"\"\n",
    "    Calculate mean absolute error\n",
    "    \n",
    "    obs: observed values\n",
    "    est: estimated values\n",
    "    \n",
    "    Returns:\n",
    "        float: calculated value\n",
    "    \"\"\"\n",
    "    # number of observations\n",
    "    n = len(obs)\n",
    "    return np.divide(np.sum(np.abs(np.subtract(obs, est))), n)"
   ]
  },
  {
   "cell_type": "markdown",
   "metadata": {},
   "source": [
    "### Root mean square error (rmse)"
   ]
  },
  {
   "cell_type": "code",
   "execution_count": null,
   "metadata": {},
   "outputs": [],
   "source": [
    "def rmse(obs, est):\n",
    "    \"\"\"\n",
    "    Calculate mean absolute error\n",
    "    \n",
    "    obs: observed values\n",
    "    est: estimated values\n",
    "    \n",
    "    Returns:\n",
    "        float: calculated value\n",
    "    \"\"\"\n",
    "    return np.sqrt(np.mean(np.square(np.subtract(obs, est))))"
   ]
  }
 ],
 "metadata": {
  "language_info": {
   "name": "python"
  }
 },
 "nbformat": 4,
 "nbformat_minor": 4
}
