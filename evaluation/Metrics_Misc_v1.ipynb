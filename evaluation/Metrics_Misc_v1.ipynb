{
 "cells": [
  {
   "cell_type": "markdown",
   "metadata": {},
   "source": [
    "# Miscellaneous Metrics (v1)\n",
    "\n",
    "These are custom-defined Python functions to calculate metrics against time-series data not found in Standard Suite and DScore and used in evaluation. "
   ]
  },
  {
   "cell_type": "markdown",
   "metadata": {},
   "source": [
    "## The Metrics:\n",
    "This suite of metrics describes the NWM benchmark:\n",
    "\n",
    "| Metric | Used on these variables | Reference |\n",
    "| ----- | ----- | ----- |\n",
    "| bias    | N/A | Statistical bias is where the expected value of the results differs from the true underlying quantitative parameter being estimated. |\n",
    "| mean absolute error (mae) | N/A | Mean absolute error is a measure of errors between paired observations expressing the same phenomenon. |\n",
    "| root mean square error (rmse)    | N/A | Root mean square error messures the error of a model by taking the square root of the average of squared errors. |\n",
    "\n",
    "This notebook will briefly describe each of the above metrics, and show some results using sample data. \n",
    "The specific code to implement each metric is included.  This notebook can be sourced into analysis notebooks\n",
    "to get access to these functions natively. "
   ]
  },
  {
   "cell_type": "code",
   "execution_count": null,
   "metadata": {},
   "outputs": [],
   "source": [
    "import numpy as np\n",
    "import math\n",
    "import logging"
   ]
  },
  {
   "cell_type": "markdown",
   "metadata": {},
   "source": [
    "## Metric Definitions\n"
   ]
  },
  {
   "cell_type": "markdown",
   "metadata": {},
   "source": [
    "### Bias"
   ]
  },
  {
   "cell_type": "code",
   "execution_count": null,
   "metadata": {},
   "outputs": [],
   "source": [
    "def bias(obs, est):\n",
    "    \"\"\"\n",
    "    Calculate bias between observations and estimations\n",
    "    \n",
    "    obs: observed values\n",
    "    est: estimated values\n",
    "    \n",
    "    returns:\n",
    "        vector: calculated biases\n",
    "    \"\"\"\n",
    "    return np.subtract(obs, est)"
   ]
  },
  {
   "cell_type": "markdown",
   "metadata": {},
   "source": [
    "### Mean absolute error (MAE)\n"
   ]
  },
  {
   "cell_type": "code",
   "execution_count": null,
   "metadata": {},
   "outputs": [],
   "source": [
    "def mae(obs, est):\n",
    "    \"\"\"\n",
    "    Calculate mean absolute error\n",
    "    \n",
    "    obs: observed values\n",
    "    est: estimated values\n",
    "    \n",
    "    Returns:\n",
    "        float: calculated value\n",
    "    \"\"\"\n",
    "    # number of observations\n",
    "    n = len(obs)\n",
    "    return np.divide(np.sum(np.abs(np.subtract(obs, est))), n)"
   ]
  },
  {
   "cell_type": "markdown",
   "metadata": {},
   "source": [
    "### Root mean square error (rmse)"
   ]
  },
  {
   "cell_type": "code",
   "execution_count": null,
   "metadata": {},
   "outputs": [],
   "source": [
    "def rmse(obs, est):\n",
    "    \"\"\"\n",
    "    Calculate mean absolute error\n",
    "    \n",
    "    obs: observed values\n",
    "    est: estimated values\n",
    "    \n",
    "    Returns:\n",
    "        float: calculated value\n",
    "    \"\"\"\n",
    "    return np.sqrt(np.mean(np.square(np.subtract(obs, est))))"
   ]
  }
 ],
 "metadata": {
  "kernelspec": {
   "display_name": "Python 3 (ipykernel)",
   "language": "python",
   "name": "python3"
  },
  "language_info": {
   "codemirror_mode": {
    "name": "ipython",
    "version": 3
   },
   "file_extension": ".py",
   "mimetype": "text/x-python",
   "name": "python",
   "nbconvert_exporter": "python",
   "pygments_lexer": "ipython3",
   "version": "3.10.8"
  },
  "vscode": {
   "interpreter": {
    "hash": "d7ebce313f85fb1ac8949e834c83f371584cb2422d845bf1570c1220fdedc716"
   }
  }
 },
 "nbformat": 4,
 "nbformat_minor": 4
}
