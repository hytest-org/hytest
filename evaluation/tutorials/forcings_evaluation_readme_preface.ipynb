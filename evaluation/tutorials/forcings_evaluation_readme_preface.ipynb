{
 "cells": [
  {
   "cell_type": "markdown",
   "id": "80717d21-7566-4105-a8a6-6dde8c777576",
   "metadata": {},
   "source": [
    "# Forcings Evaluation"
   ]
  },
  {
   "cell_type": "markdown",
   "id": "6540d6c0-dbfa-44ef-84d9-f62262e24f13",
   "metadata": {},
   "source": [
    "## What are forcings?\n"
   ]
  },
  {
   "cell_type": "markdown",
   "id": "5b13dc57-de0f-4887-a496-56b287aacf4c",
   "metadata": {},
   "source": [
    "Forcings, also commonly referred to as atmospheric forcing data, are gridded time series data that consist of multiple atmospheric variables that are needed as inputs to run a land and/or hydrologic process-based models. Mostly these datasets consist of precipitation and temperature, but can contain a multitude of variables such as downwelling shortwave and longwave radiation, atmospheric pressure, specific humidity, wind speed, and much more. Forcings typically occur on a regular spatial grid and have consistent time steps (hourly, 3-hourly, daily, weekly, etc.). "
   ]
  },
  {
   "cell_type": "markdown",
   "id": "b9ed9d57-3867-4fdf-a4e6-81eaa1f98dbd",
   "metadata": {},
   "source": [
    "## Why should we evaluate forcing datasets?\n",
    "\n",
    "Evaluation of forcing datasets is useful in providing a context for hydrologic modelers to better understand whether patterns or variation in their own model output is similar to those in the forcing data used to drive their modeling application. Further, an assessment of forcing data will establish a baseline against which to evaluate future forcing datasets and/or improvements in existing ones. Additionally, evaluation of forcing datasets that does not involve the expensive process of calibrating complex hydrologic models is not only more efficient, but useful for ensuring that the most representative, most appropriate, or minimally sufficient forcing dataset is used to drive the user’s modeling application. _(From white paper prepared by the HyTEST Forcings Working Group in 2021.)_"
   ]
  },
  {
   "cell_type": "markdown",
   "id": "a443c38c-1a52-4284-a8a4-a6be7646aef9",
   "metadata": {},
   "source": [
    "## Types of forcing evaluations\n",
    "The evaluation of forcings data can be performed either directly, with some comparison to observational or reference data, or indirectly. An example of an indirect evaluation is to use multiple forcing datasets to drive a hydrological model and compare simulated outputs with observations (e.g., streamflow to gaged streamflow) to assess the influence of different forcing data on hydrologic model outputs. Indirect approaches are computationally expensive, and is sometimes difficult to pinpoint whether model performance is directly linked to different forcing datasets or tied to differences in the calibration process as a result of choosing different forcing data. Thus, direct evaluation is an excellent first step in understanding strengths and limitations of your forcing data."
   ]
  },
  {
   "cell_type": "code",
   "execution_count": null,
   "id": "6cab7357-5000-4d5a-a707-d0dd5f2afe3c",
   "metadata": {},
   "outputs": [],
   "source": []
  }
 ],
 "metadata": {
  "language_info": {
   "name": "python"
  }
 },
 "nbformat": 4,
 "nbformat_minor": 5
}
