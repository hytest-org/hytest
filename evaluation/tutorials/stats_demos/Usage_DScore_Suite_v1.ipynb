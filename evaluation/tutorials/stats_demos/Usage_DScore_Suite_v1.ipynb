{
 "cells": [
  {
   "cell_type": "markdown",
   "metadata": {},
   "source": [
    "# D-Score Suite (v1) Benchmark -- Usage Examples\n",
    "\n",
    ">_This notebook adapted from originals by Timothy Hodson and Rich Signell. See that upstream work at:_\n",
    ">* https://github.com/thodson-usgs/dscore\n",
    ">* https://github.com/USGS-python/hytest-evaluation-workflows/\n",
    "\n",
    "This notebook will demonstrate how to call the specific functions defined in the d-score metrics suite notebook (Metrics_Dscore_Suite_v1.ipynb), using a small demonstration dataset."
   ]
  },
  {
   "cell_type": "code",
   "execution_count": null,
   "metadata": {},
   "outputs": [],
   "source": [
    "import pandas as pd\n",
    "import numpy as np"
   ]
  },
  {
   "cell_type": "markdown",
   "metadata": {},
   "source": [
    "## Sample Data"
   ]
  },
  {
   "cell_type": "code",
   "execution_count": null,
   "metadata": {},
   "outputs": [],
   "source": [
    "sampleData = pd.read_csv(r\"../streamflow/NWM_Benchmark_SampleData.csv\", index_col='date', parse_dates=True).dropna()\n",
    "print(len(sampleData.index), \" Records\")"
   ]
  },
  {
   "cell_type": "markdown",
   "metadata": {},
   "source": [
    "A quick look at the table shows that this data contains time-series streamflow values for\n",
    "observed ('obs'), the NWM data model ('nwm'), and the NHM model ('nhm').  This demonstration\n",
    "dataset limits to a single gage (\"`site_no` = 01104200\")"
   ]
  },
  {
   "cell_type": "code",
   "execution_count": null,
   "metadata": {},
   "outputs": [],
   "source": [
    "sampleData.head()"
   ]
  },
  {
   "cell_type": "markdown",
   "metadata": {},
   "source": [
    "## Import Benchmark Functions\n",
    "The metric functions are defined and described in\n",
    "{doc}`/evaluation/Metrics_DScore_Suite_v1`.\n",
    "They are imported here by running that notebook from within the following cell:"
   ]
  },
  {
   "cell_type": "code",
   "execution_count": null,
   "metadata": {},
   "outputs": [],
   "source": [
    "%run ../../Metrics_DScore_Suite_v1.ipynb"
   ]
  },
  {
   "cell_type": "markdown",
   "metadata": {},
   "source": [
    "The functions are now available here, to run against our sample data:"
   ]
  },
  {
   "cell_type": "code",
   "execution_count": null,
   "metadata": {},
   "outputs": [],
   "source": [
    "# Mean Square Error\n",
    "mse(sampleData['obs'], sampleData['nwm'])"
   ]
  },
  {
   "cell_type": "code",
   "execution_count": null,
   "metadata": {},
   "outputs": [],
   "source": [
    "seasonal_mse(sampleData['obs'], sampleData['nwm'])"
   ]
  },
  {
   "cell_type": "markdown",
   "metadata": {},
   "source": [
    "## Create Composite Benchmark\n",
    "It is useful to combine several of these metrics into a single benchmark routine, which returns a pandas Series of the assembled metrics.\n",
    "\n",
    "This 'wrapper' composite benchmark also handles any transforms of the data before calling the metric functions. In this case, we will log transform the data. "
   ]
  },
  {
   "cell_type": "code",
   "execution_count": null,
   "metadata": {},
   "outputs": [],
   "source": [
    "def compute_benchmark(df):\n",
    "    \"\"\"\n",
    "    Runs several metrics against the data table in 'df'.  \n",
    "\n",
    "    NOTE: the 'obs' and 'nwm' columns must exist in df, and that nan's have already been removed.  \n",
    "    \"\"\"\n",
    "    obs = np.log(df['obs'].clip(lower=0.01)) # clip to remove zeros and negative values\n",
    "    sim = np.log(df['nwm'].clip(lower=0.01)) \n",
    "    \n",
    "    mse_ = pd.Series(\n",
    "        [ mse(obs, sim) ], \n",
    "        index=[\"mse\"], \n",
    "        dtype='float32'\n",
    "    )\n",
    "    return pd.concat([\n",
    "            mse_,\n",
    "            bias_distribution_sequence(obs, sim), \n",
    "            stl(obs, sim),\n",
    "            seasonal_mse(obs, sim),\n",
    "            quantile_mse(obs, sim)\n",
    "            ],\n",
    "        )"
   ]
  },
  {
   "cell_type": "code",
   "execution_count": null,
   "metadata": {},
   "outputs": [],
   "source": [
    "compute_benchmark(sampleData)"
   ]
  },
  {
   "cell_type": "markdown",
   "metadata": {},
   "source": [
    "## Score-Cards\n",
    "The D-score functions include an ILAMB-style scorecard function to produce a graphic scorecard from these metrics.\n",
    "> Note that a scorecard such as this is typically applied to a composite of D-score metrics computed for many gages.\n",
    "> This demos the scorecard for a single gage **as if** it were the mean of all gages in an evaluation analysis. "
   ]
  },
  {
   "cell_type": "code",
   "execution_count": null,
   "metadata": {},
   "outputs": [],
   "source": [
    "# Compute benchmark and 'score' each decomp as percent of total MSE\n",
    "bm = compute_benchmark(sampleData)\n",
    "percentage_card = pd.DataFrame(data={\n",
    "    'NWM' : ((bm / bm['mse']) * 100).round().astype(int)\n",
    "    })\n",
    "percentage_card.name=\"Percent\"  ## NOTE: `name` is a non-standard attribute for a dataframe. We use it to stash\n",
    "                                ## metadata for this dataframe which the ilamb_card_II() func will use to label things.\n",
    "percentage_card"
   ]
  },
  {
   "cell_type": "code",
   "execution_count": null,
   "metadata": {},
   "outputs": [],
   "source": [
    "n_cards=1\n",
    "fig, ax = plt.subplots(1, n_cards, figsize=(0.5+(1.5*n_cards), 3.25), dpi=150)\n",
    "ax = ilamb_card_II(percentage_card, ax)\n",
    "plt.show()"
   ]
  },
  {
   "cell_type": "code",
   "execution_count": null,
   "metadata": {},
   "outputs": [],
   "source": [
    "## if the score card has columns for multilple models.....  \n",
    "# fictitious example:\n",
    "percentage_card['XYZ'] = pd.Series([100, 20, 30, 20, 10, 50, 60, 70, 20, 10, 40, 65, 15,10,5], index=percentage_card.index)\n",
    "fig, ax = plt.subplots(1, n_cards, figsize=(0.5+(1.5*n_cards), 3.25), dpi=150)\n",
    "ax = ilamb_card_II(percentage_card, ax)\n",
    "plt.show()"
   ]
  }
 ],
 "metadata": {
  "language_info": {
   "name": "python"
  }
 },
 "nbformat": 4,
 "nbformat_minor": 4
}
