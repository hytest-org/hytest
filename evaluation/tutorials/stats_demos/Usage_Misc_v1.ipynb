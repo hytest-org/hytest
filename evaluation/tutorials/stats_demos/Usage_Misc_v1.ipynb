{
 "cells": [
  {
   "cell_type": "markdown",
   "metadata": {},
   "source": [
    "# Misc (v1) Metrics -- Usage Examples\n",
    "\n",
    "This notebook will demonstrate how to call the specific functions defined in the \n",
    "{doc}`/evaluation/Metrics_Misc_v1`\n",
    "notebook, using a small demonstration dataset."
   ]
  },
  {
   "cell_type": "code",
   "execution_count": null,
   "metadata": {},
   "outputs": [],
   "source": [
    "import pandas as pd\n",
    "import numpy as np"
   ]
  },
  {
   "cell_type": "markdown",
   "metadata": {},
   "source": [
    "## Sample Data"
   ]
  },
  {
   "cell_type": "code",
   "execution_count": null,
   "metadata": {},
   "outputs": [],
   "source": [
    "sampleData = pd.read_csv(r\"../streamflow/NWM_Benchmark_SampleData.csv\", index_col='date').dropna()\n",
    "print(len(sampleData.index), \" Records\")\n",
    "sampleData.head()"
   ]
  },
  {
   "cell_type": "markdown",
   "metadata": {},
   "source": [
    "## Import Metric Functions\n",
    "The functions are defined in an \n",
    "{doc}`/evaluation/Metrics_Misc_v1`.  \n",
    "They are imported for use here by running that notebook from within the following cell:"
   ]
  },
  {
   "cell_type": "code",
   "execution_count": null,
   "metadata": {},
   "outputs": [],
   "source": [
    "%run ../../Metrics_Misc_v1.ipynb\n",
    "# This brings functions defined in external notebook into this notebook's namespace."
   ]
  },
  {
   "cell_type": "markdown",
   "metadata": {},
   "source": [
    "The functions are now available here, to run against our sample data.  These are called with two\n",
    "arguments: an array/series of observed values and an array/series of modeled/simulated values.\n",
    "\n",
    "A couple of examples: "
   ]
  },
  {
   "cell_type": "code",
   "execution_count": null,
   "metadata": {},
   "outputs": [],
   "source": [
    "# Bias \n",
    "bias(sampleData['obs'], sampleData['nwm'])"
   ]
  },
  {
   "cell_type": "code",
   "execution_count": null,
   "metadata": {},
   "outputs": [],
   "source": [
    "# Mean absolute error\n",
    "mae(sampleData['obs'], sampleData['nwm'])"
   ]
  },
  {
   "cell_type": "code",
   "execution_count": null,
   "metadata": {},
   "outputs": [],
   "source": [
    "# Root Mean Squared Error\n",
    "rmse(sampleData['obs'], sampleData['nwm'])"
   ]
  }
 ],
 "metadata": {
  "language_info": {
   "name": "python"
  }
 },
 "nbformat": 4,
 "nbformat_minor": 4
}
