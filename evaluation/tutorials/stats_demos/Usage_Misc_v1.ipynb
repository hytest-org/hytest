{
 "cells": [
  {
   "cell_type": "markdown",
   "metadata": {},
   "source": [
    "# Misc (v1) Metrics -- Usage Examples\n",
    "\n",
    "This notebook will demonstrate how to call the specific functions defined in the \n",
    "{doc}`/evaluation/Metrics_Misc_v1`\n",
    "notebook, using a small demonstration dataset."
   ]
  },
  {
   "cell_type": "code",
   "execution_count": 1,
   "metadata": {},
   "outputs": [],
   "source": [
    "import pandas as pd\n",
    "import numpy as np"
   ]
  },
  {
   "cell_type": "markdown",
   "metadata": {},
   "source": [
    "## Sample Data"
   ]
  },
  {
   "cell_type": "code",
   "execution_count": 3,
   "metadata": {},
   "outputs": [
    {
     "name": "stdout",
     "output_type": "stream",
     "text": [
      "12145  Records\n"
     ]
    },
    {
     "data": {
      "text/html": [
       "<div>\n",
       "<style scoped>\n",
       "    .dataframe tbody tr th:only-of-type {\n",
       "        vertical-align: middle;\n",
       "    }\n",
       "\n",
       "    .dataframe tbody tr th {\n",
       "        vertical-align: top;\n",
       "    }\n",
       "\n",
       "    .dataframe thead th {\n",
       "        text-align: right;\n",
       "    }\n",
       "</style>\n",
       "<table border=\"1\" class=\"dataframe\">\n",
       "  <thead>\n",
       "    <tr style=\"text-align: right;\">\n",
       "      <th></th>\n",
       "      <th>site_no</th>\n",
       "      <th>obs</th>\n",
       "      <th>nwm</th>\n",
       "      <th>nhm</th>\n",
       "    </tr>\n",
       "    <tr>\n",
       "      <th>date</th>\n",
       "      <th></th>\n",
       "      <th></th>\n",
       "      <th></th>\n",
       "      <th></th>\n",
       "    </tr>\n",
       "  </thead>\n",
       "  <tbody>\n",
       "    <tr>\n",
       "      <th>1983-10-01</th>\n",
       "      <td>1104200</td>\n",
       "      <td>1.121347</td>\n",
       "      <td>6.175417</td>\n",
       "      <td>1.469472</td>\n",
       "    </tr>\n",
       "    <tr>\n",
       "      <th>1983-10-02</th>\n",
       "      <td>1104200</td>\n",
       "      <td>1.214793</td>\n",
       "      <td>6.250417</td>\n",
       "      <td>1.848861</td>\n",
       "    </tr>\n",
       "    <tr>\n",
       "      <th>1983-10-03</th>\n",
       "      <td>1104200</td>\n",
       "      <td>0.872159</td>\n",
       "      <td>6.215833</td>\n",
       "      <td>2.169456</td>\n",
       "    </tr>\n",
       "    <tr>\n",
       "      <th>1983-10-04</th>\n",
       "      <td>1104200</td>\n",
       "      <td>0.419089</td>\n",
       "      <td>6.105000</td>\n",
       "      <td>2.200083</td>\n",
       "    </tr>\n",
       "    <tr>\n",
       "      <th>1983-10-05</th>\n",
       "      <td>1104200</td>\n",
       "      <td>0.849505</td>\n",
       "      <td>5.952500</td>\n",
       "      <td>1.931588</td>\n",
       "    </tr>\n",
       "  </tbody>\n",
       "</table>\n",
       "</div>"
      ],
      "text/plain": [
       "            site_no       obs       nwm       nhm\n",
       "date                                             \n",
       "1983-10-01  1104200  1.121347  6.175417  1.469472\n",
       "1983-10-02  1104200  1.214793  6.250417  1.848861\n",
       "1983-10-03  1104200  0.872159  6.215833  2.169456\n",
       "1983-10-04  1104200  0.419089  6.105000  2.200083\n",
       "1983-10-05  1104200  0.849505  5.952500  1.931588"
      ]
     },
     "execution_count": 3,
     "metadata": {},
     "output_type": "execute_result"
    }
   ],
   "source": [
    "sampleData = pd.read_csv(r\"../streamflow/NWM_Benchmark_SampleData.csv\", index_col='date').dropna()\n",
    "print(len(sampleData.index), \" Records\")\n",
    "sampleData.head()"
   ]
  },
  {
   "cell_type": "markdown",
   "metadata": {},
   "source": [
    "## Import Metric Functions\n",
    "The functions are defined in an \n",
    "{doc}`/evaluation/Metrics_Misc_v1`.  \n",
    "They are imported for use here by running that notebook from within the following cell:"
   ]
  },
  {
   "cell_type": "code",
   "execution_count": 4,
   "metadata": {},
   "outputs": [],
   "source": [
    "%run ../../Metrics_Misc_v1.ipynb\n",
    "# This brings functions defined in external notebook into this notebook's namespace."
   ]
  },
  {
   "cell_type": "markdown",
   "metadata": {},
   "source": [
    "The functions are now available here, to run against our sample data.  These are called with two\n",
    "arguments: an array/series of observed values and an array/series of modeled/simulated values.\n",
    "\n",
    "A couple of examples: "
   ]
  },
  {
   "cell_type": "code",
   "execution_count": 5,
   "metadata": {},
   "outputs": [
    {
     "data": {
      "text/plain": [
       "date\n",
       "1983-10-01   -5.054069\n",
       "1983-10-02   -5.035624\n",
       "1983-10-03   -5.343674\n",
       "1983-10-04   -5.685911\n",
       "1983-10-05   -5.102994\n",
       "                ...   \n",
       "2016-12-27   -4.983273\n",
       "2016-12-28   -4.838756\n",
       "2016-12-29   -4.172836\n",
       "2016-12-30   -2.664477\n",
       "2016-12-31   -2.846861\n",
       "Length: 12145, dtype: float64"
      ]
     },
     "execution_count": 5,
     "metadata": {},
     "output_type": "execute_result"
    }
   ],
   "source": [
    "# Bias \n",
    "bias(sampleData['obs'], sampleData['nwm'])"
   ]
  },
  {
   "cell_type": "code",
   "execution_count": 6,
   "metadata": {},
   "outputs": [
    {
     "data": {
      "text/plain": [
       "5.195233308963172"
      ]
     },
     "execution_count": 6,
     "metadata": {},
     "output_type": "execute_result"
    }
   ],
   "source": [
    "# Mean absolute error\n",
    "mae(sampleData['obs'], sampleData['nwm'])"
   ]
  },
  {
   "cell_type": "code",
   "execution_count": 7,
   "metadata": {},
   "outputs": [
    {
     "data": {
      "text/plain": [
       "7.465647450245969"
      ]
     },
     "execution_count": 7,
     "metadata": {},
     "output_type": "execute_result"
    }
   ],
   "source": [
    "# Root Mean Squared Error\n",
    "rmse(sampleData['obs'], sampleData['nwm'])"
   ]
  }
 ],
 "metadata": {
  "kernelspec": {
   "display_name": "Python 3 (ipykernel)",
   "language": "python",
   "name": "python3"
  },
  "language_info": {
   "codemirror_mode": {
    "name": "ipython",
    "version": 3
   },
   "file_extension": ".py",
   "mimetype": "text/x-python",
   "name": "python",
   "nbconvert_exporter": "python",
   "pygments_lexer": "ipython3",
   "version": "3.12.0"
  },
  "vscode": {
   "interpreter": {
    "hash": "d7ebce313f85fb1ac8949e834c83f371584cb2422d845bf1570c1220fdedc716"
   }
  }
 },
 "nbformat": 4,
 "nbformat_minor": 4
}
