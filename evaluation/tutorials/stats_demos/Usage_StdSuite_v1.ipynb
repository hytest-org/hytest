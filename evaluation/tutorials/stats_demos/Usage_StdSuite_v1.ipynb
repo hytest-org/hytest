{
 "cells": [
  {
   "cell_type": "markdown",
   "metadata": {},
   "source": [
    "# Standard Suite (v1) Metrics -- Usage Examples\n",
    "\n",
    "This notebook will demonstrate how to call the specific functions defined in the \n",
    "{doc}`/evaluation/Metrics_StdSuite_v1`\n",
    "notebook, using a small demonstration dataset."
   ]
  },
  {
   "cell_type": "code",
   "execution_count": null,
   "metadata": {},
   "outputs": [],
   "source": [
    "import pandas as pd\n",
    "import numpy as np"
   ]
  },
  {
   "cell_type": "markdown",
   "metadata": {},
   "source": [
    "## Sample Data"
   ]
  },
  {
   "cell_type": "code",
   "execution_count": null,
   "metadata": {},
   "outputs": [],
   "source": [
    "sampleData = pd.read_csv(r\"../streamflow/NWM_Benchmark_SampleData.csv\", index_col='date').dropna()\n",
    "print(len(sampleData.index), \" Records\")\n",
    "sampleData.head()"
   ]
  },
  {
   "cell_type": "markdown",
   "metadata": {},
   "source": [
    "## Import Metric Functions\n",
    "The functions are defined in an \n",
    "{doc}`/evaluation/Metrics_StdSuite_v1`.  \n",
    "They are imported for use here by running that notebook from within the following cell:"
   ]
  },
  {
   "cell_type": "code",
   "execution_count": null,
   "metadata": {},
   "outputs": [],
   "source": [
    "%run ../../Metrics_StdSuite_v1.ipynb\n",
    "# This brings functions defined in external notebook into this notebook's namespace."
   ]
  },
  {
   "cell_type": "markdown",
   "metadata": {},
   "source": [
    "The functions are now available here, to run against our sample data.  These are called with two\n",
    "arguments: an array/series of observed values and an array/series of modeled/simulated values.\n",
    "\n",
    "A couple of examples: "
   ]
  },
  {
   "cell_type": "code",
   "execution_count": null,
   "metadata": {},
   "outputs": [],
   "source": [
    "# Mean Square Error\n",
    "MSE(obs=sampleData['obs'], sim=sampleData['nwm'])"
   ]
  },
  {
   "cell_type": "code",
   "execution_count": null,
   "metadata": {},
   "outputs": [],
   "source": [
    "# Kling-Gupta efficiency\n",
    "KGE(obs=sampleData['obs'], sim=sampleData['nwm'])"
   ]
  },
  {
   "cell_type": "markdown",
   "metadata": {},
   "source": [
    "## Create Composite Benchmark\n",
    "It is useful to combine several of these metrics into a single benchmark routine, which returns a \n",
    "pandas [Series](https://pandas.pydata.org/pandas-docs/stable/reference/api/pandas.Series.html) of \n",
    "the assembled metrics.\n",
    "\n",
    "This example computes those metrics which might apply to the `streamflow` variable. "
   ]
  },
  {
   "cell_type": "code",
   "execution_count": null,
   "metadata": {},
   "outputs": [],
   "source": [
    "def compute_benchmark(df):\n",
    "    obs = df['obs']\n",
    "    sim = df['nwm']\n",
    "    return pd.Series(\n",
    "        data={\n",
    "            'NSE': NSE(obs, sim),\n",
    "            'KGE': KGE(obs, sim),\n",
    "            'logNSE': logNSE(obs, sim),\n",
    "            'pbias': pbias(obs, sim),\n",
    "            'rSD': rSD(obs, sim),\n",
    "            'pearson': pearson_r(obs, sim),\n",
    "            'spearman': spearman_r(obs, sim), \n",
    "            'pBiasFMS': pBiasFMS(obs, sim),\n",
    "            'pBiasFLV': pBiasFLV(obs, sim),\n",
    "            'pBiasFHV': pBiasFHV(obs, sim)\n",
    "        },\n",
    "        name=df['site_no'].iloc[0], # special case -- 'site_no' column\n",
    "        dtype='float64'\n",
    "    )"
   ]
  },
  {
   "cell_type": "code",
   "execution_count": null,
   "metadata": {},
   "outputs": [],
   "source": [
    "compute_benchmark(sampleData)"
   ]
  },
  {
   "cell_type": "markdown",
   "metadata": {},
   "source": [
    "## Streamflow and FDC plots\n",
    "In the case of `streamflow`, the NWM standard suite offers a way to plot the Flow Duration Curve when calculating the pBias metrics per Yilmaz et al. This mechanism uses [matplotlib](https://matplotlib.org/) to implement the figures. \n",
    "\n",
    "Some examples: "
   ]
  },
  {
   "cell_type": "code",
   "execution_count": null,
   "metadata": {
    "tags": [
     "full-width"
    ]
   },
   "outputs": [],
   "source": [
    "import matplotlib.pyplot as plt\n",
    "fig, ax = plt.subplots(1, 1, figsize=(6, 3), dpi=150)\n",
    "ax = FDCplot(sampleData['obs'], sampleData['nwm'], ax, segment='mid')\n",
    "ax.set_title(\"Gage 1104200 - Mid\")\n",
    "plt.show()"
   ]
  },
  {
   "cell_type": "code",
   "execution_count": null,
   "metadata": {
    "tags": [
     "full-width"
    ]
   },
   "outputs": [],
   "source": [
    "# Same fig, but with \"segment='lo'\"\n",
    "fig, ax = plt.subplots(1, 1, figsize=(6, 3), dpi=150)\n",
    "ax = FDCplot(sampleData['obs'], sampleData['nwm'], ax, segment='lo')\n",
    "ax.set_title(\"Gage 1104200 - Low\")\n",
    "plt.show()"
   ]
  },
  {
   "cell_type": "code",
   "execution_count": null,
   "metadata": {
    "tags": [
     "full-width"
    ]
   },
   "outputs": [],
   "source": [
    "# Same fig, but with \"segment='hi'\"\n",
    "fig, ax = plt.subplots(1, 1, figsize=(6, 3), dpi=150)\n",
    "ax = FDCplot(sampleData['obs'], sampleData['nwm'], ax, segment='hi')\n",
    "ax.set_title(\"Gage 1104200 - High\")\n",
    "plt.show()"
   ]
  },
  {
   "cell_type": "markdown",
   "metadata": {},
   "source": [
    "The default behavior is to plot the Y axis log-scale, and to leave units off of the flow rate.\n",
    "If you would like to manipulate these parameters, you may adjust the `ax` after calling `FDCplot()`\n",
    "(see example, next cell). In general, any of the matplotlib parameters can be adjusted after\n",
    "`FDCplot()` in order to customize the figure."
   ]
  },
  {
   "cell_type": "code",
   "execution_count": null,
   "metadata": {
    "tags": [
     "full-width"
    ]
   },
   "outputs": [],
   "source": [
    "fig, ax = plt.subplots(1, 1, figsize=(6, 3), dpi=150)\n",
    "ax = FDCplot(sampleData['obs'], sampleData['nwm'], ax, segment='mid')\n",
    "ax.set_yscale('linear')\n",
    "ax.set_ylabel(\"Flow Rate $m^3 / s$\") # << labels can contain LaTex-style math between $ chars\n",
    "plt.show()"
   ]
  },
  {
   "cell_type": "code",
   "execution_count": null,
   "metadata": {},
   "outputs": [],
   "source": []
  }
 ],
 "metadata": {
  "kernelspec": {
   "display_name": "Python 3 (ipykernel)",
   "language": "python",
   "name": "python3"
  },
  "language_info": {
   "codemirror_mode": {
    "name": "ipython",
    "version": 3
   },
   "file_extension": ".py",
   "mimetype": "text/x-python",
   "name": "python",
   "nbconvert_exporter": "python",
   "pygments_lexer": "ipython3",
   "version": "3.12.0"
  },
  "vscode": {
   "interpreter": {
    "hash": "d7ebce313f85fb1ac8949e834c83f371584cb2422d845bf1570c1220fdedc716"
   }
  }
 },
 "nbformat": 4,
 "nbformat_minor": 4
}
